{
 "cells": [
  {
   "cell_type": "code",
   "execution_count": 1,
   "metadata": {},
   "outputs": [],
   "source": [
    "import DataFunctions\n",
    "import numpy as np"
   ]
  },
  {
   "attachments": {},
   "cell_type": "markdown",
   "metadata": {},
   "source": [
    "Overall idea of simulation: Do pairings taking into consideration current score (win-lose rate) and their geographical location. It will use an adaptation of the Swiss Pairing System, the main difference is that instead of participants having a ELO score or rating and being paired by it; we consider an objective function on the total distance travelled and find proper pairings that minimize it. This problem can be solved using networkx and the concept of a minimum weight matching.\n",
    "\n",
    "Rules per each round:\n",
    "1. Split teams by their current score (#wins)\n",
    "2. Pair in groups from the highest scoring group to lowest scoring group.\n",
    "3. Per each group, find the group of pairs that minimize the objective function.\n",
    "4. If there are odd # of teams, demote unpaired team into next scoring group. If it has been demoted before, use the next possible pairing that includes that team.\n",
    "5. If there exist unpaired teams, demote them into the next scoring group. \n",
    "6. After making all possible pairings, set distance of teams that are playing together to inf.\n",
    "7. For each pairing, if both teams have the same # of home games, pick one to be home and one to be away randomly. If one team has more # home games than the other, pick the team with the least # home games to be home, the other to be the away.\n",
    "\n",
    "Things to store in db:\n",
    "1. Each team 2022 stats.\n",
    "2. Each team # (from 0 to 131).\n",
    "3. Simulated season pairings, w-l record and h-a count.\n",
    "4. Simulated games and scores.\n",
    "\n",
    "Simulating each pairing:\n",
    "1. Use 2022 stats to predict a spread and totalpts. We use those as means.\n",
    "2. Using a normal distribution on the spread and totalpts with the standard deviation found on the model. We randomly generate a result with the simulated spread and totalpts.\n",
    "3. We use obtained values to create an score."
   ]
  },
  {
   "cell_type": "code",
   "execution_count": 2,
   "metadata": {},
   "outputs": [
    {
     "data": {
      "text/plain": [
       "array([[0.   , 2.163, 8.214, 3.776, 1.71 , 1.395, 7.126, 5.257],\n",
       "       [2.163, 0.   , 2.544, 6.078, 9.815, 9.719, 9.991, 2.937],\n",
       "       [8.214, 2.544, 0.   , 8.572, 8.502, 5.057, 3.279, 6.891],\n",
       "       [3.776, 6.078, 8.572, 0.   , 3.918, 5.491, 2.617, 1.382],\n",
       "       [1.71 , 9.815, 8.502, 3.918, 0.   , 9.648, 7.286, 4.706],\n",
       "       [1.395, 9.719, 5.057, 5.491, 9.648, 0.   , 1.127, 9.455],\n",
       "       [7.126, 9.991, 3.279, 2.617, 7.286, 1.127, 0.   , 5.557],\n",
       "       [5.257, 2.937, 6.891, 1.382, 4.706, 9.455, 5.557, 0.   ]])"
      ]
     },
     "execution_count": 2,
     "metadata": {},
     "output_type": "execute_result"
    }
   ],
   "source": [
    "#creating random distance matrix of size = 8\n",
    "nteams = 8\n",
    "\n",
    "m_dist = np.around(np.random.uniform(1,10,size=(nteams,nteams)),decimals=3)\n",
    "\n",
    "for i in range(nteams):\n",
    "    for j in range(nteams):\n",
    "        m_dist[j,i]=m_dist[i,j]\n",
    "    m_dist[i,i]=0\n",
    "\n",
    "m_dist"
   ]
  },
  {
   "cell_type": "code",
   "execution_count": 3,
   "metadata": {},
   "outputs": [
    {
     "data": {
      "text/plain": [
       "array([[0, 0, 0],\n",
       "       [1, 0, 0],\n",
       "       [2, 0, 0],\n",
       "       [3, 0, 0],\n",
       "       [4, 0, 0],\n",
       "       [5, 0, 0],\n",
       "       [6, 0, 0],\n",
       "       [7, 0, 0]])"
      ]
     },
     "execution_count": 3,
     "metadata": {},
     "output_type": "execute_result"
    }
   ],
   "source": [
    "#storing wins per team.\n",
    "curr_data = np.zeros(shape=(nteams,3),dtype=int)\n",
    "curr_data[:,0] = np.arange(nteams)\n",
    "curr_data"
   ]
  },
  {
   "cell_type": "code",
   "execution_count": 4,
   "metadata": {},
   "outputs": [
    {
     "data": {
      "text/plain": [
       "[0, 1, 2, 3, 4, 5, 6, 7]"
      ]
     },
     "execution_count": 4,
     "metadata": {},
     "output_type": "execute_result"
    }
   ],
   "source": [
    "#splitting in groups (need function here)\n",
    "sim1group0 = [x[0].astype(int) for x in curr_data if x[1]==0]\n",
    "# sim1group1 = [[x[0].astype(int),0] for x in curr_data if x[1]==1]\n",
    "sim1group0"
   ]
  },
  {
   "attachments": {},
   "cell_type": "markdown",
   "metadata": {},
   "source": [
    "We cannot find all pairs and run for all of them. That operation has time complexity O(n!) and for 130ish teams is not feasible as it is about $10^{220}$. We need to use another approach.<br>\n",
    "Algorithm procedure using networkx and Blossom algorithm (also known as Edmonds' algorithm) for the minimum weight matching."
   ]
  },
  {
   "cell_type": "code",
   "execution_count": 5,
   "metadata": {},
   "outputs": [],
   "source": [
    "import networkx as nx"
   ]
  },
  {
   "cell_type": "code",
   "execution_count": 6,
   "metadata": {},
   "outputs": [],
   "source": [
    "L = []\n",
    "G = nx.Graph()\n",
    "\n",
    "for i in sim1group0:\n",
    "    for j in sim1group0:\n",
    "        if i<j: \n",
    "            L.append((i,j,m_dist[i,j]))"
   ]
  },
  {
   "cell_type": "code",
   "execution_count": 7,
   "metadata": {},
   "outputs": [],
   "source": [
    "G.add_weighted_edges_from(L)"
   ]
  },
  {
   "cell_type": "code",
   "execution_count": 8,
   "metadata": {},
   "outputs": [
    {
     "data": {
      "text/plain": [
       "EdgeDataView([(0, 1, 2.163), (0, 2, 8.214), (0, 3, 3.776), (0, 4, 1.71), (0, 5, 1.395), (0, 6, 7.126), (0, 7, 5.257), (1, 2, 2.544), (1, 3, 6.078), (1, 4, 9.815), (1, 5, 9.719), (1, 6, 9.991), (1, 7, 2.937), (2, 3, 8.572), (2, 4, 8.502), (2, 5, 5.057), (2, 6, 3.279), (2, 7, 6.891), (3, 4, 3.918), (3, 5, 5.491), (3, 6, 2.617), (3, 7, 1.382), (4, 5, 9.648), (4, 6, 7.286), (4, 7, 4.706), (5, 6, 1.127), (5, 7, 9.455), (6, 7, 5.557)])"
      ]
     },
     "execution_count": 8,
     "metadata": {},
     "output_type": "execute_result"
    }
   ],
   "source": [
    "G.edges.data(\"weight\")"
   ]
  },
  {
   "cell_type": "code",
   "execution_count": 9,
   "metadata": {},
   "outputs": [],
   "source": [
    "matchings1g0 = nx.algorithms.matching.min_weight_matching(G)"
   ]
  },
  {
   "cell_type": "code",
   "execution_count": 10,
   "metadata": {},
   "outputs": [
    {
     "data": {
      "text/plain": [
       "[(3, 7), (1, 2), (0, 4), (6, 5)]"
      ]
     },
     "execution_count": 10,
     "metadata": {},
     "output_type": "execute_result"
    }
   ],
   "source": [
    "LM = list(matchings1g0)\n",
    "LM"
   ]
  },
  {
   "cell_type": "code",
   "execution_count": 11,
   "metadata": {},
   "outputs": [
    {
     "data": {
      "text/plain": [
       "<matplotlib.collections.LineCollection at 0x2406170fee0>"
      ]
     },
     "execution_count": 11,
     "metadata": {},
     "output_type": "execute_result"
    },
    {
     "data": {
      "image/png": "[encoded data removed]",
      "text/plain": [
       "<Figure size 640x480 with 1 Axes>"
      ]
     },
     "metadata": {},
     "output_type": "display_data"
    }
   ],
   "source": [
    "pos = nx.spring_layout(G)\n",
    "nx.draw_networkx_nodes(G,pos)\n",
    "nx.draw_networkx_edges(G,pos,edgelist=list(matchings1g0))"
   ]
  },
  {
   "cell_type": "code",
   "execution_count": 12,
   "metadata": {},
   "outputs": [
    {
     "data": {
      "text/plain": [
       "(2.937, 1.395, 8.502, 2.617)"
      ]
     },
     "execution_count": 12,
     "metadata": {},
     "output_type": "execute_result"
    }
   ],
   "source": [
    "#checking \n",
    "m_dist[1,7],m_dist[5,0],m_dist[4,2],m_dist[3,6]"
   ]
  },
  {
   "cell_type": "code",
   "execution_count": 13,
   "metadata": {},
   "outputs": [
    {
     "name": "stdout",
     "output_type": "stream",
     "text": [
      "[1.127, 1.382, 1.395, 1.71, 2.163, 2.544, 2.617, 2.937, 3.279, 3.776, 3.918, 4.706, 5.057, 5.257, 5.491, 5.557, 6.078, 6.891, 7.126, 7.286, 8.214, 8.502, 8.572, 9.455, 9.648, 9.719, 9.815, 9.991]\n"
     ]
    }
   ],
   "source": [
    "LS = sorted(np.array(L)[:,2])\n",
    "print(LS)"
   ]
  },
  {
   "cell_type": "code",
   "execution_count": 14,
   "metadata": {},
   "outputs": [
    {
     "name": "stdout",
     "output_type": "stream",
     "text": [
      "False\n"
     ]
    }
   ],
   "source": [
    "s = set(sim1group0)-set(np.array(list(matchings1g0)).flatten()) \n",
    "# to find which one goes to the next group in odd cases \n",
    "# or those unpairable teams (team has played every other team)\n",
    "if s!=set(): print(\"True\")\n",
    "else: print(\"False\")"
   ]
  },
  {
   "cell_type": "code",
   "execution_count": 15,
   "metadata": {},
   "outputs": [
    {
     "name": "stdout",
     "output_type": "stream",
     "text": [
      "3 won\n",
      "7 lose\n",
      "1 won\n",
      "2 lose\n",
      "0 won\n",
      "4 lose\n",
      "5 won\n",
      "6 lose\n"
     ]
    }
   ],
   "source": [
    "#merging all pairings\n",
    "pairingssim1 = []\n",
    "pairingssim1 +=matchings1g0\n",
    "pairingssim1\n",
    "\n",
    "#simulating matches\n",
    "for g in pairingssim1:\n",
    "    #home and away status\n",
    "    if curr_data[g[0],2] == curr_data[g[1],2]:\n",
    "        curr_data[g[np.random.randint(2)],2]+=1\n",
    "    elif curr_data[g[0],2] > curr_data[g[1],2]:\n",
    "        curr_data[g[1],2]+=1\n",
    "    else:\n",
    "        curr_data[g[0],2]+=1\n",
    "    \n",
    "    #simulating match\n",
    "    if(np.random.randint(2)):\n",
    "        curr_data[g[0],1] += 1\n",
    "        print(g[0],\"won\")\n",
    "        print(g[1],\"lose\")\n",
    "    else:\n",
    "        curr_data[g[1],1] += 1\n",
    "        print(g[1],\"won\")\n",
    "        print(g[0],\"lose\")\n",
    "    # m_dist[g[0],g[1]]=0\n",
    "    # m_dist[g[1],g[0]]=0\n",
    "    G.remove_edge(u=g[0],v=g[1])"
   ]
  },
  {
   "cell_type": "code",
   "execution_count": 16,
   "metadata": {},
   "outputs": [
    {
     "data": {
      "text/plain": [
       "array([[0, 1, 1],\n",
       "       [1, 1, 1],\n",
       "       [2, 0, 0],\n",
       "       [3, 1, 0],\n",
       "       [4, 0, 0],\n",
       "       [5, 1, 1],\n",
       "       [6, 0, 0],\n",
       "       [7, 0, 1]])"
      ]
     },
     "execution_count": 16,
     "metadata": {},
     "output_type": "execute_result"
    }
   ],
   "source": [
    "curr_data"
   ]
  },
  {
   "cell_type": "code",
   "execution_count": 17,
   "metadata": {},
   "outputs": [
    {
     "data": {
      "text/plain": [
       "[array([0, 1, 3, 5]), array([2, 4, 6, 7])]"
      ]
     },
     "execution_count": 17,
     "metadata": {},
     "output_type": "execute_result"
    }
   ],
   "source": [
    "#week 2\n",
    "sim2 = [np.array([x[0].astype(int) for x in curr_data if x[1]==1]),\n",
    "        np.array([x[0].astype(int) for x in curr_data if x[1]==0])]\n",
    "sim2"
   ]
  },
  {
   "cell_type": "code",
   "execution_count": 18,
   "metadata": {},
   "outputs": [],
   "source": [
    "Gs2g1 = G.subgraph(sim2[1])\n",
    "Gs2g0 = G.subgraph(sim2[0])"
   ]
  },
  {
   "cell_type": "code",
   "execution_count": 19,
   "metadata": {},
   "outputs": [],
   "source": [
    "matchings2g1 = nx.algorithms.matching.min_weight_matching(Gs2g1)\n",
    "matchings2g0 = nx.algorithms.matching.min_weight_matching(Gs2g0)"
   ]
  },
  {
   "cell_type": "code",
   "execution_count": 20,
   "metadata": {},
   "outputs": [
    {
     "data": {
      "text/plain": [
       "([(6, 2), (4, 7)], [(1, 3), (5, 0)])"
      ]
     },
     "execution_count": 20,
     "metadata": {},
     "output_type": "execute_result"
    }
   ],
   "source": [
    "list(matchings2g1),list(matchings2g0)"
   ]
  },
  {
   "cell_type": "code",
   "execution_count": 21,
   "metadata": {},
   "outputs": [
    {
     "name": "stdout",
     "output_type": "stream",
     "text": [
      "6 won\n",
      "2 lose\n",
      "4 won\n",
      "7 lose\n",
      "1 won\n",
      "3 lose\n",
      "5 won\n",
      "0 lose\n"
     ]
    }
   ],
   "source": [
    "#merging all pairings\n",
    "pairingssim2 = []\n",
    "pairingssim2 += matchings2g1\n",
    "pairingssim2 += matchings2g0\n",
    "\n",
    "#simulating matches\n",
    "for g in pairingssim2:\n",
    "    #home and away status\n",
    "    if curr_data[g[0],2] == curr_data[g[1],2]:\n",
    "        curr_data[g[np.random.randint(2)],2]+=1\n",
    "    elif curr_data[g[0],2] > curr_data[g[1],2]:\n",
    "        curr_data[g[1],2]+=1\n",
    "    else:\n",
    "        curr_data[g[0],2]+=1\n",
    "    \n",
    "    #simulating match\n",
    "    if(np.random.randint(2)):\n",
    "        curr_data[g[0],1] += 1\n",
    "        print(g[0],\"won\")\n",
    "        print(g[1],\"lose\")\n",
    "    else:\n",
    "        curr_data[g[1],1] += 1\n",
    "        print(g[1],\"won\")\n",
    "        print(g[0],\"lose\")\n",
    "    # m_dist[g[0],g[1]]=0\n",
    "    # m_dist[g[1],g[0]]=0\n",
    "    G.remove_edge(u=g[0],v=g[1])"
   ]
  },
  {
   "cell_type": "code",
   "execution_count": 22,
   "metadata": {},
   "outputs": [
    {
     "data": {
      "text/plain": [
       "array([[0, 1, 2],\n",
       "       [1, 2, 1],\n",
       "       [2, 0, 1],\n",
       "       [3, 1, 1],\n",
       "       [4, 1, 1],\n",
       "       [5, 2, 1],\n",
       "       [6, 1, 0],\n",
       "       [7, 0, 1]])"
      ]
     },
     "execution_count": 22,
     "metadata": {},
     "output_type": "execute_result"
    }
   ],
   "source": [
    "curr_data"
   ]
  },
  {
   "cell_type": "code",
   "execution_count": 23,
   "metadata": {},
   "outputs": [
    {
     "data": {
      "text/plain": [
       "[array([1, 5]), array([0, 3, 4, 6]), array([2, 7])]"
      ]
     },
     "execution_count": 23,
     "metadata": {},
     "output_type": "execute_result"
    }
   ],
   "source": [
    "#week 3\n",
    "sim3 = [np.array([x[0].astype(int) for x in curr_data if x[1]==2]),\n",
    "        np.array([x[0].astype(int) for x in curr_data if x[1]==1]),\n",
    "        np.array([x[0].astype(int) for x in curr_data if x[1]==0])]\n",
    "sim3"
   ]
  },
  {
   "cell_type": "code",
   "execution_count": 24,
   "metadata": {},
   "outputs": [],
   "source": [
    "Gs3g2 = G.subgraph(sim3[2])\n",
    "Gs3g1 = G.subgraph(sim3[1])\n",
    "Gs3g0 = G.subgraph(sim3[0])"
   ]
  },
  {
   "cell_type": "code",
   "execution_count": 25,
   "metadata": {},
   "outputs": [],
   "source": [
    "matchings3g2 = nx.algorithms.matching.min_weight_matching(Gs3g2)\n",
    "matchings3g1 = nx.algorithms.matching.min_weight_matching(Gs3g1)\n",
    "matchings3g0 = nx.algorithms.matching.min_weight_matching(Gs3g0)"
   ]
  },
  {
   "cell_type": "code",
   "execution_count": 26,
   "metadata": {},
   "outputs": [
    {
     "name": "stdout",
     "output_type": "stream",
     "text": [
      "2 won\n",
      "7 lose\n",
      "4 won\n",
      "3 lose\n",
      "0 won\n",
      "6 lose\n",
      "1 won\n",
      "5 lose\n"
     ]
    }
   ],
   "source": [
    "#merging all pairings\n",
    "pairingssim3 = []\n",
    "pairingssim3 += matchings3g2\n",
    "pairingssim3 += matchings3g1\n",
    "pairingssim3 += matchings3g0\n",
    "\n",
    "#simulating matches\n",
    "for g in pairingssim3:\n",
    "    #home and away status\n",
    "    if curr_data[g[0],2] == curr_data[g[1],2]:\n",
    "        curr_data[g[np.random.randint(2)],2]+=1\n",
    "    elif curr_data[g[0],2] > curr_data[g[1],2]:\n",
    "        curr_data[g[1],2]+=1\n",
    "    else:\n",
    "        curr_data[g[0],2]+=1\n",
    "    \n",
    "    #simulating match\n",
    "    if(np.random.randint(2)):\n",
    "        curr_data[g[0],1] += 1\n",
    "        print(g[0],\"won\")\n",
    "        print(g[1],\"lose\")\n",
    "    else:\n",
    "        curr_data[g[1],1] += 1\n",
    "        print(g[1],\"won\")\n",
    "        print(g[0],\"lose\")\n",
    "    # m_dist[g[0],g[1]]=0\n",
    "    # m_dist[g[1],g[0]]=0\n",
    "    G.remove_edge(u=g[0],v=g[1])"
   ]
  },
  {
   "cell_type": "code",
   "execution_count": 27,
   "metadata": {},
   "outputs": [
    {
     "data": {
      "text/plain": [
       "array([[0, 2, 2],\n",
       "       [1, 3, 1],\n",
       "       [2, 1, 2],\n",
       "       [3, 1, 1],\n",
       "       [4, 2, 2],\n",
       "       [5, 2, 2],\n",
       "       [6, 1, 1],\n",
       "       [7, 0, 1]])"
      ]
     },
     "execution_count": 27,
     "metadata": {},
     "output_type": "execute_result"
    }
   ],
   "source": [
    "curr_data"
   ]
  },
  {
   "cell_type": "code",
   "execution_count": 28,
   "metadata": {},
   "outputs": [],
   "source": [
    "# now here we need the use of functions to be able to add TEAM 1 to group 2 and TEAM 5 to group 1 as they cannot be paired by themselves.\n",
    "# for the first group, if there are issues then demote them, for the last group they have to ascend as the groups in the middle are larger."
   ]
  },
  {
   "cell_type": "code",
   "execution_count": 29,
   "metadata": {},
   "outputs": [],
   "source": [
    "# pending: make everything to functions.\n",
    "# pending: Think on how to store games and their outcomes\n",
    "# either database or simulated games on db and team record or game id."
   ]
  },
  {
   "cell_type": "code",
   "execution_count": 33,
   "metadata": {},
   "outputs": [
    {
     "name": "stdout",
     "output_type": "stream",
     "text": [
      "Round: 1\n",
      "9 won 23 lose\n",
      "6 lose 31 won\n",
      "16 won 26 lose\n",
      "7 won 20 lose\n",
      "5 lose 14 won\n",
      "12 won 19 lose\n",
      "1 won 4 lose\n",
      "30 lose 0 won\n",
      "3 won 13 lose\n",
      "29 lose 22 won\n",
      "11 lose 15 won\n",
      "10 won 25 lose\n",
      "18 won 21 lose\n",
      "17 lose 24 won\n",
      "27 lose 28 won\n",
      "2 lose 8 won\n",
      "Round: 2\n",
      "0 won 16 lose\n",
      "10 won 1 lose\n",
      "18 won 28 lose\n",
      "9 lose 14 won\n",
      "15 lose 3 won\n",
      "24 won 31 lose\n",
      "7 won 8 lose\n",
      "22 lose 12 won\n",
      "4 won 23 lose\n",
      "2 won 26 lose\n",
      "27 won 20 lose\n",
      "17 lose 29 won\n",
      "5 won 6 lose\n",
      "25 won 30 lose\n",
      "19 won 21 lose\n",
      "13 lose 11 won\n",
      "Round: 3\n",
      "7 won 12 lose\n",
      "18 won 24 lose\n",
      "3 won 10 lose\n",
      "14 lose 0 won\n",
      "17 won 23 lose\n",
      "13 won 26 lose\n",
      "6 won 30 lose\n",
      "20 lose 21 won\n",
      "1 lose 15 won\n",
      "5 won 27 lose\n",
      "22 lose 4 won\n",
      "8 lose 16 won\n",
      "29 lose 19 won\n",
      "11 won 28 lose\n",
      "2 lose 9 won\n",
      "31 lose 25 won\n",
      "Round: 4\n",
      "7 lose 0 won\n",
      "18 won 3 lose\n",
      "23 won 30 lose\n",
      "20 lose 26 won\n",
      "4 won 10 lose\n",
      "24 won 16 lose\n",
      "11 won 25 lose\n",
      "14 won 19 lose\n",
      "5 lose 9 won\n",
      "15 lose 12 won\n",
      "29 won 1 lose\n",
      "31 won 27 lose\n",
      "22 won 17 lose\n",
      "8 lose 6 won\n",
      "28 won 21 lose\n",
      "13 lose 2 won\n",
      "Round: 5\n",
      "18 won 0 lose\n",
      "30 lose 20 won\n",
      "7 lose 9 won\n",
      "11 lose 14 won\n",
      "24 lose 12 won\n",
      "4 won 3 lose\n",
      "1 lose 23 won\n",
      "8 won 26 lose\n",
      "13 lose 27 won\n",
      "17 lose 21 won\n",
      "6 lose 15 won\n",
      "2 won 10 lose\n",
      "28 won 19 lose\n",
      "31 lose 29 won\n",
      "22 lose 16 won\n",
      "5 won 25 lose\n"
     ]
    }
   ],
   "source": [
    "nteams = 32\n",
    "m_dist = np.around(np.random.uniform(1,10,size=(nteams,nteams)),decimals=3)\n",
    "\n",
    "for i in range(nteams):\n",
    "    for j in range(nteams):\n",
    "        m_dist[j,i]=m_dist[i,j]\n",
    "        if i<j: L.append((i,j,m_dist[i,j]))\n",
    "    m_dist[i,i]=0\n",
    "\n",
    "CollegeGraph = nx.Graph()\n",
    "CollegeGraph.add_weighted_edges_from(L)\n",
    "curr_data = np.zeros(shape=(nteams,3),dtype=int)\n",
    "curr_data[:,0] = np.arange(nteams)\n",
    "\n",
    "for i in range(5):\n",
    "    DataFunctions.Simulate(g=CollegeGraph,i=i,c=curr_data)"
   ]
  },
  {
   "cell_type": "code",
   "execution_count": 34,
   "metadata": {},
   "outputs": [
    {
     "data": {
      "text/plain": [
       "array([[ 0,  4,  2],\n",
       "       [ 1,  1,  2],\n",
       "       [ 2,  3,  3],\n",
       "       [ 3,  3,  2],\n",
       "       [ 4,  4,  3],\n",
       "       [ 5,  3,  3],\n",
       "       [ 6,  2,  2],\n",
       "       [ 7,  3,  2],\n",
       "       [ 8,  2,  3],\n",
       "       [ 9,  4,  2],\n",
       "       [10,  2,  3],\n",
       "       [11,  3,  3],\n",
       "       [12,  4,  3],\n",
       "       [13,  1,  3],\n",
       "       [14,  4,  2],\n",
       "       [15,  3,  2],\n",
       "       [16,  3,  3],\n",
       "       [17,  1,  3],\n",
       "       [18,  5,  2],\n",
       "       [19,  2,  2],\n",
       "       [20,  1,  3],\n",
       "       [21,  2,  2],\n",
       "       [22,  2,  3],\n",
       "       [23,  2,  2],\n",
       "       [24,  3,  2],\n",
       "       [25,  2,  2],\n",
       "       [26,  1,  2],\n",
       "       [27,  2,  3],\n",
       "       [28,  3,  3],\n",
       "       [29,  3,  2],\n",
       "       [30,  0,  3],\n",
       "       [31,  2,  3]])"
      ]
     },
     "execution_count": 34,
     "metadata": {},
     "output_type": "execute_result"
    }
   ],
   "source": [
    "curr_data"
   ]
  }
 ],
 "metadata": {
  "kernelspec": {
   "display_name": "Python 3 (ipykernel)",
   "language": "python",
   "name": "python3"
  },
  "language_info": {
   "codemirror_mode": {
    "name": "ipython",
    "version": 3
   },
   "file_extension": ".py",
   "mimetype": "text/x-python",
   "name": "python",
   "nbconvert_exporter": "python",
   "pygments_lexer": "ipython3",
   "version": "3.9.16"
  }
 },
 "nbformat": 4,
 "nbformat_minor": 2
}

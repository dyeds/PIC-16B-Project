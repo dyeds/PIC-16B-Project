{
 "cells": [
  {
   "cell_type": "code",
   "execution_count": 2,
   "metadata": {},
   "outputs": [],
   "source": [
    "import DataFunctions\n",
    "import numpy as np\n",
    "\n"
   ]
  },
  {
   "attachments": {},
   "cell_type": "markdown",
   "metadata": {},
   "source": [
    "Overall idea of simulation: Do pairings taking into consideration current score (win-lose rate) and their geographical location. It will use an adaptation of the Swiss Pairing System, the main difference is that instead of participants having a ELO score or rating and being paired by it; we consider an objective function on the total distance travelled and find proper pairings that minimize it. \n",
    "\n",
    "Tentative Objective function: $\\sum (d_i)^2 + max(d_i)^2$. This function uses L2 norm and a L2 regularization term. We have to consider a regularization term as it helps us to avoid having multiple low distances and 1 large distance. For simplicity we can remove the regularization to trial the algorithm, and then regularization.\n",
    "\n",
    "Rules per each round:\n",
    "1. Split teams by their current score (#wins)\n",
    "2. Pair from highest scoring group to lowest scoring group.\n",
    "3. Per each group, find the group of pairs that minimize the objective function.\n",
    "4. If there are odd # of teams, demote unpaired team into next scoring group. If it has been demoted before, use the next possible pairing that includes that team.\n",
    "5. If there exist unpaired teams, demote them into the next scoring group. \n",
    "6. After making all possible pairings, set distance of teams that are playing together to inf.\n",
    "7. For each pairing, if both teams have the same # of home games, pick one to be home and one to be away randomly. If one team has more # home games than the other, pick the team with the least # home games to be home, the other to be the away.\n",
    "\n",
    "Things to store in db:\n",
    "1. Each team 2022 stats.\n",
    "2. Each team # (from 0 to 131).\n",
    "3. Simulated season pairings, w-l record and h-a count.\n",
    "4. Simulated games and scores.\n",
    "\n",
    "Simulating each pairing:\n",
    "1. Use 2022 stats to predict a spread and totalpts. We use those as means.\n",
    "2. Using a normal distribution on the spread and totalpts with the standard deviation found on the model. We randomly generate a result with the simulated spread and totalpts.\n",
    "3. We use obtained values to create an score."
   ]
  },
  {
   "cell_type": "code",
   "execution_count": 4,
   "metadata": {},
   "outputs": [
    {
     "data": {
      "text/plain": [
       "array([[0.   , 2.98 , 4.498, 1.153, 1.375, 3.257, 8.012, 9.471],\n",
       "       [2.98 , 0.   , 9.78 , 1.639, 5.744, 7.128, 1.194, 6.65 ],\n",
       "       [4.498, 9.78 , 0.   , 2.93 , 4.544, 7.656, 8.781, 2.414],\n",
       "       [1.153, 1.639, 2.93 , 0.   , 8.646, 7.559, 4.643, 6.742],\n",
       "       [1.375, 5.744, 4.544, 8.646, 0.   , 2.224, 3.796, 9.647],\n",
       "       [3.257, 7.128, 7.656, 7.559, 2.224, 0.   , 1.845, 8.895],\n",
       "       [8.012, 1.194, 8.781, 4.643, 3.796, 1.845, 0.   , 9.279],\n",
       "       [9.471, 6.65 , 2.414, 6.742, 9.647, 8.895, 9.279, 0.   ]])"
      ]
     },
     "execution_count": 4,
     "metadata": {},
     "output_type": "execute_result"
    }
   ],
   "source": [
    "#creating random distance matrix of size = 8\n",
    "nteams = 8\n",
    "\n",
    "m_dist = np.around(np.random.uniform(1,10,size=(nteams,nteams)),decimals=3)\n",
    "\n",
    "for i in range(nteams):\n",
    "    for j in range(nteams):\n",
    "        m_dist[j,i]=m_dist[i,j]\n",
    "    m_dist[i,i]=0\n",
    "\n",
    "m_dist"
   ]
  },
  {
   "cell_type": "code",
   "execution_count": 5,
   "metadata": {},
   "outputs": [
    {
     "data": {
      "text/plain": [
       "array([[0, 0],\n",
       "       [1, 0],\n",
       "       [2, 0],\n",
       "       [3, 0],\n",
       "       [4, 0],\n",
       "       [5, 0],\n",
       "       [6, 0],\n",
       "       [7, 0]])"
      ]
     },
     "execution_count": 5,
     "metadata": {},
     "output_type": "execute_result"
    }
   ],
   "source": [
    "#storing wins per team.\n",
    "curr_data = np.zeros(shape=(nteams,2),dtype=int)\n",
    "curr_data[:,0] = np.arange(nteams)\n",
    "curr_data"
   ]
  },
  {
   "cell_type": "code",
   "execution_count": 6,
   "metadata": {},
   "outputs": [
    {
     "data": {
      "text/plain": [
       "array([0, 1, 2, 3, 4, 5, 6, 7])"
      ]
     },
     "execution_count": 6,
     "metadata": {},
     "output_type": "execute_result"
    }
   ],
   "source": [
    "#splitting in groups\n",
    "sim1group0 = np.array([x[0].astype(int) for x in curr_data if x[1]==0])\n",
    "# sim1group1 = [[x[0].astype(int),0] for x in curr_data if x[1]==1]\n",
    "sim1group0"
   ]
  },
  {
   "attachments": {},
   "cell_type": "markdown",
   "metadata": {},
   "source": [
    "We cannot find all pairs and run for all of them. That operation has time complexity O(n!) and for 130ish teams is not feasible as it is about $10^{220}$. We need to use another approach.<br>\n",
    "Fastest approach is done by sorting all possible distances, then picking the suitable one and remove unsuitables from the list. We only need to sort once since at the beginning all teams have to play. We should also count the # of possible matches and use that to do the sorting as well.<br><br>\n",
    "\n",
    "Algorithm procedure using networkx and Blossom algorithm (also known as Edmonds' algorithm)"
   ]
  },
  {
   "cell_type": "code",
   "execution_count": 7,
   "metadata": {},
   "outputs": [],
   "source": [
    "import networkx"
   ]
  },
  {
   "cell_type": "code",
   "execution_count": 110,
   "metadata": {},
   "outputs": [],
   "source": [
    "L = []\n",
    "for i in range(len(sim1group0)):\n",
    "    for j in range(len(sim1group0)):\n",
    "        if(i<j and m_dist[i,j]!=np.inf):\n",
    "            L.append((-np.max(sim1group0[i,1],sim1group0[j,1]),m_dist[i,j],i,j))\n",
    "\n",
    "LS = sorted(L)"
   ]
  },
  {
   "cell_type": "code",
   "execution_count": 111,
   "metadata": {},
   "outputs": [
    {
     "data": {
      "text/plain": [
       "[(0, 1.147, 2, 3),\n",
       " (0, 1.522, 0, 4),\n",
       " (0, 1.61, 3, 4),\n",
       " (0, 1.717, 1, 7),\n",
       " (0, 1.919, 2, 6),\n",
       " (0, 2.189, 3, 7),\n",
       " (0, 2.391, 1, 4),\n",
       " (0, 2.66, 4, 6),\n",
       " (0, 2.976, 4, 5),\n",
       " (0, 3.054, 0, 5),\n",
       " (0, 3.2, 0, 6),\n",
       " (0, 3.628, 4, 7),\n",
       " (0, 4.053, 2, 5),\n",
       " (0, 4.262, 6, 7),\n",
       " (0, 4.297, 5, 7),\n",
       " (0, 5.376, 3, 6),\n",
       " (0, 5.735, 2, 7),\n",
       " (0, 6.252, 0, 1),\n",
       " (0, 6.407, 0, 7),\n",
       " (0, 7.043, 1, 6),\n",
       " (0, 7.168, 1, 3),\n",
       " (0, 7.632, 0, 2),\n",
       " (0, 8.552, 3, 5),\n",
       " (0, 8.641, 5, 6),\n",
       " (0, 9.171, 1, 5),\n",
       " (0, 9.217, 1, 2),\n",
       " (0, 9.479, 2, 4),\n",
       " (0, 9.554, 0, 3)]"
      ]
     },
     "execution_count": 111,
     "metadata": {},
     "output_type": "execute_result"
    }
   ],
   "source": [
    "LS"
   ]
  },
  {
   "cell_type": "code",
   "execution_count": 103,
   "metadata": {},
   "outputs": [],
   "source": [
    "def selection(LS,group):\n",
    "    s = set(group[:,0])\n",
    "    return s"
   ]
  },
  {
   "cell_type": "code",
   "execution_count": 102,
   "metadata": {},
   "outputs": [
    {
     "data": {
      "text/plain": [
       "{0, 1, 2, 3, 4, 5, 6, 7}"
      ]
     },
     "execution_count": 102,
     "metadata": {},
     "output_type": "execute_result"
    }
   ],
   "source": [
    "selection(LS=LS,group=sim1group0)"
   ]
  }
 ],
 "metadata": {
  "kernelspec": {
   "display_name": "base",
   "language": "python",
   "name": "python3"
  },
  "language_info": {
   "codemirror_mode": {
    "name": "ipython",
    "version": 3
   },
   "file_extension": ".py",
   "mimetype": "text/x-python",
   "name": "python",
   "nbconvert_exporter": "python",
   "pygments_lexer": "ipython3",
   "version": "3.9.16"
  },
  "orig_nbformat": 4
 },
 "nbformat": 4,
 "nbformat_minor": 2
}

{
 "cells": [
  {
   "cell_type": "code",
   "execution_count": 1,
   "metadata": {},
   "outputs": [],
   "source": [
    "import DataFunctions\n",
    "import SimulationFunctions\n",
    "import numpy as np"
   ]
  },
  {
   "attachments": {},
   "cell_type": "markdown",
   "metadata": {},
   "source": [
    "Overall idea of simulation: Do pairings taking into consideration current score (win-lose rate) and their geographical location. It will use an adaptation of the Swiss Pairing System, the main difference is that instead of participants having a ELO score or rating and being paired by it; we consider an objective function on the total distance travelled and find proper pairings that minimize it. This problem can be solved using networkx and the concept of a minimum weight matching.\n",
    "\n",
    "Rules per each round:\n",
    "1. Split teams by their current score (#wins)\n",
    "2. Pair in groups from the highest scoring group to lowest scoring group.\n",
    "3. Per each group, find the group of pairs that minimize the objective function.\n",
    "4. If there are odd # of teams, demote unpaired team into next scoring group. If it has been demoted before, use the next possible pairing that includes that team.\n",
    "5. If there exist unpaired teams, demote them into the next scoring group. \n",
    "6. After making all possible pairings, set distance of teams that are playing together to inf.\n",
    "7. For each pairing, if both teams have the same # of home games, pick one to be home and one to be away randomly. If one team has more # home games than the other, pick the team with the least # home games to be home, the other to be the away.\n",
    "\n",
    "Things to store in db:\n",
    "1. Each team 2022 stats.\n",
    "2. Each team # (from 0 to 131).\n",
    "3. Simulated season pairings, w-l record and h-a count.\n",
    "4. Simulated games and scores.\n",
    "\n",
    "Simulating each pairing:\n",
    "1. Use 2022 stats to predict a spread and totalpts. We use those as means.\n",
    "2. Using a normal distribution on the spread and totalpts with the standard deviation found on the model. We randomly generate a result with the simulated spread and totalpts.\n",
    "3. We use obtained values to create an score."
   ]
  },
  {
   "cell_type": "code",
   "execution_count": 2,
   "metadata": {},
   "outputs": [
    {
     "data": {
      "text/plain": [
       "array([[0.   , 2.511, 7.91 , 5.358, 5.62 , 5.35 , 7.838, 3.999],\n",
       "       [2.511, 0.   , 3.318, 5.766, 2.041, 3.084, 2.722, 6.92 ],\n",
       "       [7.91 , 3.318, 0.   , 3.442, 6.86 , 7.04 , 6.73 , 7.679],\n",
       "       [5.358, 5.766, 3.442, 0.   , 1.718, 5.674, 6.683, 9.758],\n",
       "       [5.62 , 2.041, 6.86 , 1.718, 0.   , 7.505, 6.893, 1.913],\n",
       "       [5.35 , 3.084, 7.04 , 5.674, 7.505, 0.   , 8.833, 1.554],\n",
       "       [7.838, 2.722, 6.73 , 6.683, 6.893, 8.833, 0.   , 8.063],\n",
       "       [3.999, 6.92 , 7.679, 9.758, 1.913, 1.554, 8.063, 0.   ]])"
      ]
     },
     "execution_count": 2,
     "metadata": {},
     "output_type": "execute_result"
    }
   ],
   "source": [
    "#creating random distance matrix of size = 8\n",
    "nteams = 8\n",
    "\n",
    "m_dist = np.around(np.random.uniform(1,10,size=(nteams,nteams)),decimals=3)\n",
    "\n",
    "for i in range(nteams):\n",
    "    for j in range(nteams):\n",
    "        m_dist[j,i]=m_dist[i,j]\n",
    "    m_dist[i,i]=0\n",
    "\n",
    "m_dist"
   ]
  },
  {
   "cell_type": "code",
   "execution_count": 3,
   "metadata": {},
   "outputs": [
    {
     "data": {
      "text/plain": [
       "array([[0, 0, 0],\n",
       "       [1, 0, 0],\n",
       "       [2, 0, 0],\n",
       "       [3, 0, 0],\n",
       "       [4, 0, 0],\n",
       "       [5, 0, 0],\n",
       "       [6, 0, 0],\n",
       "       [7, 0, 0]])"
      ]
     },
     "execution_count": 3,
     "metadata": {},
     "output_type": "execute_result"
    }
   ],
   "source": [
    "#storing wins per team.\n",
    "curr_data = np.zeros(shape=(nteams,3),dtype=int)\n",
    "curr_data[:,0] = np.arange(nteams)\n",
    "curr_data"
   ]
  },
  {
   "cell_type": "code",
   "execution_count": 4,
   "metadata": {},
   "outputs": [
    {
     "data": {
      "text/plain": [
       "[0, 1, 2, 3, 4, 5, 6, 7]"
      ]
     },
     "execution_count": 4,
     "metadata": {},
     "output_type": "execute_result"
    }
   ],
   "source": [
    "#splitting in groups (need function here)\n",
    "sim1group0 = [x[0].astype(int) for x in curr_data if x[1]==0]\n",
    "# sim1group1 = [[x[0].astype(int),0] for x in curr_data if x[1]==1]\n",
    "sim1group0"
   ]
  },
  {
   "attachments": {},
   "cell_type": "markdown",
   "metadata": {},
   "source": [
    "We cannot find all pairs and run for all of them. That operation has time complexity O(n!) and for 130ish teams is not feasible as it is about $10^{220}$. We need to use another approach.<br>\n",
    "Algorithm procedure using networkx and Blossom algorithm (also known as Edmonds' algorithm) for the minimum weight matching."
   ]
  },
  {
   "cell_type": "code",
   "execution_count": 5,
   "metadata": {},
   "outputs": [],
   "source": [
    "import networkx as nx"
   ]
  },
  {
   "cell_type": "code",
   "execution_count": 6,
   "metadata": {},
   "outputs": [],
   "source": [
    "L = []\n",
    "G = nx.Graph()\n",
    "\n",
    "for i in sim1group0:\n",
    "    for j in sim1group0:\n",
    "        if i<j: \n",
    "            L.append((i,j,m_dist[i,j]))"
   ]
  },
  {
   "cell_type": "code",
   "execution_count": 7,
   "metadata": {},
   "outputs": [],
   "source": [
    "G.add_weighted_edges_from(L)"
   ]
  },
  {
   "cell_type": "code",
   "execution_count": 8,
   "metadata": {},
   "outputs": [
    {
     "data": {
      "text/plain": [
       "EdgeDataView([(0, 1, 2.511), (0, 2, 7.91), (0, 3, 5.358), (0, 4, 5.62), (0, 5, 5.35), (0, 6, 7.838), (0, 7, 3.999), (1, 2, 3.318), (1, 3, 5.766), (1, 4, 2.041), (1, 5, 3.084), (1, 6, 2.722), (1, 7, 6.92), (2, 3, 3.442), (2, 4, 6.86), (2, 5, 7.04), (2, 6, 6.73), (2, 7, 7.679), (3, 4, 1.718), (3, 5, 5.674), (3, 6, 6.683), (3, 7, 9.758), (4, 5, 7.505), (4, 6, 6.893), (4, 7, 1.913), (5, 6, 8.833), (5, 7, 1.554), (6, 7, 8.063)])"
      ]
     },
     "execution_count": 8,
     "metadata": {},
     "output_type": "execute_result"
    }
   ],
   "source": [
    "G.edges.data(\"weight\")"
   ]
  },
  {
   "cell_type": "code",
   "execution_count": 9,
   "metadata": {},
   "outputs": [],
   "source": [
    "matchings1g0 = nx.algorithms.matching.min_weight_matching(G)"
   ]
  },
  {
   "cell_type": "code",
   "execution_count": 10,
   "metadata": {},
   "outputs": [
    {
     "data": {
      "text/plain": [
       "[(0, 1), (7, 5), (2, 6), (3, 4)]"
      ]
     },
     "execution_count": 10,
     "metadata": {},
     "output_type": "execute_result"
    }
   ],
   "source": [
    "LM = list(matchings1g0)\n",
    "LM"
   ]
  },
  {
   "cell_type": "code",
   "execution_count": 11,
   "metadata": {},
   "outputs": [
    {
     "data": {
      "text/plain": [
       "<matplotlib.collections.LineCollection at 0x205a3a80ee0>"
      ]
     },
     "execution_count": 11,
     "metadata": {},
     "output_type": "execute_result"
    },
    {
     "data": {
      "image/png": "[encoded data removed]",
      "text/plain": [
       "<Figure size 640x480 with 1 Axes>"
      ]
     },
     "metadata": {},
     "output_type": "display_data"
    }
   ],
   "source": [
    "pos = nx.spring_layout(G)\n",
    "nx.draw_networkx_nodes(G,pos)\n",
    "nx.draw_networkx_edges(G,pos,edgelist=list(matchings1g0))"
   ]
  },
  {
   "cell_type": "code",
   "execution_count": 12,
   "metadata": {},
   "outputs": [
    {
     "data": {
      "text/plain": [
       "(6.92, 5.35, 6.86, 6.683)"
      ]
     },
     "execution_count": 12,
     "metadata": {},
     "output_type": "execute_result"
    }
   ],
   "source": [
    "#checking \n",
    "m_dist[1,7],m_dist[5,0],m_dist[4,2],m_dist[3,6]"
   ]
  },
  {
   "cell_type": "code",
   "execution_count": 13,
   "metadata": {},
   "outputs": [
    {
     "name": "stdout",
     "output_type": "stream",
     "text": [
      "[1.554, 1.718, 1.913, 2.041, 2.511, 2.722, 3.084, 3.318, 3.442, 3.999, 5.35, 5.358, 5.62, 5.674, 5.766, 6.683, 6.73, 6.86, 6.893, 6.92, 7.04, 7.505, 7.679, 7.838, 7.91, 8.063, 8.833, 9.758]\n"
     ]
    }
   ],
   "source": [
    "LS = sorted(np.array(L)[:,2])\n",
    "print(LS)"
   ]
  },
  {
   "cell_type": "code",
   "execution_count": 14,
   "metadata": {},
   "outputs": [
    {
     "name": "stdout",
     "output_type": "stream",
     "text": [
      "False\n"
     ]
    }
   ],
   "source": [
    "s = set(sim1group0)-set(np.array(list(matchings1g0)).flatten()) \n",
    "# to find which one goes to the next group in odd cases \n",
    "# or those unpairable teams (team has played every other team)\n",
    "if s!=set(): print(\"True\")\n",
    "else: print(\"False\")"
   ]
  },
  {
   "cell_type": "code",
   "execution_count": 15,
   "metadata": {},
   "outputs": [
    {
     "name": "stdout",
     "output_type": "stream",
     "text": [
      "1 won\n",
      "0 lose\n",
      "7 won\n",
      "5 lose\n",
      "2 won\n",
      "6 lose\n",
      "3 won\n",
      "4 lose\n"
     ]
    }
   ],
   "source": [
    "#merging all pairings\n",
    "pairingssim1 = []\n",
    "pairingssim1 +=matchings1g0\n",
    "pairingssim1\n",
    "\n",
    "#simulating matches\n",
    "for g in pairingssim1:\n",
    "    #home and away status\n",
    "    if curr_data[g[0],2] == curr_data[g[1],2]:\n",
    "        curr_data[g[np.random.randint(2)],2]+=1\n",
    "    elif curr_data[g[0],2] > curr_data[g[1],2]:\n",
    "        curr_data[g[1],2]+=1\n",
    "    else:\n",
    "        curr_data[g[0],2]+=1\n",
    "    \n",
    "    #simulating match\n",
    "    if(np.random.randint(2)):\n",
    "        curr_data[g[0],1] += 1\n",
    "        print(g[0],\"won\")\n",
    "        print(g[1],\"lose\")\n",
    "    else:\n",
    "        curr_data[g[1],1] += 1\n",
    "        print(g[1],\"won\")\n",
    "        print(g[0],\"lose\")\n",
    "    # m_dist[g[0],g[1]]=0\n",
    "    # m_dist[g[1],g[0]]=0\n",
    "    G.remove_edge(u=g[0],v=g[1])"
   ]
  },
  {
   "cell_type": "code",
   "execution_count": 16,
   "metadata": {},
   "outputs": [
    {
     "data": {
      "text/plain": [
       "array([[0, 0, 1],\n",
       "       [1, 1, 0],\n",
       "       [2, 1, 0],\n",
       "       [3, 1, 0],\n",
       "       [4, 0, 1],\n",
       "       [5, 0, 1],\n",
       "       [6, 0, 1],\n",
       "       [7, 1, 0]])"
      ]
     },
     "execution_count": 16,
     "metadata": {},
     "output_type": "execute_result"
    }
   ],
   "source": [
    "curr_data"
   ]
  },
  {
   "cell_type": "code",
   "execution_count": 17,
   "metadata": {},
   "outputs": [
    {
     "data": {
      "text/plain": [
       "[array([1, 2, 3, 7]), array([0, 4, 5, 6])]"
      ]
     },
     "execution_count": 17,
     "metadata": {},
     "output_type": "execute_result"
    }
   ],
   "source": [
    "#week 2\n",
    "sim2 = [np.array([x[0].astype(int) for x in curr_data if x[1]==1]),\n",
    "        np.array([x[0].astype(int) for x in curr_data if x[1]==0])]\n",
    "sim2"
   ]
  },
  {
   "cell_type": "code",
   "execution_count": 18,
   "metadata": {},
   "outputs": [],
   "source": [
    "Gs2g1 = G.subgraph(sim2[1])\n",
    "Gs2g0 = G.subgraph(sim2[0])"
   ]
  },
  {
   "cell_type": "code",
   "execution_count": 19,
   "metadata": {},
   "outputs": [],
   "source": [
    "matchings2g1 = nx.algorithms.matching.min_weight_matching(Gs2g1)\n",
    "matchings2g0 = nx.algorithms.matching.min_weight_matching(Gs2g0)"
   ]
  },
  {
   "cell_type": "code",
   "execution_count": 20,
   "metadata": {},
   "outputs": [
    {
     "data": {
      "text/plain": [
       "([(4, 6), (5, 0)], [(2, 3), (1, 7)])"
      ]
     },
     "execution_count": 20,
     "metadata": {},
     "output_type": "execute_result"
    }
   ],
   "source": [
    "list(matchings2g1),list(matchings2g0)"
   ]
  },
  {
   "cell_type": "code",
   "execution_count": 21,
   "metadata": {},
   "outputs": [
    {
     "name": "stdout",
     "output_type": "stream",
     "text": [
      "6 won\n",
      "4 lose\n",
      "5 won\n",
      "0 lose\n",
      "2 won\n",
      "3 lose\n",
      "1 won\n",
      "7 lose\n"
     ]
    }
   ],
   "source": [
    "#merging all pairings\n",
    "pairingssim2 = []\n",
    "pairingssim2 += matchings2g1\n",
    "pairingssim2 += matchings2g0\n",
    "\n",
    "#simulating matches\n",
    "for g in pairingssim2:\n",
    "    #home and away status\n",
    "    if curr_data[g[0],2] == curr_data[g[1],2]:\n",
    "        curr_data[g[np.random.randint(2)],2]+=1\n",
    "    elif curr_data[g[0],2] > curr_data[g[1],2]:\n",
    "        curr_data[g[1],2]+=1\n",
    "    else:\n",
    "        curr_data[g[0],2]+=1\n",
    "    \n",
    "    #simulating match\n",
    "    if(np.random.randint(2)):\n",
    "        curr_data[g[0],1] += 1\n",
    "        print(g[0],\"won\")\n",
    "        print(g[1],\"lose\")\n",
    "    else:\n",
    "        curr_data[g[1],1] += 1\n",
    "        print(g[1],\"won\")\n",
    "        print(g[0],\"lose\")\n",
    "    # m_dist[g[0],g[1]]=0\n",
    "    # m_dist[g[1],g[0]]=0\n",
    "    G.remove_edge(u=g[0],v=g[1])"
   ]
  },
  {
   "cell_type": "code",
   "execution_count": 22,
   "metadata": {},
   "outputs": [
    {
     "data": {
      "text/plain": [
       "array([[0, 0, 2],\n",
       "       [1, 2, 1],\n",
       "       [2, 2, 0],\n",
       "       [3, 1, 1],\n",
       "       [4, 0, 1],\n",
       "       [5, 1, 1],\n",
       "       [6, 1, 2],\n",
       "       [7, 1, 0]])"
      ]
     },
     "execution_count": 22,
     "metadata": {},
     "output_type": "execute_result"
    }
   ],
   "source": [
    "curr_data"
   ]
  },
  {
   "cell_type": "code",
   "execution_count": 23,
   "metadata": {},
   "outputs": [
    {
     "data": {
      "text/plain": [
       "[array([1, 2]), array([3, 5, 6, 7]), array([0, 4])]"
      ]
     },
     "execution_count": 23,
     "metadata": {},
     "output_type": "execute_result"
    }
   ],
   "source": [
    "#week 3\n",
    "sim3 = [np.array([x[0].astype(int) for x in curr_data if x[1]==2]),\n",
    "        np.array([x[0].astype(int) for x in curr_data if x[1]==1]),\n",
    "        np.array([x[0].astype(int) for x in curr_data if x[1]==0])]\n",
    "sim3"
   ]
  },
  {
   "cell_type": "code",
   "execution_count": 24,
   "metadata": {},
   "outputs": [],
   "source": [
    "Gs3g2 = G.subgraph(sim3[2])\n",
    "Gs3g1 = G.subgraph(sim3[1])\n",
    "Gs3g0 = G.subgraph(sim3[0])"
   ]
  },
  {
   "cell_type": "code",
   "execution_count": 25,
   "metadata": {},
   "outputs": [],
   "source": [
    "matchings3g2 = nx.algorithms.matching.min_weight_matching(Gs3g2)\n",
    "matchings3g1 = nx.algorithms.matching.min_weight_matching(Gs3g1)\n",
    "matchings3g0 = nx.algorithms.matching.min_weight_matching(Gs3g0)"
   ]
  },
  {
   "cell_type": "code",
   "execution_count": 26,
   "metadata": {},
   "outputs": [
    {
     "name": "stdout",
     "output_type": "stream",
     "text": [
      "4 won\n",
      "0 lose\n",
      "3 won\n",
      "5 lose\n",
      "6 won\n",
      "7 lose\n",
      "1 won\n",
      "2 lose\n"
     ]
    }
   ],
   "source": [
    "#merging all pairings\n",
    "pairingssim3 = []\n",
    "pairingssim3 += matchings3g2\n",
    "pairingssim3 += matchings3g1\n",
    "pairingssim3 += matchings3g0\n",
    "\n",
    "#simulating matches\n",
    "for g in pairingssim3:\n",
    "    #home and away status\n",
    "    if curr_data[g[0],2] == curr_data[g[1],2]:\n",
    "        curr_data[g[np.random.randint(2)],2]+=1\n",
    "    elif curr_data[g[0],2] > curr_data[g[1],2]:\n",
    "        curr_data[g[1],2]+=1\n",
    "    else:\n",
    "        curr_data[g[0],2]+=1\n",
    "    \n",
    "    #simulating match\n",
    "    if(np.random.randint(2)):\n",
    "        curr_data[g[0],1] += 1\n",
    "        print(g[0],\"won\")\n",
    "        print(g[1],\"lose\")\n",
    "    else:\n",
    "        curr_data[g[1],1] += 1\n",
    "        print(g[1],\"won\")\n",
    "        print(g[0],\"lose\")\n",
    "    # m_dist[g[0],g[1]]=0\n",
    "    # m_dist[g[1],g[0]]=0\n",
    "    G.remove_edge(u=g[0],v=g[1])"
   ]
  },
  {
   "cell_type": "code",
   "execution_count": 27,
   "metadata": {},
   "outputs": [
    {
     "data": {
      "text/plain": [
       "array([[0, 0, 2],\n",
       "       [1, 3, 1],\n",
       "       [2, 2, 1],\n",
       "       [3, 2, 1],\n",
       "       [4, 1, 2],\n",
       "       [5, 1, 2],\n",
       "       [6, 2, 2],\n",
       "       [7, 1, 1]])"
      ]
     },
     "execution_count": 27,
     "metadata": {},
     "output_type": "execute_result"
    }
   ],
   "source": [
    "curr_data"
   ]
  },
  {
   "cell_type": "code",
   "execution_count": 28,
   "metadata": {},
   "outputs": [],
   "source": [
    "# now here we need the use of functions to be able to add TEAM 1 to group 2 and TEAM 5 to group 1 as they cannot be paired by themselves.\n",
    "# for the first group, if there are issues then demote them, for the last group they have to ascend as the groups in the middle are larger."
   ]
  },
  {
   "cell_type": "code",
   "execution_count": 29,
   "metadata": {},
   "outputs": [],
   "source": [
    "# pending: make everything to functions.\n",
    "# pending: Think on how to store games and their outcomes\n",
    "# either database or simulated games on db and team record or game id."
   ]
  },
  {
   "cell_type": "code",
   "execution_count": 30,
   "metadata": {},
   "outputs": [],
   "source": [
    "# Need: 10 weeks season.\n",
    "# format:\n",
    "\n",
    "# 1 create graph G = nx.Graph, G.add_weighted_edges_from(L)\n",
    "# 2 run: for i in range(10): Simulate(G,i,curr_data)\n",
    "\n",
    "#  Simulate(G,i,curr_data) has to:\n",
    "# 1. Split in i groups, add them in a list. \n",
    "# 2. Do the pairings in order 0,-1,1,-2,2,...\n",
    "# For each pairing: Run pairing, add the unpaired teams into the next group.\n",
    "# 3. Add all pairings in a list and simulate games\n",
    "# 4. Store results in db"
   ]
  },
  {
   "cell_type": "code",
   "execution_count": 31,
   "metadata": {},
   "outputs": [],
   "source": [
    "import SimulationFunctions"
   ]
  },
  {
   "cell_type": "code",
   "execution_count": 32,
   "metadata": {},
   "outputs": [
    {
     "name": "stdout",
     "output_type": "stream",
     "text": [
      "4 won 6 lose\n",
      "2 lose 5 won\n",
      "7 lose 1 won\n",
      "3 lose 0 won\n"
     ]
    },
    {
     "data": {
      "text/plain": [
       "array([[0, 1, 1],\n",
       "       [1, 1, 1],\n",
       "       [2, 0, 1],\n",
       "       [3, 0, 0],\n",
       "       [4, 1, 0],\n",
       "       [5, 1, 0],\n",
       "       [6, 0, 1],\n",
       "       [7, 0, 0]])"
      ]
     },
     "execution_count": 32,
     "metadata": {},
     "output_type": "execute_result"
    }
   ],
   "source": [
    "nteams = 8\n",
    "m_dist = np.around(np.random.uniform(1,10,size=(nteams,nteams)),decimals=3)\n",
    "\n",
    "for i in range(nteams):\n",
    "    for j in range(nteams):\n",
    "        m_dist[j,i]=m_dist[i,j]\n",
    "        if i<j: L.append((i,j,m_dist[i,j]))\n",
    "    m_dist[i,i]=0\n",
    "\n",
    "CollegeGraph = nx.Graph()\n",
    "CollegeGraph.add_weighted_edges_from(L)\n",
    "curr_data = np.zeros(shape=(nteams,3),dtype=int)\n",
    "curr_data[:,0] = np.arange(nteams)\n",
    "\n",
    "for i in range(3):\n",
    "    SimulationFunctions.Simulate(g=CollegeGraph,i=i,c=curr_data)\n",
    "\n",
    "curr_data"
   ]
  }
 ],
 "metadata": {
  "kernelspec": {
   "display_name": "Python 3 (ipykernel)",
   "language": "python",
   "name": "python3"
  },
  "language_info": {
   "codemirror_mode": {
    "name": "ipython",
    "version": 3
   },
   "file_extension": ".py",
   "mimetype": "text/x-python",
   "name": "python",
   "nbconvert_exporter": "python",
   "pygments_lexer": "ipython3",
   "version": "3.9.16"
  }
 },
 "nbformat": 4,
 "nbformat_minor": 2
}

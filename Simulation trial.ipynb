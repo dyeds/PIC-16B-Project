{
 "cells": [
  {
   "cell_type": "code",
   "execution_count": 1,
   "metadata": {},
   "outputs": [],
   "source": [
    "import DataFunctions\n",
    "import numpy as np"
   ]
  },
  {
   "attachments": {},
   "cell_type": "markdown",
   "metadata": {},
   "source": [
    "Overall idea of simulation: Do pairings taking into consideration current score (win-lose rate) and their geographical location. It will use an adaptation of the Swiss Pairing System, the main difference is that instead of participants having a ELO score or rating and being paired by it; we consider an objective function on the total distance travelled and find proper pairings that minimize it. \n",
    "\n",
    "Tentative Objective function: $\\sum (d_i)^2 + max(d_i)^2$. This function uses L2 norm and a L2 regularization term. We have to consider a regularization term as it helps us to avoid having multiple low distances and 1 large distance. For simplicity we can remove the regularization to trial the algorithm, and then regularization.\n",
    "\n",
    "Rules per each round:\n",
    "1. Split teams by their current score (#wins)\n",
    "2. Pair in groups from the highest scoring group to lowest scoring group.\n",
    "3. Per each group, find the group of pairs that minimize the objective function.\n",
    "4. If there are odd # of teams, demote unpaired team into next scoring group. If it has been demoted before, use the next possible pairing that includes that team.\n",
    "5. If there exist unpaired teams, demote them into the next scoring group. \n",
    "6. After making all possible pairings, set distance of teams that are playing together to inf.\n",
    "7. For each pairing, if both teams have the same # of home games, pick one to be home and one to be away randomly. If one team has more # home games than the other, pick the team with the least # home games to be home, the other to be the away.\n",
    "\n",
    "Things to store in db:\n",
    "1. Each team 2022 stats.\n",
    "2. Each team # (from 0 to 131).\n",
    "3. Simulated season pairings, w-l record and h-a count.\n",
    "4. Simulated games and scores.\n",
    "\n",
    "Simulating each pairing:\n",
    "1. Use 2022 stats to predict a spread and totalpts. We use those as means.\n",
    "2. Using a normal distribution on the spread and totalpts with the standard deviation found on the model. We randomly generate a result with the simulated spread and totalpts.\n",
    "3. We use obtained values to create an score."
   ]
  },
  {
   "cell_type": "code",
   "execution_count": 2,
   "metadata": {},
   "outputs": [
    {
     "data": {
      "text/plain": [
       "array([[0.   , 1.078, 6.913, 5.406, 2.767, 4.544, 1.206, 6.488],\n",
       "       [1.078, 0.   , 2.796, 2.132, 1.478, 9.621, 7.083, 5.133],\n",
       "       [6.913, 2.796, 0.   , 7.162, 9.279, 6.092, 7.117, 1.085],\n",
       "       [5.406, 2.132, 7.162, 0.   , 7.261, 8.916, 3.25 , 9.203],\n",
       "       [2.767, 1.478, 9.279, 7.261, 0.   , 1.818, 1.688, 2.682],\n",
       "       [4.544, 9.621, 6.092, 8.916, 1.818, 0.   , 3.154, 4.136],\n",
       "       [1.206, 7.083, 7.117, 3.25 , 1.688, 3.154, 0.   , 6.024],\n",
       "       [6.488, 5.133, 1.085, 9.203, 2.682, 4.136, 6.024, 0.   ]])"
      ]
     },
     "execution_count": 2,
     "metadata": {},
     "output_type": "execute_result"
    }
   ],
   "source": [
    "#creating random distance matrix of size = 8\n",
    "nteams = 8\n",
    "\n",
    "m_dist = np.around(np.random.uniform(1,10,size=(nteams,nteams)),decimals=3)\n",
    "\n",
    "for i in range(nteams):\n",
    "    for j in range(nteams):\n",
    "        m_dist[j,i]=m_dist[i,j]\n",
    "    m_dist[i,i]=0\n",
    "\n",
    "m_dist"
   ]
  },
  {
   "cell_type": "code",
   "execution_count": 3,
   "metadata": {},
   "outputs": [
    {
     "data": {
      "text/plain": [
       "array([[0, 0, 0],\n",
       "       [1, 0, 0],\n",
       "       [2, 0, 0],\n",
       "       [3, 0, 0],\n",
       "       [4, 0, 0],\n",
       "       [5, 0, 0],\n",
       "       [6, 0, 0],\n",
       "       [7, 0, 0]])"
      ]
     },
     "execution_count": 3,
     "metadata": {},
     "output_type": "execute_result"
    }
   ],
   "source": [
    "#storing wins per team.\n",
    "curr_data = np.zeros(shape=(nteams,3),dtype=int)\n",
    "curr_data[:,0] = np.arange(nteams)\n",
    "curr_data"
   ]
  },
  {
   "cell_type": "code",
   "execution_count": 4,
   "metadata": {},
   "outputs": [
    {
     "data": {
      "text/plain": [
       "array([0, 1, 2, 3, 4, 5, 6, 7])"
      ]
     },
     "execution_count": 4,
     "metadata": {},
     "output_type": "execute_result"
    }
   ],
   "source": [
    "#splitting in groups (need function here)\n",
    "sim1group0 = np.array([x[0].astype(int) for x in curr_data if x[1]==0])\n",
    "# sim1group1 = [[x[0].astype(int),0] for x in curr_data if x[1]==1]\n",
    "sim1group0"
   ]
  },
  {
   "attachments": {},
   "cell_type": "markdown",
   "metadata": {},
   "source": [
    "We cannot find all pairs and run for all of them. That operation has time complexity O(n!) and for 130ish teams is not feasible as it is about $10^{220}$. We need to use another approach.<br>\n",
    "Fastest approach is done by sorting all possible distances, then picking the suitable one and remove unsuitables from the list. We only need to sort once since at the beginning all teams have to play. We should also count the # of possible matches and use that to do the sorting as well.<br><br>\n",
    "\n",
    "Algorithm procedure using networkx and Blossom algorithm (also known as Edmonds' algorithm)"
   ]
  },
  {
   "cell_type": "code",
   "execution_count": 5,
   "metadata": {},
   "outputs": [],
   "source": [
    "import networkx as nx"
   ]
  },
  {
   "cell_type": "code",
   "execution_count": 6,
   "metadata": {},
   "outputs": [],
   "source": [
    "L = []\n",
    "G = nx.Graph()\n",
    "\n",
    "for i in sim1group0:\n",
    "    for j in sim1group0:\n",
    "        if i<j: \n",
    "            L.append((i,j,m_dist[i,j]))"
   ]
  },
  {
   "cell_type": "code",
   "execution_count": 7,
   "metadata": {},
   "outputs": [],
   "source": [
    "G.add_weighted_edges_from(L)"
   ]
  },
  {
   "cell_type": "code",
   "execution_count": 8,
   "metadata": {},
   "outputs": [
    {
     "data": {
      "text/plain": [
       "EdgeDataView([(0, 1, 1.078), (0, 2, 6.913), (0, 3, 5.406), (0, 4, 2.767), (0, 5, 4.544), (0, 6, 1.206), (0, 7, 6.488), (1, 2, 2.796), (1, 3, 2.132), (1, 4, 1.478), (1, 5, 9.621), (1, 6, 7.083), (1, 7, 5.133), (2, 3, 7.162), (2, 4, 9.279), (2, 5, 6.092), (2, 6, 7.117), (2, 7, 1.085), (3, 4, 7.261), (3, 5, 8.916), (3, 6, 3.25), (3, 7, 9.203), (4, 5, 1.818), (4, 6, 1.688), (4, 7, 2.682), (5, 6, 3.154), (5, 7, 4.136), (6, 7, 6.024)])"
      ]
     },
     "execution_count": 8,
     "metadata": {},
     "output_type": "execute_result"
    }
   ],
   "source": [
    "G.edges.data(\"weight\")"
   ]
  },
  {
   "cell_type": "code",
   "execution_count": 9,
   "metadata": {},
   "outputs": [],
   "source": [
    "matchings1g0 = nx.algorithms.matching.min_weight_matching(G)"
   ]
  },
  {
   "cell_type": "code",
   "execution_count": 10,
   "metadata": {},
   "outputs": [
    {
     "data": {
      "text/plain": [
       "[(4, 5), (1, 3), (2, 7), (0, 6)]"
      ]
     },
     "execution_count": 10,
     "metadata": {},
     "output_type": "execute_result"
    }
   ],
   "source": [
    "list(matchings1g0)"
   ]
  },
  {
   "cell_type": "code",
   "execution_count": 11,
   "metadata": {},
   "outputs": [
    {
     "data": {
      "text/plain": [
       "(9.203, 2.796, 2.767, 3.154)"
      ]
     },
     "execution_count": 11,
     "metadata": {},
     "output_type": "execute_result"
    }
   ],
   "source": [
    "#checking \n",
    "m_dist[3,7],m_dist[1,2],m_dist[0,4],m_dist[5,6]"
   ]
  },
  {
   "cell_type": "code",
   "execution_count": 12,
   "metadata": {},
   "outputs": [
    {
     "name": "stdout",
     "output_type": "stream",
     "text": [
      "[1.078, 1.085, 1.206, 1.478, 1.688, 1.818, 2.132, 2.682, 2.767, 2.796, 3.154, 3.25, 4.136, 4.544, 5.133, 5.406, 6.024, 6.092, 6.488, 6.913, 7.083, 7.117, 7.162, 7.261, 8.916, 9.203, 9.279, 9.621]\n"
     ]
    }
   ],
   "source": [
    "LS = sorted(np.array(L)[:,2])\n",
    "print(LS)"
   ]
  },
  {
   "cell_type": "code",
   "execution_count": 13,
   "metadata": {},
   "outputs": [
    {
     "data": {
      "text/plain": [
       "set()"
      ]
     },
     "execution_count": 13,
     "metadata": {},
     "output_type": "execute_result"
    }
   ],
   "source": [
    "set(sim1group0)-set(np.array(list(matchings1g0)).flatten()) \n",
    "# to find which one goes to the next group in odd cases \n",
    "# or those unpairable teams (team has played every other team)"
   ]
  },
  {
   "cell_type": "code",
   "execution_count": 14,
   "metadata": {},
   "outputs": [
    {
     "name": "stdout",
     "output_type": "stream",
     "text": [
      "4 won\n",
      "5 lose\n",
      "1 won\n",
      "3 lose\n",
      "7 won\n",
      "2 lose\n",
      "0 won\n",
      "6 lose\n"
     ]
    }
   ],
   "source": [
    "#merging all pairings\n",
    "pairingssim1 = []\n",
    "pairingssim1 +=matchings1g0\n",
    "pairingssim1\n",
    "\n",
    "#simulating matches\n",
    "for g in pairingssim1:\n",
    "    #home and away status\n",
    "    if curr_data[g[0],2] == curr_data[g[1],2]:\n",
    "        curr_data[g[np.random.randint(2)],2]+=1\n",
    "    elif curr_data[g[0],2] > curr_data[g[1],2]:\n",
    "        curr_data[g[1],2]+=1\n",
    "    else:\n",
    "        curr_data[g[0],2]+=1\n",
    "    \n",
    "    #simulating match\n",
    "    if(np.random.randint(2)):\n",
    "        curr_data[g[0],1] += 1\n",
    "        print(g[0],\"won\")\n",
    "        print(g[1],\"lose\")\n",
    "    else:\n",
    "        curr_data[g[1],1] += 1\n",
    "        print(g[1],\"won\")\n",
    "        print(g[0],\"lose\")\n",
    "    m_dist[g[0],g[1]]=0\n",
    "    m_dist[g[1],g[0]]=0"
   ]
  },
  {
   "cell_type": "code",
   "execution_count": 15,
   "metadata": {},
   "outputs": [
    {
     "data": {
      "text/plain": [
       "array([[0, 1, 1],\n",
       "       [1, 1, 0],\n",
       "       [2, 0, 0],\n",
       "       [3, 0, 1],\n",
       "       [4, 1, 0],\n",
       "       [5, 0, 1],\n",
       "       [6, 0, 0],\n",
       "       [7, 1, 1]])"
      ]
     },
     "execution_count": 15,
     "metadata": {},
     "output_type": "execute_result"
    }
   ],
   "source": [
    "curr_data"
   ]
  },
  {
   "cell_type": "code",
   "execution_count": 16,
   "metadata": {},
   "outputs": [
    {
     "data": {
      "text/plain": [
       "[array([0, 1, 4, 7]), array([2, 3, 5, 6])]"
      ]
     },
     "execution_count": 16,
     "metadata": {},
     "output_type": "execute_result"
    }
   ],
   "source": [
    "#week 2\n",
    "sim2 = [np.array([x[0].astype(int) for x in curr_data if x[1]==1]),\n",
    "        np.array([x[0].astype(int) for x in curr_data if x[1]==0])]\n",
    "sim2"
   ]
  },
  {
   "cell_type": "code",
   "execution_count": 17,
   "metadata": {},
   "outputs": [],
   "source": [
    "Gs2g1 = G.subgraph(sim2[1])\n",
    "Gs2g0 = G.subgraph(sim2[0])"
   ]
  },
  {
   "cell_type": "code",
   "execution_count": 18,
   "metadata": {},
   "outputs": [],
   "source": [
    "matchings2g1 = nx.algorithms.matching.min_weight_matching(Gs2g1)\n",
    "matchings2g0 = nx.algorithms.matching.min_weight_matching(Gs2g0)"
   ]
  },
  {
   "cell_type": "code",
   "execution_count": 19,
   "metadata": {},
   "outputs": [
    {
     "data": {
      "text/plain": [
       "([(6, 3), (5, 2)], [(1, 0), (4, 7)])"
      ]
     },
     "execution_count": 19,
     "metadata": {},
     "output_type": "execute_result"
    }
   ],
   "source": [
    "list(matchings2g1),list(matchings2g0)"
   ]
  },
  {
   "cell_type": "code",
   "execution_count": 20,
   "metadata": {},
   "outputs": [
    {
     "name": "stdout",
     "output_type": "stream",
     "text": [
      "3 won\n",
      "6 lose\n",
      "2 won\n",
      "5 lose\n",
      "1 won\n",
      "0 lose\n",
      "7 won\n",
      "4 lose\n"
     ]
    }
   ],
   "source": [
    "#merging all pairings\n",
    "pairingssim2 = []\n",
    "pairingssim2 += matchings2g1\n",
    "pairingssim2 += matchings2g0\n",
    "\n",
    "#simulating matches\n",
    "for g in pairingssim2:\n",
    "    #home and away status\n",
    "    if curr_data[g[0],2] == curr_data[g[1],2]:\n",
    "        curr_data[g[np.random.randint(2)],2]+=1\n",
    "    elif curr_data[g[0],2] > curr_data[g[1],2]:\n",
    "        curr_data[g[1],2]+=1\n",
    "    else:\n",
    "        curr_data[g[0],2]+=1\n",
    "    \n",
    "    #simulating match\n",
    "    if(np.random.randint(2)):\n",
    "        curr_data[g[0],1] += 1\n",
    "        print(g[0],\"won\")\n",
    "        print(g[1],\"lose\")\n",
    "    else:\n",
    "        curr_data[g[1],1] += 1\n",
    "        print(g[1],\"won\")\n",
    "        print(g[0],\"lose\")\n",
    "    m_dist[g[0],g[1]]=0\n",
    "    m_dist[g[1],g[0]]=0"
   ]
  },
  {
   "cell_type": "code",
   "execution_count": 21,
   "metadata": {},
   "outputs": [
    {
     "data": {
      "text/plain": [
       "array([[0, 1, 1],\n",
       "       [1, 2, 1],\n",
       "       [2, 1, 1],\n",
       "       [3, 1, 1],\n",
       "       [4, 1, 1],\n",
       "       [5, 0, 1],\n",
       "       [6, 0, 1],\n",
       "       [7, 2, 1]])"
      ]
     },
     "execution_count": 21,
     "metadata": {},
     "output_type": "execute_result"
    }
   ],
   "source": [
    "curr_data"
   ]
  },
  {
   "cell_type": "code",
   "execution_count": 23,
   "metadata": {},
   "outputs": [
    {
     "data": {
      "text/plain": [
       "[array([1, 7]), array([0, 2, 3, 4]), array([5, 6])]"
      ]
     },
     "execution_count": 23,
     "metadata": {},
     "output_type": "execute_result"
    }
   ],
   "source": [
    "#week 3\n",
    "sim3 = [np.array([x[0].astype(int) for x in curr_data if x[1]==2]),\n",
    "        np.array([x[0].astype(int) for x in curr_data if x[1]==1]),\n",
    "        np.array([x[0].astype(int) for x in curr_data if x[1]==0])]\n",
    "sim3"
   ]
  },
  {
   "cell_type": "code",
   "execution_count": 24,
   "metadata": {},
   "outputs": [],
   "source": [
    "Gs3g2 = G.subgraph(sim3[2])\n",
    "Gs3g1 = G.subgraph(sim3[1])\n",
    "Gs3g0 = G.subgraph(sim3[0])"
   ]
  },
  {
   "cell_type": "code",
   "execution_count": 25,
   "metadata": {},
   "outputs": [],
   "source": [
    "matchings3g2 = nx.algorithms.matching.min_weight_matching(Gs3g2)\n",
    "matchings3g1 = nx.algorithms.matching.min_weight_matching(Gs3g1)\n",
    "matchings3g0 = nx.algorithms.matching.min_weight_matching(Gs3g0)"
   ]
  },
  {
   "cell_type": "code",
   "execution_count": 26,
   "metadata": {},
   "outputs": [
    {
     "name": "stdout",
     "output_type": "stream",
     "text": [
      "6 won\n",
      "3 lose\n",
      "2 won\n",
      "5 lose\n",
      "1 won\n",
      "0 lose\n",
      "4 won\n",
      "7 lose\n"
     ]
    }
   ],
   "source": [
    "#merging all pairings\n",
    "pairingssim3 = []\n",
    "pairingssim3 += matchings3g2\n",
    "pairingssim3 += matchings3g1\n",
    "pairingssim3 += matchings3g0\n",
    "\n",
    "#simulating matches\n",
    "for g in pairingssim2:\n",
    "    #home and away status\n",
    "    if curr_data[g[0],2] == curr_data[g[1],2]:\n",
    "        curr_data[g[np.random.randint(2)],2]+=1\n",
    "    elif curr_data[g[0],2] > curr_data[g[1],2]:\n",
    "        curr_data[g[1],2]+=1\n",
    "    else:\n",
    "        curr_data[g[0],2]+=1\n",
    "    \n",
    "    #simulating match\n",
    "    if(np.random.randint(2)):\n",
    "        curr_data[g[0],1] += 1\n",
    "        print(g[0],\"won\")\n",
    "        print(g[1],\"lose\")\n",
    "    else:\n",
    "        curr_data[g[1],1] += 1\n",
    "        print(g[1],\"won\")\n",
    "        print(g[0],\"lose\")\n",
    "    m_dist[g[0],g[1]]=0\n",
    "    m_dist[g[1],g[0]]=0"
   ]
  },
  {
   "cell_type": "code",
   "execution_count": 27,
   "metadata": {},
   "outputs": [
    {
     "data": {
      "text/plain": [
       "array([[0, 1, 2],\n",
       "       [1, 3, 1],\n",
       "       [2, 2, 1],\n",
       "       [3, 1, 2],\n",
       "       [4, 2, 2],\n",
       "       [5, 0, 2],\n",
       "       [6, 1, 1],\n",
       "       [7, 2, 1]])"
      ]
     },
     "execution_count": 27,
     "metadata": {},
     "output_type": "execute_result"
    }
   ],
   "source": [
    "curr_data"
   ]
  },
  {
   "cell_type": "code",
   "execution_count": null,
   "metadata": {},
   "outputs": [],
   "source": [
    "# now here we need the use of functions to be able to add TEAM 1 to group 2 and TEAM 5 to group 1 as they cannot be paired by themselves.\n",
    "# for the first group, if there are issues then demote them, for the last group they have to ascend as the groups in the middle are larger."
   ]
  },
  {
   "cell_type": "code",
   "execution_count": 22,
   "metadata": {},
   "outputs": [],
   "source": [
    "# pending: make everything to functions.\n",
    "# pending: Think on how to store games and their outcomes\n",
    "# either database or simulated games on db and team record or game id."
   ]
  }
 ],
 "metadata": {
  "kernelspec": {
   "display_name": "base",
   "language": "python",
   "name": "python3"
  },
  "language_info": {
   "codemirror_mode": {
    "name": "ipython",
    "version": 3
   },
   "file_extension": ".py",
   "mimetype": "text/x-python",
   "name": "python",
   "nbconvert_exporter": "python",
   "pygments_lexer": "ipython3",
   "version": "3.9.16"
  },
  "orig_nbformat": 4
 },
 "nbformat": 4,
 "nbformat_minor": 2
}

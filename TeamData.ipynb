{
 "cells": [
  {
   "cell_type": "code",
   "execution_count": 2,
   "metadata": {},
   "outputs": [],
   "source": [
    "import cfbd\n",
    "from cfbd.rest import ApiException\n",
    "from pprint import pprint\n",
    "\n",
    "configuration = cfbd.Configuration()\n",
    "configuration.api_key['Authorization'] = '3WCU5V2X05Rvh60ZxUG8FarJN4s2D1lcd2c2r6Kz/qL1Y3tVBJtWsuNATnzHRV2h'\n",
    "configuration.api_key_prefix['Authorization'] = 'Bearer'"
   ]
  },
  {
   "cell_type": "code",
   "execution_count": null,
   "metadata": {},
   "outputs": [],
   "source": []
  },
  {
   "cell_type": "code",
   "execution_count": null,
   "metadata": {},
   "outputs": [],
   "source": []
  },
  {
   "cell_type": "markdown",
   "metadata": {},
   "source": [
    "## Class Example"
   ]
  },
  {
   "cell_type": "code",
   "execution_count": 6,
   "metadata": {},
   "outputs": [],
   "source": [
    "api_instance = cfbd.GamesApi(cfbd.ApiClient(configuration))\n",
    "year=2022\n",
    "division=\"fbs\"\n",
    "\n",
    "# try:\n",
    "#     # Betting lines\n",
    "#     api_response = api_instance.get_games(year=year,division=division)\n",
    "#     pprint(api_response[0])\n",
    "# except ApiException as e:\n",
    "#     print(\"Exception when calling BettingApi->get_lines: %s\\n\" % e)\n",
    "    "
   ]
  },
  {
   "cell_type": "code",
   "execution_count": 13,
   "metadata": {},
   "outputs": [
    {
     "name": "stdout",
     "output_type": "stream",
     "text": [
      "{'away_conference': 'Great Midwest Athletic',\n",
      " 'away_score': 3,\n",
      " 'away_team': 'Northwood (MI)',\n",
      " 'home_conference': 'Great Midwest Athletic',\n",
      " 'home_score': 48,\n",
      " 'home_team': 'Tiffin',\n",
      " 'id': 401431558,\n",
      " 'lines': [],\n",
      " 'season': 2022,\n",
      " 'season_type': 'regular',\n",
      " 'start_date': '2022-10-29T20:00:00.000Z',\n",
      " 'week': 9}\n"
     ]
    }
   ],
   "source": [
    "api_instance1 = cfbd.BettingApi(cfbd.ApiClient(configuration))\n",
    "try:\n",
    "    api_response1 = api_instance1.get_lines(year=year)\n",
    "    pprint(api_response1[2])\n",
    "except ApiException as e:\n",
    "    print(\"Exception when calling BettingApi->get_lines: %s\\n\" % e)"
   ]
  }
 ],
 "metadata": {
  "kernelspec": {
   "display_name": "Python 3 (ipykernel)",
   "language": "python",
   "name": "python3"
  },
  "language_info": {
   "codemirror_mode": {
    "name": "ipython",
    "version": 3
   },
   "file_extension": ".py",
   "mimetype": "text/x-python",
   "name": "python",
   "nbconvert_exporter": "python",
   "pygments_lexer": "ipython3",
   "version": "3.11.2"
  }
 },
 "nbformat": 4,
 "nbformat_minor": 2
}

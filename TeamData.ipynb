{
 "cells": [
  {
   "cell_type": "code",
   "execution_count": 1,
   "metadata": {},
   "outputs": [],
   "source": [
    "import cfbd\n",
    "from cfbd.rest import ApiException\n",
    "from pprint import pprint\n",
    "import pandas as pd\n",
    "import sqlite3\n",
    "import DataFunctions\n",
    "\n",
    "\n",
    "configuration = cfbd.Configuration()\n",
    "configuration.api_key['Authorization'] = '3WCU5V2X05Rvh60ZxUG8FarJN4s2D1lcd2c2r6Kz/qL1Y3tVBJtWsuNATnzHRV2h'\n",
    "configuration.api_key_prefix['Authorization'] = 'Bearer'"
   ]
  },
  {
   "cell_type": "markdown",
   "metadata": {},
   "source": [
    "## Data Preprocessing"
   ]
  },
  {
   "cell_type": "markdown",
   "metadata": {},
   "source": [
    "Games DF"
   ]
  },
  {
   "cell_type": "code",
   "execution_count": 2,
   "metadata": {},
   "outputs": [],
   "source": [
    "api_instance = cfbd.GamesApi(cfbd.ApiClient(configuration))\n",
    "year=2022\n",
    "division=\"fbs\"\n",
    "\n",
    "# no longer need, right?\n",
    "# try:\n",
    "#     api_response = api_instance.get_games(year=year,division=division)\n",
    "#     print(len(api_response))\n",
    "# except:\n",
    "#     print(ApiException)\n",
    "    "
   ]
  },
  {
   "cell_type": "code",
   "execution_count": 3,
   "metadata": {},
   "outputs": [
    {
     "data": {
      "text/plain": [
       "735"
      ]
     },
     "execution_count": 3,
     "metadata": {},
     "output_type": "execute_result"
    }
   ],
   "source": [
    "gamelist = DataFunctions.get_fbs_games(api_instance=api_instance,year=2022)\n",
    "len(gamelist)"
   ]
  },
  {
   "cell_type": "code",
   "execution_count": 4,
   "metadata": {},
   "outputs": [
    {
     "data": {
      "text/html": [
       "<div>\n",
       "<style scoped>\n",
       "    .dataframe tbody tr th:only-of-type {\n",
       "        vertical-align: middle;\n",
       "    }\n",
       "\n",
       "    .dataframe tbody tr th {\n",
       "        vertical-align: top;\n",
       "    }\n",
       "\n",
       "    .dataframe thead th {\n",
       "        text-align: right;\n",
       "    }\n",
       "</style>\n",
       "<table border=\"1\" class=\"dataframe\">\n",
       "  <thead>\n",
       "    <tr style=\"text-align: right;\">\n",
       "      <th></th>\n",
       "      <th>away_conference</th>\n",
       "      <th>away_id</th>\n",
       "      <th>away_points</th>\n",
       "      <th>away_team</th>\n",
       "      <th>home_conference</th>\n",
       "      <th>home_id</th>\n",
       "      <th>home_points</th>\n",
       "      <th>home_team</th>\n",
       "      <th>id</th>\n",
       "      <th>neutral_site</th>\n",
       "      <th>season</th>\n",
       "    </tr>\n",
       "  </thead>\n",
       "  <tbody>\n",
       "    <tr>\n",
       "      <th>0</th>\n",
       "      <td>Big Ten</td>\n",
       "      <td>158</td>\n",
       "      <td>28</td>\n",
       "      <td>Nebraska</td>\n",
       "      <td>Big Ten</td>\n",
       "      <td>77</td>\n",
       "      <td>31</td>\n",
       "      <td>Northwestern</td>\n",
       "      <td>401405059</td>\n",
       "      <td>True</td>\n",
       "      <td>2022</td>\n",
       "    </tr>\n",
       "    <tr>\n",
       "      <th>1</th>\n",
       "      <td>Mountain West</td>\n",
       "      <td>2751</td>\n",
       "      <td>6</td>\n",
       "      <td>Wyoming</td>\n",
       "      <td>Big Ten</td>\n",
       "      <td>356</td>\n",
       "      <td>38</td>\n",
       "      <td>Illinois</td>\n",
       "      <td>401405058</td>\n",
       "      <td>False</td>\n",
       "      <td>2022</td>\n",
       "    </tr>\n",
       "    <tr>\n",
       "      <th>2</th>\n",
       "      <td>FBS Independents</td>\n",
       "      <td>41</td>\n",
       "      <td>20</td>\n",
       "      <td>Connecticut</td>\n",
       "      <td>Mountain West</td>\n",
       "      <td>328</td>\n",
       "      <td>31</td>\n",
       "      <td>Utah State</td>\n",
       "      <td>401404146</td>\n",
       "      <td>False</td>\n",
       "      <td>2022</td>\n",
       "    </tr>\n",
       "    <tr>\n",
       "      <th>3</th>\n",
       "      <td>Conference USA</td>\n",
       "      <td>2429</td>\n",
       "      <td>13</td>\n",
       "      <td>Charlotte</td>\n",
       "      <td>Conference USA</td>\n",
       "      <td>2226</td>\n",
       "      <td>43</td>\n",
       "      <td>Florida Atlantic</td>\n",
       "      <td>401426530</td>\n",
       "      <td>False</td>\n",
       "      <td>2022</td>\n",
       "    </tr>\n",
       "    <tr>\n",
       "      <th>4</th>\n",
       "      <td>Conference USA</td>\n",
       "      <td>249</td>\n",
       "      <td>31</td>\n",
       "      <td>North Texas</td>\n",
       "      <td>Conference USA</td>\n",
       "      <td>2638</td>\n",
       "      <td>13</td>\n",
       "      <td>UTEP</td>\n",
       "      <td>401426531</td>\n",
       "      <td>False</td>\n",
       "      <td>2022</td>\n",
       "    </tr>\n",
       "  </tbody>\n",
       "</table>\n",
       "</div>"
      ],
      "text/plain": [
       "    away_conference away_id away_points    away_team home_conference home_id  \\\n",
       "0           Big Ten     158          28     Nebraska         Big Ten      77   \n",
       "1     Mountain West    2751           6      Wyoming         Big Ten     356   \n",
       "2  FBS Independents      41          20  Connecticut   Mountain West     328   \n",
       "3    Conference USA    2429          13    Charlotte  Conference USA    2226   \n",
       "4    Conference USA     249          31  North Texas  Conference USA    2638   \n",
       "\n",
       "  home_points         home_team         id neutral_site season  \n",
       "0          31      Northwestern  401405059         True   2022  \n",
       "1          38          Illinois  401405058        False   2022  \n",
       "2          31        Utah State  401404146        False   2022  \n",
       "3          43  Florida Atlantic  401426530        False   2022  \n",
       "4          13              UTEP  401426531        False   2022  "
      ]
     },
     "execution_count": 4,
     "metadata": {},
     "output_type": "execute_result"
    }
   ],
   "source": [
    "games_df = DataFunctions.df_from_games(gamelist=gamelist)\n",
    "games_df.head()"
   ]
  },
  {
   "cell_type": "code",
   "execution_count": 5,
   "metadata": {},
   "outputs": [],
   "source": [
    "conn = sqlite3.connect(\"CollegeFootball.db\")\n",
    "games_df.to_sql(\"games\",conn,if_exists=\"replace\",index=False)\n",
    "conn.close()\n"
   ]
  },
  {
   "cell_type": "code",
   "execution_count": 7,
   "metadata": {},
   "outputs": [],
   "source": [
    "# we can see with this code that we can extract DF from SQL db\n",
    "\n",
    "# conn = sqlite3.connect(\"CollegeFootball.db\")\n",
    "# trialdf = pd.read_sql_query(\"SELECT * FROM games\",conn)\n",
    "# conn.close()\n",
    "# print(trialdf.shape)\n",
    "# trialdf.head()\n"
   ]
  },
  {
   "cell_type": "code",
   "execution_count": null,
   "metadata": {},
   "outputs": [],
   "source": []
  },
  {
   "cell_type": "markdown",
   "metadata": {},
   "source": [
    "Betting lines DF"
   ]
  },
  {
   "cell_type": "code",
   "execution_count": 8,
   "metadata": {},
   "outputs": [],
   "source": [
    "api_instance1 = cfbd.BettingApi(cfbd.ApiClient(configuration))\n",
    "api_response1 = api_instance1.get_lines(year=year)"
   ]
  },
  {
   "cell_type": "code",
   "execution_count": 9,
   "metadata": {},
   "outputs": [
    {
     "data": {
      "text/plain": [
       "{'away_conference': 'Great American',\n",
       " 'away_score': 7,\n",
       " 'away_team': 'Northwestern Oklahoma State',\n",
       " 'home_conference': 'Great American',\n",
       " 'home_score': 28,\n",
       " 'home_team': 'Harding',\n",
       " 'id': 401431455,\n",
       " 'lines': [],\n",
       " 'season': 2022,\n",
       " 'season_type': 'regular',\n",
       " 'start_date': '2022-10-29T20:00:00.000Z',\n",
       " 'week': 9}"
      ]
     },
     "execution_count": 9,
     "metadata": {},
     "output_type": "execute_result"
    }
   ],
   "source": [
    "api_response1[1]"
   ]
  },
  {
   "cell_type": "code",
   "execution_count": 10,
   "metadata": {},
   "outputs": [
    {
     "data": {
      "text/plain": [
       "{'ACC',\n",
       " 'American Athletic',\n",
       " 'Big 12',\n",
       " 'Big Ten',\n",
       " 'Conference USA',\n",
       " 'FBS Independents',\n",
       " 'Mid-American',\n",
       " 'Mountain West',\n",
       " 'Pac-12',\n",
       " 'SEC',\n",
       " 'Sun Belt'}"
      ]
     },
     "execution_count": 10,
     "metadata": {},
     "output_type": "execute_result"
    }
   ],
   "source": [
    "conferences=[]\n",
    "for game in gamelist:\n",
    "    conferences.append(game.away_conference)\n",
    "conferences=set(conferences)\n",
    "\n",
    "conferences"
   ]
  },
  {
   "cell_type": "code",
   "execution_count": 12,
   "metadata": {},
   "outputs": [],
   "source": [
    "betting_list=DataFunctions.get_fbs_betting(api_instance=api_instance1,year=2022,conferences=conferences)"
   ]
  },
  {
   "cell_type": "code",
   "execution_count": 14,
   "metadata": {},
   "outputs": [
    {
     "data": {
      "text/plain": [
       "738"
      ]
     },
     "execution_count": 14,
     "metadata": {},
     "output_type": "execute_result"
    }
   ],
   "source": [
    "len(betting_list)"
   ]
  },
  {
   "cell_type": "code",
   "execution_count": null,
   "metadata": {},
   "outputs": [],
   "source": []
  },
  {
   "cell_type": "markdown",
   "metadata": {},
   "source": [
    "Team stats per season DF"
   ]
  },
  {
   "cell_type": "code",
   "execution_count": null,
   "metadata": {},
   "outputs": [],
   "source": []
  },
  {
   "cell_type": "markdown",
   "metadata": {},
   "source": [
    "Merging tables to set up for NN"
   ]
  },
  {
   "cell_type": "code",
   "execution_count": null,
   "metadata": {},
   "outputs": [],
   "source": []
  }
 ],
 "metadata": {
  "kernelspec": {
   "display_name": "Python 3 (ipykernel)",
   "language": "python",
   "name": "python3"
  },
  "language_info": {
   "codemirror_mode": {
    "name": "ipython",
    "version": 3
   },
   "file_extension": ".py",
   "mimetype": "text/x-python",
   "name": "python",
   "nbconvert_exporter": "python",
   "pygments_lexer": "ipython3",
   "version": "3.9.12"
  }
 },
 "nbformat": 4,
 "nbformat_minor": 2
}

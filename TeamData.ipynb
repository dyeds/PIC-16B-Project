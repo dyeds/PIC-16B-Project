{
 "cells": [
  {
   "cell_type": "code",
   "execution_count": null,
   "metadata": {},
   "outputs": [],
   "source": [
    "#For working in Colab:\n",
    "\n",
    "# !pip install cfbd      \n",
    "# # !pip install requests"
   ]
  },
  {
   "cell_type": "code",
   "execution_count": null,
   "metadata": {},
   "outputs": [],
   "source": [
    "# import requests\n",
    "\n",
    "# url = 'https://raw.githubusercontent.com/dyeds/PIC-16B-Project/main/DataFunctions.py'\n",
    "# r=requests.get(url)\n",
    "\n",
    "# with open('DataFunctions.py', 'w') as f:  Using 'r' instead of 'w' gives error file does not exist so left as is\n",
    "#     f.write(r.text)"
   ]
  },
  {
   "cell_type": "code",
   "execution_count": 2,
   "metadata": {},
   "outputs": [],
   "source": [
    "import cfbd\n",
    "from cfbd.rest import ApiException\n",
    "from pprint import pprint\n",
    "import pandas as pd\n",
    "import sqlite3\n",
    "import DataFunctions\n",
    "import numpy as np\n",
    "import tensorflow as tf\n",
    "from tensorflow.keras import layers\n",
    "from sklearn.model_selection import train_test_split\n",
    "from matplotlib import pyplot as plt\n",
    "\n",
    "configuration = cfbd.Configuration()\n",
    "configuration.api_key['Authorization'] = '3WCU5V2X05Rvh60ZxUG8FarJN4s2D1lcd2c2r6Kz/qL1Y3tVBJtWsuNATnzHRV2h'\n",
    "configuration.api_key_prefix['Authorization'] = 'Bearer'"
   ]
  },
  {
   "cell_type": "markdown",
   "metadata": {},
   "source": [
    "## Data Preprocessing"
   ]
  },
  {
   "cell_type": "markdown",
   "metadata": {},
   "source": [
    "Games DF"
   ]
  },
  {
   "cell_type": "code",
   "execution_count": 3,
   "metadata": {},
   "outputs": [],
   "source": [
    "api_instance = cfbd.GamesApi(cfbd.ApiClient(configuration))\n",
    "year=2022\n",
    "division=\"fbs\"\n",
    "\n",
    "# no longer need, right?\n",
    "# try:\n",
    "#     api_response = api_instance.get_games(year=year,division=division)\n",
    "#     print(len(api_response))\n",
    "# except:\n",
    "#     print(ApiException)\n",
    "    "
   ]
  },
  {
   "cell_type": "code",
   "execution_count": 4,
   "metadata": {},
   "outputs": [],
   "source": [
    "gamelist = DataFunctions.get_fbs_games(api_instance=api_instance,year=2022)\n",
    "# len(gamelist)"
   ]
  },
  {
   "cell_type": "code",
   "execution_count": 5,
   "metadata": {},
   "outputs": [],
   "source": [
    "games_df = DataFunctions.df_from_games(gamelist=gamelist)\n",
    "# games_df.head()"
   ]
  },
  {
   "cell_type": "code",
   "execution_count": 6,
   "metadata": {},
   "outputs": [],
   "source": [
    "# conn = sqlite3.connect(\"CollegeFootball.db\")\n",
    "# games_df.to_sql(\"games\",conn,if_exists=\"replace\",index=False)\n",
    "# conn.close()\n"
   ]
  },
  {
   "cell_type": "code",
   "execution_count": 7,
   "metadata": {},
   "outputs": [],
   "source": [
    "# we can see with this code that we can extract DF from SQL db\n",
    "\n",
    "# conn = sqlite3.connect(\"CollegeFootball.db\")\n",
    "# trialdf = pd.read_sql_query(\"SELECT * FROM games\",conn)\n",
    "# conn.close()\n",
    "# print(trialdf.shape)\n",
    "# trialdf.head()\n"
   ]
  },
  {
   "cell_type": "code",
   "execution_count": null,
   "metadata": {},
   "outputs": [],
   "source": []
  },
  {
   "cell_type": "markdown",
   "metadata": {},
   "source": [
    "Betting lines DF"
   ]
  },
  {
   "cell_type": "code",
   "execution_count": 8,
   "metadata": {},
   "outputs": [],
   "source": [
    "api_instance1 = cfbd.BettingApi(cfbd.ApiClient(configuration))"
   ]
  },
  {
   "cell_type": "code",
   "execution_count": 9,
   "metadata": {},
   "outputs": [
    {
     "data": {
      "text/plain": [
       "{'ACC',\n",
       " 'American Athletic',\n",
       " 'Big 12',\n",
       " 'Big Ten',\n",
       " 'Conference USA',\n",
       " 'FBS Independents',\n",
       " 'Mid-American',\n",
       " 'Mountain West',\n",
       " 'Pac-12',\n",
       " 'SEC',\n",
       " 'Sun Belt'}"
      ]
     },
     "execution_count": 9,
     "metadata": {},
     "output_type": "execute_result"
    }
   ],
   "source": [
    "conferences=[]\n",
    "for game in gamelist:\n",
    "    conferences.append(game.away_conference)\n",
    "conferences=set(conferences)\n",
    "\n",
    "conferences"
   ]
  },
  {
   "cell_type": "code",
   "execution_count": 10,
   "metadata": {},
   "outputs": [],
   "source": [
    "betting_list=DataFunctions.get_fbs_betting(api_instance=api_instance1,year=2022,conferences=conferences)"
   ]
  },
  {
   "cell_type": "code",
   "execution_count": 11,
   "metadata": {},
   "outputs": [
    {
     "data": {
      "text/html": [
       "<div>\n",
       "<style scoped>\n",
       "    .dataframe tbody tr th:only-of-type {\n",
       "        vertical-align: middle;\n",
       "    }\n",
       "\n",
       "    .dataframe tbody tr th {\n",
       "        vertical-align: top;\n",
       "    }\n",
       "\n",
       "    .dataframe thead th {\n",
       "        text-align: right;\n",
       "    }\n",
       "</style>\n",
       "<table border=\"1\" class=\"dataframe\">\n",
       "  <thead>\n",
       "    <tr style=\"text-align: right;\">\n",
       "      <th></th>\n",
       "      <th>id</th>\n",
       "      <th>av_spread</th>\n",
       "      <th>av_total</th>\n",
       "    </tr>\n",
       "  </thead>\n",
       "  <tbody>\n",
       "    <tr>\n",
       "      <th>0</th>\n",
       "      <td>401411101</td>\n",
       "      <td>-24.375</td>\n",
       "      <td>51.375</td>\n",
       "    </tr>\n",
       "    <tr>\n",
       "      <th>1</th>\n",
       "      <td>401404079</td>\n",
       "      <td>7.125</td>\n",
       "      <td>65.625</td>\n",
       "    </tr>\n",
       "    <tr>\n",
       "      <th>2</th>\n",
       "      <td>401403893</td>\n",
       "      <td>1.500</td>\n",
       "      <td>51.000</td>\n",
       "    </tr>\n",
       "    <tr>\n",
       "      <th>3</th>\n",
       "      <td>401404080</td>\n",
       "      <td>2.500</td>\n",
       "      <td>45.000</td>\n",
       "    </tr>\n",
       "    <tr>\n",
       "      <th>4</th>\n",
       "      <td>401404081</td>\n",
       "      <td>13.625</td>\n",
       "      <td>53.000</td>\n",
       "    </tr>\n",
       "    <tr>\n",
       "      <th>...</th>\n",
       "      <td>...</td>\n",
       "      <td>...</td>\n",
       "      <td>...</td>\n",
       "    </tr>\n",
       "    <tr>\n",
       "      <th>733</th>\n",
       "      <td>401411139</td>\n",
       "      <td>3.000</td>\n",
       "      <td>42.375</td>\n",
       "    </tr>\n",
       "    <tr>\n",
       "      <th>734</th>\n",
       "      <td>401411140</td>\n",
       "      <td>-8.875</td>\n",
       "      <td>48.250</td>\n",
       "    </tr>\n",
       "    <tr>\n",
       "      <th>735</th>\n",
       "      <td>401414783</td>\n",
       "      <td>-16.875</td>\n",
       "      <td>47.375</td>\n",
       "    </tr>\n",
       "    <tr>\n",
       "      <th>736</th>\n",
       "      <td>401415237</td>\n",
       "      <td>-10.125</td>\n",
       "      <td>50.000</td>\n",
       "    </tr>\n",
       "    <tr>\n",
       "      <th>737</th>\n",
       "      <td>401415238</td>\n",
       "      <td>-14.000</td>\n",
       "      <td>45.500</td>\n",
       "    </tr>\n",
       "  </tbody>\n",
       "</table>\n",
       "<p>738 rows × 3 columns</p>\n",
       "</div>"
      ],
      "text/plain": [
       "            id  av_spread  av_total\n",
       "0    401411101    -24.375    51.375\n",
       "1    401404079      7.125    65.625\n",
       "2    401403893      1.500    51.000\n",
       "3    401404080      2.500    45.000\n",
       "4    401404081     13.625    53.000\n",
       "..         ...        ...       ...\n",
       "733  401411139      3.000    42.375\n",
       "734  401411140     -8.875    48.250\n",
       "735  401414783    -16.875    47.375\n",
       "736  401415237    -10.125    50.000\n",
       "737  401415238    -14.000    45.500\n",
       "\n",
       "[738 rows x 3 columns]"
      ]
     },
     "execution_count": 11,
     "metadata": {},
     "output_type": "execute_result"
    }
   ],
   "source": [
    "betting_df=DataFunctions.df_betting_lines(betting_list)\n",
    "betting_df\n",
    "\n",
    "#warning seems to be since betting line -0.0 for one of the games but still stores value as 0 so should be fine"
   ]
  },
  {
   "cell_type": "code",
   "execution_count": 12,
   "metadata": {},
   "outputs": [],
   "source": [
    "# conn=sqlite3.connect(\"CollegeFootball.db\")\n",
    "# betting_df.to_sql(\"betting_lines\",conn,if_exists=\"replace\",index=False)\n",
    "# conn.close()"
   ]
  },
  {
   "cell_type": "code",
   "execution_count": 13,
   "metadata": {},
   "outputs": [],
   "source": [
    "# #sample merge dataframe\n",
    "\n",
    "# cmd=\\\n",
    "# \"\"\"\n",
    "# SELECT G.away_team,G.away_points,G.home_points,G.home_team,B.av_spread,B.av_total\n",
    "# FROM games G\n",
    "# INNER JOIN betting_lines B ON G.id=B.id\n",
    "# \"\"\"\n",
    "# conn=sqlite3.connect(\"CollegeFootball.db\")\n",
    "# test_merge=pd.read_sql_query(cmd,conn)\n",
    "# conn.close() # do not forget this after query\n",
    "# test_merge"
   ]
  },
  {
   "cell_type": "markdown",
   "metadata": {},
   "source": [
    "Team stats per season DF"
   ]
  },
  {
   "cell_type": "code",
   "execution_count": 14,
   "metadata": {},
   "outputs": [],
   "source": [
    "api_instance2 = cfbd.StatsApi(cfbd.ApiClient(configuration))"
   ]
  },
  {
   "cell_type": "code",
   "execution_count": 15,
   "metadata": {},
   "outputs": [],
   "source": [
    "teamstats = api_instance2.get_advanced_team_season_stats(year=year)"
   ]
  },
  {
   "cell_type": "code",
   "execution_count": 16,
   "metadata": {},
   "outputs": [],
   "source": [
    "stats_df = DataFunctions.df_team_advstats(teamstats=teamstats)"
   ]
  },
  {
   "cell_type": "code",
   "execution_count": 17,
   "metadata": {},
   "outputs": [
    {
     "data": {
      "text/plain": [
       "Index(['team', 'season', 'conference', 'Offensive_plays', 'Offensive_drives',\n",
       "       'Offensive_ppa', 'Offensive_total_ppa', 'Offensive_success_rate',\n",
       "       'Offensive_explosiveness', 'Offensive_power_success',\n",
       "       'Offensive_stuff_rate', 'Offensive_line_yards',\n",
       "       'Offensive_line_yards_total', 'Offensive_second_level_yards',\n",
       "       'Offensive_second_level_yards_total', 'Offensive_open_field_yards',\n",
       "       'Offensive_open_field_yards_total', 'Offensive_total_opportunies',\n",
       "       'Offensive_points_per_opportunity', 'Defensive_plays',\n",
       "       'Defensive_drives', 'Defensive_ppa', 'Defensive_total_ppa',\n",
       "       'Defensive_success_rate', 'Defensive_explosiveness',\n",
       "       'Defensive_power_success', 'Defensive_stuff_rate',\n",
       "       'Defensive_line_yards', 'Defensive_line_yards_total',\n",
       "       'Defensive_second_level_yards', 'Defensive_second_level_yards_total',\n",
       "       'Defensive_open_field_yards', 'Defensive_open_field_yards_total',\n",
       "       'Defensive_total_opportunies', 'Defensive_points_per_opportunity',\n",
       "       'Offensive_field_position_average_start',\n",
       "       'Offensive_field_position_average_predicted_points',\n",
       "       'Offensive_havoc_total', 'Offensive_havoc_front_seven',\n",
       "       'Offensive_havoc_db', 'Offensive_standard_downs_rate',\n",
       "       'Offensive_standard_downs_ppa', 'Offensive_standard_downs_success_rate',\n",
       "       'Offensive_standard_downs_explosiveness',\n",
       "       'Offensive_passing_downs_rate', 'Offensive_passing_downs_ppa',\n",
       "       'Offensive_passing_downs_success_rate',\n",
       "       'Offensive_passing_downs_explosiveness', 'Offensive_rushing_plays_rate',\n",
       "       'Offensive_rushing_plays_ppa', 'Offensive_rushing_plays_total_ppa',\n",
       "       'Offensive_rushing_plays_success_rate',\n",
       "       'Offensive_rushing_plays_explosiveness', 'Offensive_passing_plays_rate',\n",
       "       'Offensive_passing_plays_ppa', 'Offensive_passing_plays_total_ppa',\n",
       "       'Offensive_passing_plays_success_rate',\n",
       "       'Offensive_passing_plays_explosiveness',\n",
       "       'Defensive_field_position_average_start',\n",
       "       'Defensive_field_position_average_predicted_points',\n",
       "       'Defensive_havoc_total', 'Defensive_havoc_front_seven',\n",
       "       'Defensive_havoc_db', 'Defensive_standard_downs_rate',\n",
       "       'Defensive_standard_downs_ppa', 'Defensive_standard_downs_success_rate',\n",
       "       'Defensive_standard_downs_explosiveness',\n",
       "       'Defensive_passing_downs_rate', 'Defensive_passing_downs_ppa',\n",
       "       'Defensive_passing_downs_success_rate',\n",
       "       'Defensive_passing_downs_explosiveness', 'Defensive_rushing_plays_rate',\n",
       "       'Defensive_rushing_plays_ppa', 'Defensive_rushing_plays_total_ppa',\n",
       "       'Defensive_rushing_plays_success_rate',\n",
       "       'Defensive_rushing_plays_explosiveness', 'Defensive_passing_plays_rate',\n",
       "       'Defensive_passing_plays_ppa', 'Defensive_passing_plays_success_rate',\n",
       "       'Defensive_passing_plays_explosiveness'],\n",
       "      dtype='object')"
      ]
     },
     "execution_count": 17,
     "metadata": {},
     "output_type": "execute_result"
    }
   ],
   "source": [
    "stats_df.columns"
   ]
  },
  {
   "cell_type": "code",
   "execution_count": 18,
   "metadata": {},
   "outputs": [],
   "source": [
    "cols = ['team','season','conference','Offensive_ppa','Offensive_success_rate',\n",
    "        'Offensive_explosiveness','Offensive_power_success',\n",
    "        'Offensive_stuff_rate','Offensive_line_yards',\n",
    "        'Defensive_ppa','Defensive_success_rate',\n",
    "        'Defensive_explosiveness','Defensive_power_success',\n",
    "        'Defensive_stuff_rate','Defensive_line_yards',\n",
    "        'Offensive_havoc_total','Offensive_rushing_plays_ppa',\n",
    "        'Offensive_rushing_plays_success_rate',\n",
    "        'Offensive_rushing_plays_explosiveness',\n",
    "        'Offensive_passing_plays_ppa',\n",
    "        'Offensive_passing_plays_success_rate',\n",
    "        'Offensive_passing_plays_explosiveness',\n",
    "        'Defensive_havoc_total','Defensive_rushing_plays_ppa',\n",
    "        'Defensive_rushing_plays_success_rate',\n",
    "        'Defensive_rushing_plays_explosiveness',\n",
    "        'Defensive_passing_plays_ppa',\n",
    "        'Defensive_passing_plays_success_rate',\n",
    "        'Defensive_passing_plays_explosiveness']\n",
    "stats_df1 = DataFunctions.df_stats_needed(stats_df,cols)"
   ]
  },
  {
   "cell_type": "code",
   "execution_count": 19,
   "metadata": {},
   "outputs": [
    {
     "data": {
      "text/plain": [
       "(131, 29)"
      ]
     },
     "execution_count": 19,
     "metadata": {},
     "output_type": "execute_result"
    }
   ],
   "source": [
    "stats_df1.shape"
   ]
  },
  {
   "cell_type": "code",
   "execution_count": 20,
   "metadata": {},
   "outputs": [
    {
     "data": {
      "text/html": [
       "<div>\n",
       "<style scoped>\n",
       "    .dataframe tbody tr th:only-of-type {\n",
       "        vertical-align: middle;\n",
       "    }\n",
       "\n",
       "    .dataframe tbody tr th {\n",
       "        vertical-align: top;\n",
       "    }\n",
       "\n",
       "    .dataframe thead th {\n",
       "        text-align: right;\n",
       "    }\n",
       "</style>\n",
       "<table border=\"1\" class=\"dataframe\">\n",
       "  <thead>\n",
       "    <tr style=\"text-align: right;\">\n",
       "      <th></th>\n",
       "      <th>team</th>\n",
       "      <th>season</th>\n",
       "      <th>conference</th>\n",
       "      <th>Offensive_ppa</th>\n",
       "      <th>Offensive_success_rate</th>\n",
       "      <th>Offensive_explosiveness</th>\n",
       "      <th>Offensive_power_success</th>\n",
       "      <th>Offensive_stuff_rate</th>\n",
       "      <th>Offensive_line_yards</th>\n",
       "      <th>Defensive_ppa</th>\n",
       "      <th>...</th>\n",
       "      <th>Offensive_passing_plays_ppa</th>\n",
       "      <th>Offensive_passing_plays_success_rate</th>\n",
       "      <th>Offensive_passing_plays_explosiveness</th>\n",
       "      <th>Defensive_havoc_total</th>\n",
       "      <th>Defensive_rushing_plays_ppa</th>\n",
       "      <th>Defensive_rushing_plays_success_rate</th>\n",
       "      <th>Defensive_rushing_plays_explosiveness</th>\n",
       "      <th>Defensive_passing_plays_ppa</th>\n",
       "      <th>Defensive_passing_plays_success_rate</th>\n",
       "      <th>Defensive_passing_plays_explosiveness</th>\n",
       "    </tr>\n",
       "  </thead>\n",
       "  <tbody>\n",
       "    <tr>\n",
       "      <th>0</th>\n",
       "      <td>Air Force</td>\n",
       "      <td>2022</td>\n",
       "      <td>Mountain West</td>\n",
       "      <td>0.297878</td>\n",
       "      <td>0.480570</td>\n",
       "      <td>1.132888</td>\n",
       "      <td>0.825000</td>\n",
       "      <td>0.093979</td>\n",
       "      <td>3.557269</td>\n",
       "      <td>0.123016</td>\n",
       "      <td>...</td>\n",
       "      <td>0.505886</td>\n",
       "      <td>0.382022</td>\n",
       "      <td>2.614222</td>\n",
       "      <td>0.196944</td>\n",
       "      <td>0.097045</td>\n",
       "      <td>0.394737</td>\n",
       "      <td>0.969436</td>\n",
       "      <td>0.255682</td>\n",
       "      <td>0.425455</td>\n",
       "      <td>1.410758</td>\n",
       "    </tr>\n",
       "    <tr>\n",
       "      <th>1</th>\n",
       "      <td>Akron</td>\n",
       "      <td>2022</td>\n",
       "      <td>Mid-American</td>\n",
       "      <td>0.113974</td>\n",
       "      <td>0.426016</td>\n",
       "      <td>1.185226</td>\n",
       "      <td>0.735294</td>\n",
       "      <td>0.154185</td>\n",
       "      <td>3.144493</td>\n",
       "      <td>0.269248</td>\n",
       "      <td>...</td>\n",
       "      <td>0.231801</td>\n",
       "      <td>0.418848</td>\n",
       "      <td>1.459991</td>\n",
       "      <td>0.199301</td>\n",
       "      <td>0.156959</td>\n",
       "      <td>0.446541</td>\n",
       "      <td>1.005307</td>\n",
       "      <td>0.449689</td>\n",
       "      <td>0.480000</td>\n",
       "      <td>1.656349</td>\n",
       "    </tr>\n",
       "    <tr>\n",
       "      <th>2</th>\n",
       "      <td>Alabama</td>\n",
       "      <td>2022</td>\n",
       "      <td>SEC</td>\n",
       "      <td>0.305324</td>\n",
       "      <td>0.471508</td>\n",
       "      <td>1.375730</td>\n",
       "      <td>0.722222</td>\n",
       "      <td>0.194954</td>\n",
       "      <td>2.970183</td>\n",
       "      <td>0.028379</td>\n",
       "      <td>...</td>\n",
       "      <td>0.394611</td>\n",
       "      <td>0.479303</td>\n",
       "      <td>1.637813</td>\n",
       "      <td>0.180089</td>\n",
       "      <td>0.078791</td>\n",
       "      <td>0.407583</td>\n",
       "      <td>0.952710</td>\n",
       "      <td>0.012309</td>\n",
       "      <td>0.348936</td>\n",
       "      <td>1.379126</td>\n",
       "    </tr>\n",
       "    <tr>\n",
       "      <th>3</th>\n",
       "      <td>Appalachian State</td>\n",
       "      <td>2022</td>\n",
       "      <td>Sun Belt</td>\n",
       "      <td>0.259159</td>\n",
       "      <td>0.456019</td>\n",
       "      <td>1.295246</td>\n",
       "      <td>0.705882</td>\n",
       "      <td>0.127660</td>\n",
       "      <td>3.395532</td>\n",
       "      <td>0.205438</td>\n",
       "      <td>...</td>\n",
       "      <td>0.311707</td>\n",
       "      <td>0.427835</td>\n",
       "      <td>1.704787</td>\n",
       "      <td>0.170267</td>\n",
       "      <td>0.136812</td>\n",
       "      <td>0.402062</td>\n",
       "      <td>1.053082</td>\n",
       "      <td>0.313190</td>\n",
       "      <td>0.430025</td>\n",
       "      <td>1.543410</td>\n",
       "    </tr>\n",
       "    <tr>\n",
       "      <th>4</th>\n",
       "      <td>Arizona</td>\n",
       "      <td>2022</td>\n",
       "      <td>Pac-12</td>\n",
       "      <td>0.271661</td>\n",
       "      <td>0.472081</td>\n",
       "      <td>1.379341</td>\n",
       "      <td>0.673469</td>\n",
       "      <td>0.171875</td>\n",
       "      <td>3.326875</td>\n",
       "      <td>0.351341</td>\n",
       "      <td>...</td>\n",
       "      <td>0.370241</td>\n",
       "      <td>0.448578</td>\n",
       "      <td>1.726454</td>\n",
       "      <td>0.130807</td>\n",
       "      <td>0.338295</td>\n",
       "      <td>0.559036</td>\n",
       "      <td>0.998885</td>\n",
       "      <td>0.389756</td>\n",
       "      <td>0.501253</td>\n",
       "      <td>1.398465</td>\n",
       "    </tr>\n",
       "  </tbody>\n",
       "</table>\n",
       "<p>5 rows × 29 columns</p>\n",
       "</div>"
      ],
      "text/plain": [
       "                team  season     conference  Offensive_ppa  \\\n",
       "0          Air Force    2022  Mountain West       0.297878   \n",
       "1              Akron    2022   Mid-American       0.113974   \n",
       "2            Alabama    2022            SEC       0.305324   \n",
       "3  Appalachian State    2022       Sun Belt       0.259159   \n",
       "4            Arizona    2022         Pac-12       0.271661   \n",
       "\n",
       "   Offensive_success_rate  Offensive_explosiveness  Offensive_power_success  \\\n",
       "0                0.480570                 1.132888                 0.825000   \n",
       "1                0.426016                 1.185226                 0.735294   \n",
       "2                0.471508                 1.375730                 0.722222   \n",
       "3                0.456019                 1.295246                 0.705882   \n",
       "4                0.472081                 1.379341                 0.673469   \n",
       "\n",
       "   Offensive_stuff_rate  Offensive_line_yards  Defensive_ppa  ...  \\\n",
       "0              0.093979              3.557269       0.123016  ...   \n",
       "1              0.154185              3.144493       0.269248  ...   \n",
       "2              0.194954              2.970183       0.028379  ...   \n",
       "3              0.127660              3.395532       0.205438  ...   \n",
       "4              0.171875              3.326875       0.351341  ...   \n",
       "\n",
       "   Offensive_passing_plays_ppa  Offensive_passing_plays_success_rate  \\\n",
       "0                     0.505886                              0.382022   \n",
       "1                     0.231801                              0.418848   \n",
       "2                     0.394611                              0.479303   \n",
       "3                     0.311707                              0.427835   \n",
       "4                     0.370241                              0.448578   \n",
       "\n",
       "   Offensive_passing_plays_explosiveness  Defensive_havoc_total  \\\n",
       "0                               2.614222               0.196944   \n",
       "1                               1.459991               0.199301   \n",
       "2                               1.637813               0.180089   \n",
       "3                               1.704787               0.170267   \n",
       "4                               1.726454               0.130807   \n",
       "\n",
       "   Defensive_rushing_plays_ppa  Defensive_rushing_plays_success_rate  \\\n",
       "0                     0.097045                              0.394737   \n",
       "1                     0.156959                              0.446541   \n",
       "2                     0.078791                              0.407583   \n",
       "3                     0.136812                              0.402062   \n",
       "4                     0.338295                              0.559036   \n",
       "\n",
       "   Defensive_rushing_plays_explosiveness  Defensive_passing_plays_ppa  \\\n",
       "0                               0.969436                     0.255682   \n",
       "1                               1.005307                     0.449689   \n",
       "2                               0.952710                     0.012309   \n",
       "3                               1.053082                     0.313190   \n",
       "4                               0.998885                     0.389756   \n",
       "\n",
       "   Defensive_passing_plays_success_rate  Defensive_passing_plays_explosiveness  \n",
       "0                              0.425455                               1.410758  \n",
       "1                              0.480000                               1.656349  \n",
       "2                              0.348936                               1.379126  \n",
       "3                              0.430025                               1.543410  \n",
       "4                              0.501253                               1.398465  \n",
       "\n",
       "[5 rows x 29 columns]"
      ]
     },
     "execution_count": 20,
     "metadata": {},
     "output_type": "execute_result"
    }
   ],
   "source": [
    "stats_df1.head()"
   ]
  },
  {
   "cell_type": "code",
   "execution_count": 21,
   "metadata": {},
   "outputs": [],
   "source": [
    "# We use this to insert api_responses to SQL database\n",
    "# \n",
    "# \n",
    "# for year in range(2015,2023):\n",
    "#     gamelist = DataFunctions.get_fbs_games(api_instance=api_instance,year=year)\n",
    "#     games_df = DataFunctions.df_from_games(gamelist=gamelist)\n",
    "    \n",
    "#     betting_list=DataFunctions.get_fbs_betting(api_instance=api_instance1,year=year,conferences=conferences)\n",
    "#     betting_df=DataFunctions.df_betting_lines(betting_list)\n",
    "    \n",
    "#     teamstats = api_instance2.get_advanced_team_season_stats(year=year)\n",
    "#     stats_df = DataFunctions.df_team_advstats(teamstats=teamstats)\n",
    "#     stats_df = DataFunctions.df_stats_needed(stats_df,cols)\n",
    "    \n",
    "#     conn = sqlite3.connect(\"CollegeFootball.db\")\n",
    "#     games_df.to_sql(\"games\",conn,if_exists=\"append\",index=False)\n",
    "#     betting_df.to_sql(\"betting_lines\",conn,if_exists=\"append\",index=False)\n",
    "#     stats_df.to_sql(\"stats\",conn,if_exists=\"append\",index=False)\n",
    "    \n",
    "#     conn.close()\n",
    "    "
   ]
  },
  {
   "cell_type": "code",
   "execution_count": 22,
   "metadata": {},
   "outputs": [],
   "source": [
    "cols = ['team','season','conference','Offensive_ppa','Offensive_success_rate',\n",
    "        'Offensive_explosiveness','Offensive_power_success',\n",
    "        'Offensive_stuff_rate','Offensive_line_yards',\n",
    "        'Defensive_ppa','Defensive_success_rate',\n",
    "        'Defensive_explosiveness','Defensive_power_success',\n",
    "        'Defensive_stuff_rate','Defensive_line_yards',\n",
    "        'Offensive_havoc_total','Offensive_rushing_plays_ppa',\n",
    "        'Offensive_rushing_plays_success_rate',\n",
    "        'Offensive_rushing_plays_explosiveness',\n",
    "        'Offensive_passing_plays_ppa',\n",
    "        'Offensive_passing_plays_success_rate',\n",
    "        'Offensive_passing_plays_explosiveness',\n",
    "        'Defensive_havoc_total','Defensive_rushing_plays_ppa',\n",
    "        'Defensive_rushing_plays_success_rate',\n",
    "        'Defensive_rushing_plays_explosiveness',\n",
    "        'Defensive_passing_plays_ppa',\n",
    "        'Defensive_passing_plays_success_rate',\n",
    "        'Defensive_passing_plays_explosiveness']"
   ]
  },
  {
   "cell_type": "code",
   "execution_count": 23,
   "metadata": {},
   "outputs": [],
   "source": [
    "cols = cols[3:]"
   ]
  },
  {
   "cell_type": "code",
   "execution_count": 24,
   "metadata": {},
   "outputs": [
    {
     "data": {
      "text/plain": [
       "['Offensive_ppa',\n",
       " 'Offensive_success_rate',\n",
       " 'Offensive_explosiveness',\n",
       " 'Offensive_power_success',\n",
       " 'Offensive_stuff_rate',\n",
       " 'Offensive_line_yards',\n",
       " 'Defensive_ppa',\n",
       " 'Defensive_success_rate',\n",
       " 'Defensive_explosiveness',\n",
       " 'Defensive_power_success',\n",
       " 'Defensive_stuff_rate',\n",
       " 'Defensive_line_yards',\n",
       " 'Offensive_havoc_total',\n",
       " 'Offensive_rushing_plays_ppa',\n",
       " 'Offensive_rushing_plays_success_rate',\n",
       " 'Offensive_rushing_plays_explosiveness',\n",
       " 'Offensive_passing_plays_ppa',\n",
       " 'Offensive_passing_plays_success_rate',\n",
       " 'Offensive_passing_plays_explosiveness',\n",
       " 'Defensive_havoc_total',\n",
       " 'Defensive_rushing_plays_ppa',\n",
       " 'Defensive_rushing_plays_success_rate',\n",
       " 'Defensive_rushing_plays_explosiveness',\n",
       " 'Defensive_passing_plays_ppa',\n",
       " 'Defensive_passing_plays_success_rate',\n",
       " 'Defensive_passing_plays_explosiveness']"
      ]
     },
     "execution_count": 24,
     "metadata": {},
     "output_type": "execute_result"
    }
   ],
   "source": [
    "cols"
   ]
  },
  {
   "cell_type": "code",
   "execution_count": 25,
   "metadata": {},
   "outputs": [
    {
     "data": {
      "text/plain": [
       "'G.id,G.season,G.neutral_site,G.home_id,G.home_team,G.home_conference,G.home_points,G.away_id,G.away_team,G.away_conference,G.away_points,G.game_spread,G.game_totalpts,'"
      ]
     },
     "execution_count": 25,
     "metadata": {},
     "output_type": "execute_result"
    }
   ],
   "source": [
    "gcols = games_df.columns\n",
    "gstr = \"\"\n",
    "for c in gcols:\n",
    "    gstr += \"G.\"+str(c)+\",\"\n",
    "\n",
    "gstr"
   ]
  },
  {
   "cell_type": "code",
   "execution_count": 26,
   "metadata": {},
   "outputs": [],
   "source": [
    "bcols = betting_df.columns\n",
    "bstr = \"\"\n",
    "for b in bcols:\n",
    "    bstr += \"B.\"+str(b)+\",\"\n",
    "bstr = bstr[5:]"
   ]
  },
  {
   "cell_type": "code",
   "execution_count": 27,
   "metadata": {},
   "outputs": [
    {
     "data": {
      "text/plain": [
       "'S1.Offensive_ppa AS Home_Offensive_ppa, S1.Offensive_success_rate AS Home_Offensive_success_rate, S1.Offensive_explosiveness AS Home_Offensive_explosiveness, S1.Offensive_power_success AS Home_Offensive_power_success, S1.Offensive_stuff_rate AS Home_Offensive_stuff_rate, S1.Offensive_line_yards AS Home_Offensive_line_yards, S1.Defensive_ppa AS Home_Defensive_ppa, S1.Defensive_success_rate AS Home_Defensive_success_rate, S1.Defensive_explosiveness AS Home_Defensive_explosiveness, S1.Defensive_power_success AS Home_Defensive_power_success, S1.Defensive_stuff_rate AS Home_Defensive_stuff_rate, S1.Defensive_line_yards AS Home_Defensive_line_yards, S1.Offensive_havoc_total AS Home_Offensive_havoc_total, S1.Offensive_rushing_plays_ppa AS Home_Offensive_rushing_plays_ppa, S1.Offensive_rushing_plays_success_rate AS Home_Offensive_rushing_plays_success_rate, S1.Offensive_rushing_plays_explosiveness AS Home_Offensive_rushing_plays_explosiveness, S1.Offensive_passing_plays_ppa AS Home_Offensive_passing_plays_ppa, S1.Offensive_passing_plays_success_rate AS Home_Offensive_passing_plays_success_rate, S1.Offensive_passing_plays_explosiveness AS Home_Offensive_passing_plays_explosiveness, S1.Defensive_havoc_total AS Home_Defensive_havoc_total, S1.Defensive_rushing_plays_ppa AS Home_Defensive_rushing_plays_ppa, S1.Defensive_rushing_plays_success_rate AS Home_Defensive_rushing_plays_success_rate, S1.Defensive_rushing_plays_explosiveness AS Home_Defensive_rushing_plays_explosiveness, S1.Defensive_passing_plays_ppa AS Home_Defensive_passing_plays_ppa, S1.Defensive_passing_plays_success_rate AS Home_Defensive_passing_plays_success_rate, S1.Defensive_passing_plays_explosiveness AS Home_Defensive_passing_plays_explosiveness,'"
      ]
     },
     "execution_count": 27,
     "metadata": {},
     "output_type": "execute_result"
    }
   ],
   "source": [
    "s1 = \"\"\n",
    "for c in cols:\n",
    "   s1 += \"S1.\" + str(c) +  \" AS Home_\" + str(c) + \", \"\n",
    "\n",
    "s1 = s1[:-1]\n",
    "s1"
   ]
  },
  {
   "cell_type": "code",
   "execution_count": 28,
   "metadata": {},
   "outputs": [
    {
     "data": {
      "text/plain": [
       "'S2.Offensive_ppa AS Away_Offensive_ppa, S2.Offensive_success_rate AS Away_Offensive_success_rate, S2.Offensive_explosiveness AS Away_Offensive_explosiveness, S2.Offensive_power_success AS Away_Offensive_power_success, S2.Offensive_stuff_rate AS Away_Offensive_stuff_rate, S2.Offensive_line_yards AS Away_Offensive_line_yards, S2.Defensive_ppa AS Away_Defensive_ppa, S2.Defensive_success_rate AS Away_Defensive_success_rate, S2.Defensive_explosiveness AS Away_Defensive_explosiveness, S2.Defensive_power_success AS Away_Defensive_power_success, S2.Defensive_stuff_rate AS Away_Defensive_stuff_rate, S2.Defensive_line_yards AS Away_Defensive_line_yards, S2.Offensive_havoc_total AS Away_Offensive_havoc_total, S2.Offensive_rushing_plays_ppa AS Away_Offensive_rushing_plays_ppa, S2.Offensive_rushing_plays_success_rate AS Away_Offensive_rushing_plays_success_rate, S2.Offensive_rushing_plays_explosiveness AS Away_Offensive_rushing_plays_explosiveness, S2.Offensive_passing_plays_ppa AS Away_Offensive_passing_plays_ppa, S2.Offensive_passing_plays_success_rate AS Away_Offensive_passing_plays_success_rate, S2.Offensive_passing_plays_explosiveness AS Away_Offensive_passing_plays_explosiveness, S2.Defensive_havoc_total AS Away_Defensive_havoc_total, S2.Defensive_rushing_plays_ppa AS Away_Defensive_rushing_plays_ppa, S2.Defensive_rushing_plays_success_rate AS Away_Defensive_rushing_plays_success_rate, S2.Defensive_rushing_plays_explosiveness AS Away_Defensive_rushing_plays_explosiveness, S2.Defensive_passing_plays_ppa AS Away_Defensive_passing_plays_ppa, S2.Defensive_passing_plays_success_rate AS Away_Defensive_passing_plays_success_rate, S2.Defensive_passing_plays_explosiveness AS Away_Defensive_passing_plays_explosiveness'"
      ]
     },
     "execution_count": 28,
     "metadata": {},
     "output_type": "execute_result"
    }
   ],
   "source": [
    "s2 = \"\"\n",
    "for c in cols:\n",
    "   s2 += \"S2.\" + str(c) +  \" AS Away_\" + str(c) + \", \"\n",
    "\n",
    "s2 = s2[:-2]\n",
    "s2"
   ]
  },
  {
   "cell_type": "code",
   "execution_count": 29,
   "metadata": {},
   "outputs": [],
   "source": [
    "cmd=\\\n",
    "f\"\"\"\n",
    "SELECT {str(gstr)} {str(bstr)} {str(s1)} {str(s2)}\n",
    "FROM games G\n",
    "INNER JOIN betting_lines B ON G.id=B.id\n",
    "INNER JOIN stats S1 ON S1.team=G.home_team\n",
    "INNER JOIN stats S2 ON S2.team=G.away_team\n",
    "WHERE (S2.season=G.season AND S1.season=G.season)\n",
    "\"\"\"\n",
    "\n",
    "conn=sqlite3.connect(\"CollegeFootball.db\")\n",
    "df_merged=pd.read_sql_query(cmd,conn)\n",
    "conn.close() # do not forget this after query"
   ]
  },
  {
   "cell_type": "code",
   "execution_count": 30,
   "metadata": {},
   "outputs": [
    {
     "data": {
      "text/html": [
       "<div>\n",
       "<style scoped>\n",
       "    .dataframe tbody tr th:only-of-type {\n",
       "        vertical-align: middle;\n",
       "    }\n",
       "\n",
       "    .dataframe tbody tr th {\n",
       "        vertical-align: top;\n",
       "    }\n",
       "\n",
       "    .dataframe thead th {\n",
       "        text-align: right;\n",
       "    }\n",
       "</style>\n",
       "<table border=\"1\" class=\"dataframe\">\n",
       "  <thead>\n",
       "    <tr style=\"text-align: right;\">\n",
       "      <th></th>\n",
       "      <th>id</th>\n",
       "      <th>season</th>\n",
       "      <th>neutral_site</th>\n",
       "      <th>home_id</th>\n",
       "      <th>home_team</th>\n",
       "      <th>home_conference</th>\n",
       "      <th>home_points</th>\n",
       "      <th>away_id</th>\n",
       "      <th>away_team</th>\n",
       "      <th>away_conference</th>\n",
       "      <th>...</th>\n",
       "      <th>Away_Offensive_passing_plays_ppa</th>\n",
       "      <th>Away_Offensive_passing_plays_success_rate</th>\n",
       "      <th>Away_Offensive_passing_plays_explosiveness</th>\n",
       "      <th>Away_Defensive_havoc_total</th>\n",
       "      <th>Away_Defensive_rushing_plays_ppa</th>\n",
       "      <th>Away_Defensive_rushing_plays_success_rate</th>\n",
       "      <th>Away_Defensive_rushing_plays_explosiveness</th>\n",
       "      <th>Away_Defensive_passing_plays_ppa</th>\n",
       "      <th>Away_Defensive_passing_plays_success_rate</th>\n",
       "      <th>Away_Defensive_passing_plays_explosiveness</th>\n",
       "    </tr>\n",
       "  </thead>\n",
       "  <tbody>\n",
       "    <tr>\n",
       "      <th>0</th>\n",
       "      <td>400603840</td>\n",
       "      <td>2015</td>\n",
       "      <td>1</td>\n",
       "      <td>2579</td>\n",
       "      <td>South Carolina</td>\n",
       "      <td>SEC</td>\n",
       "      <td>17</td>\n",
       "      <td>153</td>\n",
       "      <td>North Carolina</td>\n",
       "      <td>ACC</td>\n",
       "      <td>...</td>\n",
       "      <td>0.424908</td>\n",
       "      <td>0.470449</td>\n",
       "      <td>1.739379</td>\n",
       "      <td>0.015260</td>\n",
       "      <td>0.247354</td>\n",
       "      <td>0.499230</td>\n",
       "      <td>0.956353</td>\n",
       "      <td>0.120597</td>\n",
       "      <td>0.407489</td>\n",
       "      <td>1.455767</td>\n",
       "    </tr>\n",
       "    <tr>\n",
       "      <th>1</th>\n",
       "      <td>400763593</td>\n",
       "      <td>2015</td>\n",
       "      <td>0</td>\n",
       "      <td>2116</td>\n",
       "      <td>UCF</td>\n",
       "      <td>American Athletic</td>\n",
       "      <td>14</td>\n",
       "      <td>2229</td>\n",
       "      <td>Florida International</td>\n",
       "      <td>Conference USA</td>\n",
       "      <td>...</td>\n",
       "      <td>0.153434</td>\n",
       "      <td>0.410798</td>\n",
       "      <td>1.476512</td>\n",
       "      <td>0.011222</td>\n",
       "      <td>0.170103</td>\n",
       "      <td>0.490654</td>\n",
       "      <td>0.939800</td>\n",
       "      <td>0.157446</td>\n",
       "      <td>0.445055</td>\n",
       "      <td>1.305146</td>\n",
       "    </tr>\n",
       "    <tr>\n",
       "      <th>2</th>\n",
       "      <td>400763399</td>\n",
       "      <td>2015</td>\n",
       "      <td>0</td>\n",
       "      <td>2117</td>\n",
       "      <td>Central Michigan</td>\n",
       "      <td>Mid-American</td>\n",
       "      <td>13</td>\n",
       "      <td>197</td>\n",
       "      <td>Oklahoma State</td>\n",
       "      <td>Big 12</td>\n",
       "      <td>...</td>\n",
       "      <td>0.431469</td>\n",
       "      <td>0.465201</td>\n",
       "      <td>1.796764</td>\n",
       "      <td>0.016848</td>\n",
       "      <td>0.168124</td>\n",
       "      <td>0.439163</td>\n",
       "      <td>0.997732</td>\n",
       "      <td>0.178258</td>\n",
       "      <td>0.384615</td>\n",
       "      <td>1.672654</td>\n",
       "    </tr>\n",
       "    <tr>\n",
       "      <th>3</th>\n",
       "      <td>400603839</td>\n",
       "      <td>2015</td>\n",
       "      <td>0</td>\n",
       "      <td>238</td>\n",
       "      <td>Vanderbilt</td>\n",
       "      <td>SEC</td>\n",
       "      <td>12</td>\n",
       "      <td>98</td>\n",
       "      <td>Western Kentucky</td>\n",
       "      <td>Conference USA</td>\n",
       "      <td>...</td>\n",
       "      <td>0.516965</td>\n",
       "      <td>0.515712</td>\n",
       "      <td>1.614563</td>\n",
       "      <td>0.018162</td>\n",
       "      <td>0.140229</td>\n",
       "      <td>0.416667</td>\n",
       "      <td>1.069274</td>\n",
       "      <td>0.251573</td>\n",
       "      <td>0.395197</td>\n",
       "      <td>1.781922</td>\n",
       "    </tr>\n",
       "    <tr>\n",
       "      <th>4</th>\n",
       "      <td>400756883</td>\n",
       "      <td>2015</td>\n",
       "      <td>0</td>\n",
       "      <td>254</td>\n",
       "      <td>Utah</td>\n",
       "      <td>Pac-12</td>\n",
       "      <td>24</td>\n",
       "      <td>130</td>\n",
       "      <td>Michigan</td>\n",
       "      <td>Big Ten</td>\n",
       "      <td>...</td>\n",
       "      <td>0.314188</td>\n",
       "      <td>0.454965</td>\n",
       "      <td>1.551991</td>\n",
       "      <td>0.011990</td>\n",
       "      <td>0.074741</td>\n",
       "      <td>0.338272</td>\n",
       "      <td>1.188341</td>\n",
       "      <td>-0.040890</td>\n",
       "      <td>0.306763</td>\n",
       "      <td>1.524436</td>\n",
       "    </tr>\n",
       "  </tbody>\n",
       "</table>\n",
       "<p>5 rows × 67 columns</p>\n",
       "</div>"
      ],
      "text/plain": [
       "          id  season  neutral_site  home_id         home_team  \\\n",
       "0  400603840    2015             1     2579    South Carolina   \n",
       "1  400763593    2015             0     2116               UCF   \n",
       "2  400763399    2015             0     2117  Central Michigan   \n",
       "3  400603839    2015             0      238        Vanderbilt   \n",
       "4  400756883    2015             0      254              Utah   \n",
       "\n",
       "     home_conference  home_points  away_id              away_team  \\\n",
       "0                SEC           17      153         North Carolina   \n",
       "1  American Athletic           14     2229  Florida International   \n",
       "2       Mid-American           13      197         Oklahoma State   \n",
       "3                SEC           12       98       Western Kentucky   \n",
       "4             Pac-12           24      130               Michigan   \n",
       "\n",
       "  away_conference  ...  Away_Offensive_passing_plays_ppa  \\\n",
       "0             ACC  ...                          0.424908   \n",
       "1  Conference USA  ...                          0.153434   \n",
       "2          Big 12  ...                          0.431469   \n",
       "3  Conference USA  ...                          0.516965   \n",
       "4         Big Ten  ...                          0.314188   \n",
       "\n",
       "   Away_Offensive_passing_plays_success_rate  \\\n",
       "0                                   0.470449   \n",
       "1                                   0.410798   \n",
       "2                                   0.465201   \n",
       "3                                   0.515712   \n",
       "4                                   0.454965   \n",
       "\n",
       "   Away_Offensive_passing_plays_explosiveness  Away_Defensive_havoc_total  \\\n",
       "0                                    1.739379                    0.015260   \n",
       "1                                    1.476512                    0.011222   \n",
       "2                                    1.796764                    0.016848   \n",
       "3                                    1.614563                    0.018162   \n",
       "4                                    1.551991                    0.011990   \n",
       "\n",
       "   Away_Defensive_rushing_plays_ppa  \\\n",
       "0                          0.247354   \n",
       "1                          0.170103   \n",
       "2                          0.168124   \n",
       "3                          0.140229   \n",
       "4                          0.074741   \n",
       "\n",
       "   Away_Defensive_rushing_plays_success_rate  \\\n",
       "0                                   0.499230   \n",
       "1                                   0.490654   \n",
       "2                                   0.439163   \n",
       "3                                   0.416667   \n",
       "4                                   0.338272   \n",
       "\n",
       "   Away_Defensive_rushing_plays_explosiveness  \\\n",
       "0                                    0.956353   \n",
       "1                                    0.939800   \n",
       "2                                    0.997732   \n",
       "3                                    1.069274   \n",
       "4                                    1.188341   \n",
       "\n",
       "   Away_Defensive_passing_plays_ppa  \\\n",
       "0                          0.120597   \n",
       "1                          0.157446   \n",
       "2                          0.178258   \n",
       "3                          0.251573   \n",
       "4                         -0.040890   \n",
       "\n",
       "   Away_Defensive_passing_plays_success_rate  \\\n",
       "0                                   0.407489   \n",
       "1                                   0.445055   \n",
       "2                                   0.384615   \n",
       "3                                   0.395197   \n",
       "4                                   0.306763   \n",
       "\n",
       "   Away_Defensive_passing_plays_explosiveness  \n",
       "0                                    1.455767  \n",
       "1                                    1.305146  \n",
       "2                                    1.672654  \n",
       "3                                    1.781922  \n",
       "4                                    1.524436  \n",
       "\n",
       "[5 rows x 67 columns]"
      ]
     },
     "execution_count": 30,
     "metadata": {},
     "output_type": "execute_result"
    }
   ],
   "source": [
    "df_merged.head()"
   ]
  },
  {
   "cell_type": "code",
   "execution_count": 31,
   "metadata": {},
   "outputs": [
    {
     "data": {
      "text/html": [
       "<div>\n",
       "<style scoped>\n",
       "    .dataframe tbody tr th:only-of-type {\n",
       "        vertical-align: middle;\n",
       "    }\n",
       "\n",
       "    .dataframe tbody tr th {\n",
       "        vertical-align: top;\n",
       "    }\n",
       "\n",
       "    .dataframe thead th {\n",
       "        text-align: right;\n",
       "    }\n",
       "</style>\n",
       "<table border=\"1\" class=\"dataframe\">\n",
       "  <thead>\n",
       "    <tr style=\"text-align: right;\">\n",
       "      <th></th>\n",
       "      <th>home_points</th>\n",
       "      <th>away_points</th>\n",
       "      <th>game_spread</th>\n",
       "      <th>game_totalpts</th>\n",
       "    </tr>\n",
       "  </thead>\n",
       "  <tbody>\n",
       "    <tr>\n",
       "      <th>0</th>\n",
       "      <td>17</td>\n",
       "      <td>13</td>\n",
       "      <td>4</td>\n",
       "      <td>30</td>\n",
       "    </tr>\n",
       "    <tr>\n",
       "      <th>1</th>\n",
       "      <td>14</td>\n",
       "      <td>15</td>\n",
       "      <td>-1</td>\n",
       "      <td>29</td>\n",
       "    </tr>\n",
       "    <tr>\n",
       "      <th>2</th>\n",
       "      <td>13</td>\n",
       "      <td>24</td>\n",
       "      <td>-11</td>\n",
       "      <td>37</td>\n",
       "    </tr>\n",
       "    <tr>\n",
       "      <th>3</th>\n",
       "      <td>12</td>\n",
       "      <td>14</td>\n",
       "      <td>-2</td>\n",
       "      <td>26</td>\n",
       "    </tr>\n",
       "    <tr>\n",
       "      <th>4</th>\n",
       "      <td>24</td>\n",
       "      <td>17</td>\n",
       "      <td>7</td>\n",
       "      <td>41</td>\n",
       "    </tr>\n",
       "    <tr>\n",
       "      <th>...</th>\n",
       "      <td>...</td>\n",
       "      <td>...</td>\n",
       "      <td>...</td>\n",
       "      <td>...</td>\n",
       "    </tr>\n",
       "    <tr>\n",
       "      <th>5583</th>\n",
       "      <td>50</td>\n",
       "      <td>30</td>\n",
       "      <td>20</td>\n",
       "      <td>80</td>\n",
       "    </tr>\n",
       "    <tr>\n",
       "      <th>5584</th>\n",
       "      <td>16</td>\n",
       "      <td>28</td>\n",
       "      <td>-12</td>\n",
       "      <td>44</td>\n",
       "    </tr>\n",
       "    <tr>\n",
       "      <th>5585</th>\n",
       "      <td>10</td>\n",
       "      <td>39</td>\n",
       "      <td>-29</td>\n",
       "      <td>49</td>\n",
       "    </tr>\n",
       "    <tr>\n",
       "      <th>5586</th>\n",
       "      <td>43</td>\n",
       "      <td>22</td>\n",
       "      <td>21</td>\n",
       "      <td>65</td>\n",
       "    </tr>\n",
       "    <tr>\n",
       "      <th>5587</th>\n",
       "      <td>20</td>\n",
       "      <td>17</td>\n",
       "      <td>3</td>\n",
       "      <td>37</td>\n",
       "    </tr>\n",
       "  </tbody>\n",
       "</table>\n",
       "<p>5588 rows × 4 columns</p>\n",
       "</div>"
      ],
      "text/plain": [
       "      home_points  away_points  game_spread  game_totalpts\n",
       "0              17           13            4             30\n",
       "1              14           15           -1             29\n",
       "2              13           24          -11             37\n",
       "3              12           14           -2             26\n",
       "4              24           17            7             41\n",
       "...           ...          ...          ...            ...\n",
       "5583           50           30           20             80\n",
       "5584           16           28          -12             44\n",
       "5585           10           39          -29             49\n",
       "5586           43           22           21             65\n",
       "5587           20           17            3             37\n",
       "\n",
       "[5588 rows x 4 columns]"
      ]
     },
     "execution_count": 31,
     "metadata": {},
     "output_type": "execute_result"
    }
   ],
   "source": [
    "df_merged[[\"id\",\"Home_Offensive_ppa\",\"Away_Offensive_ppa\"]] #verified w first result\n",
    "df_merged[[\"home_points\",\"away_points\",\"game_spread\",\"game_totalpts\"]]"
   ]
  },
  {
   "cell_type": "code",
   "execution_count": 32,
   "metadata": {},
   "outputs": [],
   "source": [
    "#sample merge dataframe\n",
    "\n",
    "# cmd=\\\n",
    "# \"\"\"\n",
    "# SELECT G.away_team,G.away_points,G.home_points,G.home_team,B.av_spread,B.av_total\n",
    "# FROM games G\n",
    "# INNER JOIN betting_lines B ON G.id=B.id\n",
    "# \"\"\"\n",
    "# conn=sqlite3.connect(\"CollegeFootball.db\")\n",
    "# test_merge=pd.read_sql_query(cmd,conn)\n",
    "# conn.close() # do not forget this after query\n",
    "# test_merge"
   ]
  },
  {
   "cell_type": "code",
   "execution_count": 33,
   "metadata": {},
   "outputs": [
    {
     "data": {
      "text/plain": [
       "'Clemson -24'"
      ]
     },
     "execution_count": 33,
     "metadata": {},
     "output_type": "execute_result"
    }
   ],
   "source": [
    "betting_list[0].lines[1].formatted_spread"
   ]
  },
  {
   "cell_type": "markdown",
   "metadata": {},
   "source": [
    "Merging tables to set up for NN"
   ]
  },
  {
   "cell_type": "code",
   "execution_count": 34,
   "metadata": {},
   "outputs": [
    {
     "data": {
      "text/plain": [
       "Index(['id', 'season', 'neutral_site', 'home_id', 'home_team',\n",
       "       'home_conference', 'home_points', 'away_id', 'away_team',\n",
       "       'away_conference', 'away_points', 'game_spread', 'game_totalpts',\n",
       "       'av_spread', 'av_total', 'Home_Offensive_ppa',\n",
       "       'Home_Offensive_success_rate', 'Home_Offensive_explosiveness',\n",
       "       'Home_Offensive_power_success', 'Home_Offensive_stuff_rate',\n",
       "       'Home_Offensive_line_yards', 'Home_Defensive_ppa',\n",
       "       'Home_Defensive_success_rate', 'Home_Defensive_explosiveness',\n",
       "       'Home_Defensive_power_success', 'Home_Defensive_stuff_rate',\n",
       "       'Home_Defensive_line_yards', 'Home_Offensive_havoc_total',\n",
       "       'Home_Offensive_rushing_plays_ppa',\n",
       "       'Home_Offensive_rushing_plays_success_rate',\n",
       "       'Home_Offensive_rushing_plays_explosiveness',\n",
       "       'Home_Offensive_passing_plays_ppa',\n",
       "       'Home_Offensive_passing_plays_success_rate',\n",
       "       'Home_Offensive_passing_plays_explosiveness',\n",
       "       'Home_Defensive_havoc_total', 'Home_Defensive_rushing_plays_ppa',\n",
       "       'Home_Defensive_rushing_plays_success_rate',\n",
       "       'Home_Defensive_rushing_plays_explosiveness',\n",
       "       'Home_Defensive_passing_plays_ppa',\n",
       "       'Home_Defensive_passing_plays_success_rate',\n",
       "       'Home_Defensive_passing_plays_explosiveness', 'Away_Offensive_ppa',\n",
       "       'Away_Offensive_success_rate', 'Away_Offensive_explosiveness',\n",
       "       'Away_Offensive_power_success', 'Away_Offensive_stuff_rate',\n",
       "       'Away_Offensive_line_yards', 'Away_Defensive_ppa',\n",
       "       'Away_Defensive_success_rate', 'Away_Defensive_explosiveness',\n",
       "       'Away_Defensive_power_success', 'Away_Defensive_stuff_rate',\n",
       "       'Away_Defensive_line_yards', 'Away_Offensive_havoc_total',\n",
       "       'Away_Offensive_rushing_plays_ppa',\n",
       "       'Away_Offensive_rushing_plays_success_rate',\n",
       "       'Away_Offensive_rushing_plays_explosiveness',\n",
       "       'Away_Offensive_passing_plays_ppa',\n",
       "       'Away_Offensive_passing_plays_success_rate',\n",
       "       'Away_Offensive_passing_plays_explosiveness',\n",
       "       'Away_Defensive_havoc_total', 'Away_Defensive_rushing_plays_ppa',\n",
       "       'Away_Defensive_rushing_plays_success_rate',\n",
       "       'Away_Defensive_rushing_plays_explosiveness',\n",
       "       'Away_Defensive_passing_plays_ppa',\n",
       "       'Away_Defensive_passing_plays_success_rate',\n",
       "       'Away_Defensive_passing_plays_explosiveness'],\n",
       "      dtype='object')"
      ]
     },
     "execution_count": 34,
     "metadata": {},
     "output_type": "execute_result"
    }
   ],
   "source": [
    "df_merged.columns"
   ]
  },
  {
   "cell_type": "code",
   "execution_count": 35,
   "metadata": {},
   "outputs": [],
   "source": [
    "parameters_df=df_merged.drop(['id', 'season', 'home_id', 'home_team',\n",
    "       'home_conference', 'home_points', 'away_id', 'away_team',\n",
    "       'away_conference', 'away_points', 'game_spread', 'game_totalpts',\n",
    "       'av_spread', 'av_total'], axis=1)"
   ]
  },
  {
   "cell_type": "code",
   "execution_count": 36,
   "metadata": {},
   "outputs": [
    {
     "data": {
      "text/html": [
       "<div>\n",
       "<style scoped>\n",
       "    .dataframe tbody tr th:only-of-type {\n",
       "        vertical-align: middle;\n",
       "    }\n",
       "\n",
       "    .dataframe tbody tr th {\n",
       "        vertical-align: top;\n",
       "    }\n",
       "\n",
       "    .dataframe thead th {\n",
       "        text-align: right;\n",
       "    }\n",
       "</style>\n",
       "<table border=\"1\" class=\"dataframe\">\n",
       "  <thead>\n",
       "    <tr style=\"text-align: right;\">\n",
       "      <th></th>\n",
       "      <th>Home_Offensive_ppa</th>\n",
       "      <th>Home_Offensive_success_rate</th>\n",
       "      <th>Home_Offensive_explosiveness</th>\n",
       "      <th>Home_Offensive_power_success</th>\n",
       "      <th>Home_Offensive_stuff_rate</th>\n",
       "      <th>Home_Offensive_line_yards</th>\n",
       "      <th>Home_Defensive_ppa</th>\n",
       "      <th>Home_Defensive_success_rate</th>\n",
       "      <th>Home_Defensive_explosiveness</th>\n",
       "      <th>Home_Defensive_power_success</th>\n",
       "      <th>...</th>\n",
       "      <th>Away_Offensive_passing_plays_ppa</th>\n",
       "      <th>Away_Offensive_passing_plays_success_rate</th>\n",
       "      <th>Away_Offensive_passing_plays_explosiveness</th>\n",
       "      <th>Away_Defensive_havoc_total</th>\n",
       "      <th>Away_Defensive_rushing_plays_ppa</th>\n",
       "      <th>Away_Defensive_rushing_plays_success_rate</th>\n",
       "      <th>Away_Defensive_rushing_plays_explosiveness</th>\n",
       "      <th>Away_Defensive_passing_plays_ppa</th>\n",
       "      <th>Away_Defensive_passing_plays_success_rate</th>\n",
       "      <th>Away_Defensive_passing_plays_explosiveness</th>\n",
       "    </tr>\n",
       "  </thead>\n",
       "  <tbody>\n",
       "    <tr>\n",
       "      <th>0</th>\n",
       "      <td>0.135110</td>\n",
       "      <td>0.398230</td>\n",
       "      <td>1.310823</td>\n",
       "      <td>0.537037</td>\n",
       "      <td>0.240602</td>\n",
       "      <td>2.786466</td>\n",
       "      <td>0.245734</td>\n",
       "      <td>0.469222</td>\n",
       "      <td>1.193992</td>\n",
       "      <td>0.825397</td>\n",
       "      <td>...</td>\n",
       "      <td>0.424908</td>\n",
       "      <td>0.470449</td>\n",
       "      <td>1.739379</td>\n",
       "      <td>0.015260</td>\n",
       "      <td>0.247354</td>\n",
       "      <td>0.499230</td>\n",
       "      <td>0.956353</td>\n",
       "      <td>0.120597</td>\n",
       "      <td>0.407489</td>\n",
       "      <td>1.455767</td>\n",
       "    </tr>\n",
       "    <tr>\n",
       "      <th>1</th>\n",
       "      <td>-0.030181</td>\n",
       "      <td>0.359949</td>\n",
       "      <td>1.089648</td>\n",
       "      <td>0.718750</td>\n",
       "      <td>0.245509</td>\n",
       "      <td>2.368563</td>\n",
       "      <td>0.274816</td>\n",
       "      <td>0.447399</td>\n",
       "      <td>1.370219</td>\n",
       "      <td>0.725806</td>\n",
       "      <td>...</td>\n",
       "      <td>0.153434</td>\n",
       "      <td>0.410798</td>\n",
       "      <td>1.476512</td>\n",
       "      <td>0.011222</td>\n",
       "      <td>0.170103</td>\n",
       "      <td>0.490654</td>\n",
       "      <td>0.939800</td>\n",
       "      <td>0.157446</td>\n",
       "      <td>0.445055</td>\n",
       "      <td>1.305146</td>\n",
       "    </tr>\n",
       "    <tr>\n",
       "      <th>2</th>\n",
       "      <td>0.168963</td>\n",
       "      <td>0.426384</td>\n",
       "      <td>1.243901</td>\n",
       "      <td>0.690476</td>\n",
       "      <td>0.264205</td>\n",
       "      <td>2.378693</td>\n",
       "      <td>0.123896</td>\n",
       "      <td>0.401535</td>\n",
       "      <td>1.143104</td>\n",
       "      <td>0.659091</td>\n",
       "      <td>...</td>\n",
       "      <td>0.431469</td>\n",
       "      <td>0.465201</td>\n",
       "      <td>1.796764</td>\n",
       "      <td>0.016848</td>\n",
       "      <td>0.168124</td>\n",
       "      <td>0.439163</td>\n",
       "      <td>0.997732</td>\n",
       "      <td>0.178258</td>\n",
       "      <td>0.384615</td>\n",
       "      <td>1.672654</td>\n",
       "    </tr>\n",
       "    <tr>\n",
       "      <th>3</th>\n",
       "      <td>0.007890</td>\n",
       "      <td>0.369738</td>\n",
       "      <td>1.126528</td>\n",
       "      <td>0.567164</td>\n",
       "      <td>0.236052</td>\n",
       "      <td>2.593562</td>\n",
       "      <td>0.046162</td>\n",
       "      <td>0.379227</td>\n",
       "      <td>1.123273</td>\n",
       "      <td>0.416667</td>\n",
       "      <td>...</td>\n",
       "      <td>0.516965</td>\n",
       "      <td>0.515712</td>\n",
       "      <td>1.614563</td>\n",
       "      <td>0.018162</td>\n",
       "      <td>0.140229</td>\n",
       "      <td>0.416667</td>\n",
       "      <td>1.069274</td>\n",
       "      <td>0.251573</td>\n",
       "      <td>0.395197</td>\n",
       "      <td>1.781922</td>\n",
       "    </tr>\n",
       "    <tr>\n",
       "      <th>4</th>\n",
       "      <td>0.139662</td>\n",
       "      <td>0.438034</td>\n",
       "      <td>1.087708</td>\n",
       "      <td>0.780488</td>\n",
       "      <td>0.194085</td>\n",
       "      <td>2.946211</td>\n",
       "      <td>0.064989</td>\n",
       "      <td>0.403226</td>\n",
       "      <td>1.273348</td>\n",
       "      <td>0.560000</td>\n",
       "      <td>...</td>\n",
       "      <td>0.314188</td>\n",
       "      <td>0.454965</td>\n",
       "      <td>1.551991</td>\n",
       "      <td>0.011990</td>\n",
       "      <td>0.074741</td>\n",
       "      <td>0.338272</td>\n",
       "      <td>1.188341</td>\n",
       "      <td>-0.040890</td>\n",
       "      <td>0.306763</td>\n",
       "      <td>1.524436</td>\n",
       "    </tr>\n",
       "    <tr>\n",
       "      <th>...</th>\n",
       "      <td>...</td>\n",
       "      <td>...</td>\n",
       "      <td>...</td>\n",
       "      <td>...</td>\n",
       "      <td>...</td>\n",
       "      <td>...</td>\n",
       "      <td>...</td>\n",
       "      <td>...</td>\n",
       "      <td>...</td>\n",
       "      <td>...</td>\n",
       "      <td>...</td>\n",
       "      <td>...</td>\n",
       "      <td>...</td>\n",
       "      <td>...</td>\n",
       "      <td>...</td>\n",
       "      <td>...</td>\n",
       "      <td>...</td>\n",
       "      <td>...</td>\n",
       "      <td>...</td>\n",
       "      <td>...</td>\n",
       "      <td>...</td>\n",
       "    </tr>\n",
       "    <tr>\n",
       "      <th>5583</th>\n",
       "      <td>0.382290</td>\n",
       "      <td>0.531523</td>\n",
       "      <td>1.227645</td>\n",
       "      <td>0.702128</td>\n",
       "      <td>0.174157</td>\n",
       "      <td>3.242884</td>\n",
       "      <td>0.033671</td>\n",
       "      <td>0.352811</td>\n",
       "      <td>1.222969</td>\n",
       "      <td>0.708333</td>\n",
       "      <td>...</td>\n",
       "      <td>0.289789</td>\n",
       "      <td>0.480916</td>\n",
       "      <td>1.435500</td>\n",
       "      <td>0.148707</td>\n",
       "      <td>0.131838</td>\n",
       "      <td>0.424051</td>\n",
       "      <td>0.964949</td>\n",
       "      <td>0.125653</td>\n",
       "      <td>0.361233</td>\n",
       "      <td>1.690313</td>\n",
       "    </tr>\n",
       "    <tr>\n",
       "      <th>5584</th>\n",
       "      <td>0.222084</td>\n",
       "      <td>0.422553</td>\n",
       "      <td>1.238781</td>\n",
       "      <td>0.770833</td>\n",
       "      <td>0.136069</td>\n",
       "      <td>3.271922</td>\n",
       "      <td>0.068274</td>\n",
       "      <td>0.340659</td>\n",
       "      <td>1.264380</td>\n",
       "      <td>0.775510</td>\n",
       "      <td>...</td>\n",
       "      <td>0.362215</td>\n",
       "      <td>0.479508</td>\n",
       "      <td>1.376398</td>\n",
       "      <td>0.182018</td>\n",
       "      <td>0.131782</td>\n",
       "      <td>0.407489</td>\n",
       "      <td>1.035572</td>\n",
       "      <td>0.163956</td>\n",
       "      <td>0.373333</td>\n",
       "      <td>1.559630</td>\n",
       "    </tr>\n",
       "    <tr>\n",
       "      <th>5585</th>\n",
       "      <td>0.295542</td>\n",
       "      <td>0.461914</td>\n",
       "      <td>1.338389</td>\n",
       "      <td>0.712329</td>\n",
       "      <td>0.164502</td>\n",
       "      <td>3.167316</td>\n",
       "      <td>0.269587</td>\n",
       "      <td>0.477000</td>\n",
       "      <td>1.196434</td>\n",
       "      <td>0.769231</td>\n",
       "      <td>...</td>\n",
       "      <td>0.203810</td>\n",
       "      <td>0.413174</td>\n",
       "      <td>1.464382</td>\n",
       "      <td>0.210043</td>\n",
       "      <td>0.042026</td>\n",
       "      <td>0.386935</td>\n",
       "      <td>0.899329</td>\n",
       "      <td>0.081042</td>\n",
       "      <td>0.372624</td>\n",
       "      <td>1.523842</td>\n",
       "    </tr>\n",
       "    <tr>\n",
       "      <th>5586</th>\n",
       "      <td>0.297575</td>\n",
       "      <td>0.503619</td>\n",
       "      <td>1.214274</td>\n",
       "      <td>0.775281</td>\n",
       "      <td>0.156089</td>\n",
       "      <td>3.239966</td>\n",
       "      <td>0.031886</td>\n",
       "      <td>0.363014</td>\n",
       "      <td>1.176733</td>\n",
       "      <td>0.711538</td>\n",
       "      <td>...</td>\n",
       "      <td>0.227180</td>\n",
       "      <td>0.426168</td>\n",
       "      <td>1.414203</td>\n",
       "      <td>0.164634</td>\n",
       "      <td>0.107320</td>\n",
       "      <td>0.410758</td>\n",
       "      <td>0.930402</td>\n",
       "      <td>0.245988</td>\n",
       "      <td>0.402500</td>\n",
       "      <td>1.651034</td>\n",
       "    </tr>\n",
       "    <tr>\n",
       "      <th>5587</th>\n",
       "      <td>0.277412</td>\n",
       "      <td>0.444892</td>\n",
       "      <td>1.186546</td>\n",
       "      <td>0.729412</td>\n",
       "      <td>0.098884</td>\n",
       "      <td>3.377671</td>\n",
       "      <td>0.181704</td>\n",
       "      <td>0.460916</td>\n",
       "      <td>1.128304</td>\n",
       "      <td>0.750000</td>\n",
       "      <td>...</td>\n",
       "      <td>0.184812</td>\n",
       "      <td>0.285714</td>\n",
       "      <td>2.535155</td>\n",
       "      <td>0.249561</td>\n",
       "      <td>0.014536</td>\n",
       "      <td>0.352313</td>\n",
       "      <td>1.006881</td>\n",
       "      <td>0.493508</td>\n",
       "      <td>0.438163</td>\n",
       "      <td>1.883846</td>\n",
       "    </tr>\n",
       "  </tbody>\n",
       "</table>\n",
       "<p>5588 rows × 52 columns</p>\n",
       "</div>"
      ],
      "text/plain": [
       "      Home_Offensive_ppa  Home_Offensive_success_rate  \\\n",
       "0               0.135110                     0.398230   \n",
       "1              -0.030181                     0.359949   \n",
       "2               0.168963                     0.426384   \n",
       "3               0.007890                     0.369738   \n",
       "4               0.139662                     0.438034   \n",
       "...                  ...                          ...   \n",
       "5583            0.382290                     0.531523   \n",
       "5584            0.222084                     0.422553   \n",
       "5585            0.295542                     0.461914   \n",
       "5586            0.297575                     0.503619   \n",
       "5587            0.277412                     0.444892   \n",
       "\n",
       "      Home_Offensive_explosiveness  Home_Offensive_power_success  \\\n",
       "0                         1.310823                      0.537037   \n",
       "1                         1.089648                      0.718750   \n",
       "2                         1.243901                      0.690476   \n",
       "3                         1.126528                      0.567164   \n",
       "4                         1.087708                      0.780488   \n",
       "...                            ...                           ...   \n",
       "5583                      1.227645                      0.702128   \n",
       "5584                      1.238781                      0.770833   \n",
       "5585                      1.338389                      0.712329   \n",
       "5586                      1.214274                      0.775281   \n",
       "5587                      1.186546                      0.729412   \n",
       "\n",
       "      Home_Offensive_stuff_rate  Home_Offensive_line_yards  \\\n",
       "0                      0.240602                   2.786466   \n",
       "1                      0.245509                   2.368563   \n",
       "2                      0.264205                   2.378693   \n",
       "3                      0.236052                   2.593562   \n",
       "4                      0.194085                   2.946211   \n",
       "...                         ...                        ...   \n",
       "5583                   0.174157                   3.242884   \n",
       "5584                   0.136069                   3.271922   \n",
       "5585                   0.164502                   3.167316   \n",
       "5586                   0.156089                   3.239966   \n",
       "5587                   0.098884                   3.377671   \n",
       "\n",
       "      Home_Defensive_ppa  Home_Defensive_success_rate  \\\n",
       "0               0.245734                     0.469222   \n",
       "1               0.274816                     0.447399   \n",
       "2               0.123896                     0.401535   \n",
       "3               0.046162                     0.379227   \n",
       "4               0.064989                     0.403226   \n",
       "...                  ...                          ...   \n",
       "5583            0.033671                     0.352811   \n",
       "5584            0.068274                     0.340659   \n",
       "5585            0.269587                     0.477000   \n",
       "5586            0.031886                     0.363014   \n",
       "5587            0.181704                     0.460916   \n",
       "\n",
       "      Home_Defensive_explosiveness  Home_Defensive_power_success  ...  \\\n",
       "0                         1.193992                      0.825397  ...   \n",
       "1                         1.370219                      0.725806  ...   \n",
       "2                         1.143104                      0.659091  ...   \n",
       "3                         1.123273                      0.416667  ...   \n",
       "4                         1.273348                      0.560000  ...   \n",
       "...                            ...                           ...  ...   \n",
       "5583                      1.222969                      0.708333  ...   \n",
       "5584                      1.264380                      0.775510  ...   \n",
       "5585                      1.196434                      0.769231  ...   \n",
       "5586                      1.176733                      0.711538  ...   \n",
       "5587                      1.128304                      0.750000  ...   \n",
       "\n",
       "      Away_Offensive_passing_plays_ppa  \\\n",
       "0                             0.424908   \n",
       "1                             0.153434   \n",
       "2                             0.431469   \n",
       "3                             0.516965   \n",
       "4                             0.314188   \n",
       "...                                ...   \n",
       "5583                          0.289789   \n",
       "5584                          0.362215   \n",
       "5585                          0.203810   \n",
       "5586                          0.227180   \n",
       "5587                          0.184812   \n",
       "\n",
       "      Away_Offensive_passing_plays_success_rate  \\\n",
       "0                                      0.470449   \n",
       "1                                      0.410798   \n",
       "2                                      0.465201   \n",
       "3                                      0.515712   \n",
       "4                                      0.454965   \n",
       "...                                         ...   \n",
       "5583                                   0.480916   \n",
       "5584                                   0.479508   \n",
       "5585                                   0.413174   \n",
       "5586                                   0.426168   \n",
       "5587                                   0.285714   \n",
       "\n",
       "      Away_Offensive_passing_plays_explosiveness  Away_Defensive_havoc_total  \\\n",
       "0                                       1.739379                    0.015260   \n",
       "1                                       1.476512                    0.011222   \n",
       "2                                       1.796764                    0.016848   \n",
       "3                                       1.614563                    0.018162   \n",
       "4                                       1.551991                    0.011990   \n",
       "...                                          ...                         ...   \n",
       "5583                                    1.435500                    0.148707   \n",
       "5584                                    1.376398                    0.182018   \n",
       "5585                                    1.464382                    0.210043   \n",
       "5586                                    1.414203                    0.164634   \n",
       "5587                                    2.535155                    0.249561   \n",
       "\n",
       "      Away_Defensive_rushing_plays_ppa  \\\n",
       "0                             0.247354   \n",
       "1                             0.170103   \n",
       "2                             0.168124   \n",
       "3                             0.140229   \n",
       "4                             0.074741   \n",
       "...                                ...   \n",
       "5583                          0.131838   \n",
       "5584                          0.131782   \n",
       "5585                          0.042026   \n",
       "5586                          0.107320   \n",
       "5587                          0.014536   \n",
       "\n",
       "      Away_Defensive_rushing_plays_success_rate  \\\n",
       "0                                      0.499230   \n",
       "1                                      0.490654   \n",
       "2                                      0.439163   \n",
       "3                                      0.416667   \n",
       "4                                      0.338272   \n",
       "...                                         ...   \n",
       "5583                                   0.424051   \n",
       "5584                                   0.407489   \n",
       "5585                                   0.386935   \n",
       "5586                                   0.410758   \n",
       "5587                                   0.352313   \n",
       "\n",
       "      Away_Defensive_rushing_plays_explosiveness  \\\n",
       "0                                       0.956353   \n",
       "1                                       0.939800   \n",
       "2                                       0.997732   \n",
       "3                                       1.069274   \n",
       "4                                       1.188341   \n",
       "...                                          ...   \n",
       "5583                                    0.964949   \n",
       "5584                                    1.035572   \n",
       "5585                                    0.899329   \n",
       "5586                                    0.930402   \n",
       "5587                                    1.006881   \n",
       "\n",
       "      Away_Defensive_passing_plays_ppa  \\\n",
       "0                             0.120597   \n",
       "1                             0.157446   \n",
       "2                             0.178258   \n",
       "3                             0.251573   \n",
       "4                            -0.040890   \n",
       "...                                ...   \n",
       "5583                          0.125653   \n",
       "5584                          0.163956   \n",
       "5585                          0.081042   \n",
       "5586                          0.245988   \n",
       "5587                          0.493508   \n",
       "\n",
       "      Away_Defensive_passing_plays_success_rate  \\\n",
       "0                                      0.407489   \n",
       "1                                      0.445055   \n",
       "2                                      0.384615   \n",
       "3                                      0.395197   \n",
       "4                                      0.306763   \n",
       "...                                         ...   \n",
       "5583                                   0.361233   \n",
       "5584                                   0.373333   \n",
       "5585                                   0.372624   \n",
       "5586                                   0.402500   \n",
       "5587                                   0.438163   \n",
       "\n",
       "      Away_Defensive_passing_plays_explosiveness  \n",
       "0                                       1.455767  \n",
       "1                                       1.305146  \n",
       "2                                       1.672654  \n",
       "3                                       1.781922  \n",
       "4                                       1.524436  \n",
       "...                                          ...  \n",
       "5583                                    1.690313  \n",
       "5584                                    1.559630  \n",
       "5585                                    1.523842  \n",
       "5586                                    1.651034  \n",
       "5587                                    1.883846  \n",
       "\n",
       "[5588 rows x 52 columns]"
      ]
     },
     "execution_count": 36,
     "metadata": {},
     "output_type": "execute_result"
    }
   ],
   "source": [
    "parameters_df #X"
   ]
  },
  {
   "cell_type": "code",
   "execution_count": 37,
   "metadata": {},
   "outputs": [],
   "source": [
    "predict_betting_df=df_merged[['av_spread','av_total']]"
   ]
  },
  {
   "cell_type": "code",
   "execution_count": 38,
   "metadata": {},
   "outputs": [
    {
     "data": {
      "text/html": [
       "<div>\n",
       "<style scoped>\n",
       "    .dataframe tbody tr th:only-of-type {\n",
       "        vertical-align: middle;\n",
       "    }\n",
       "\n",
       "    .dataframe tbody tr th {\n",
       "        vertical-align: top;\n",
       "    }\n",
       "\n",
       "    .dataframe thead th {\n",
       "        text-align: right;\n",
       "    }\n",
       "</style>\n",
       "<table border=\"1\" class=\"dataframe\">\n",
       "  <thead>\n",
       "    <tr style=\"text-align: right;\">\n",
       "      <th></th>\n",
       "      <th>av_spread</th>\n",
       "      <th>av_total</th>\n",
       "    </tr>\n",
       "  </thead>\n",
       "  <tbody>\n",
       "    <tr>\n",
       "      <th>0</th>\n",
       "      <td>2.000000</td>\n",
       "      <td>62.00</td>\n",
       "    </tr>\n",
       "    <tr>\n",
       "      <th>1</th>\n",
       "      <td>12.666667</td>\n",
       "      <td>44.25</td>\n",
       "    </tr>\n",
       "    <tr>\n",
       "      <th>2</th>\n",
       "      <td>-20.833333</td>\n",
       "      <td>57.75</td>\n",
       "    </tr>\n",
       "    <tr>\n",
       "      <th>3</th>\n",
       "      <td>4.333333</td>\n",
       "      <td>60.00</td>\n",
       "    </tr>\n",
       "    <tr>\n",
       "      <th>4</th>\n",
       "      <td>4.333333</td>\n",
       "      <td>44.75</td>\n",
       "    </tr>\n",
       "    <tr>\n",
       "      <th>...</th>\n",
       "      <td>...</td>\n",
       "      <td>...</td>\n",
       "    </tr>\n",
       "    <tr>\n",
       "      <th>5583</th>\n",
       "      <td>17.125000</td>\n",
       "      <td>51.75</td>\n",
       "    </tr>\n",
       "    <tr>\n",
       "      <th>5584</th>\n",
       "      <td>3.000000</td>\n",
       "      <td>54.75</td>\n",
       "    </tr>\n",
       "    <tr>\n",
       "      <th>5585</th>\n",
       "      <td>-7.250000</td>\n",
       "      <td>64.00</td>\n",
       "    </tr>\n",
       "    <tr>\n",
       "      <th>5586</th>\n",
       "      <td>15.625000</td>\n",
       "      <td>53.75</td>\n",
       "    </tr>\n",
       "    <tr>\n",
       "      <th>5587</th>\n",
       "      <td>-2.625000</td>\n",
       "      <td>32.00</td>\n",
       "    </tr>\n",
       "  </tbody>\n",
       "</table>\n",
       "<p>5588 rows × 2 columns</p>\n",
       "</div>"
      ],
      "text/plain": [
       "      av_spread  av_total\n",
       "0      2.000000     62.00\n",
       "1     12.666667     44.25\n",
       "2    -20.833333     57.75\n",
       "3      4.333333     60.00\n",
       "4      4.333333     44.75\n",
       "...         ...       ...\n",
       "5583  17.125000     51.75\n",
       "5584   3.000000     54.75\n",
       "5585  -7.250000     64.00\n",
       "5586  15.625000     53.75\n",
       "5587  -2.625000     32.00\n",
       "\n",
       "[5588 rows x 2 columns]"
      ]
     },
     "execution_count": 38,
     "metadata": {},
     "output_type": "execute_result"
    }
   ],
   "source": [
    "predict_betting_df  #y"
   ]
  },
  {
   "cell_type": "code",
   "execution_count": 39,
   "metadata": {},
   "outputs": [],
   "source": [
    "# things we are missing for neural network: Strength of Schedule\n",
    "# either grab it from somewhere, create it using our own data or use the \n",
    "# data that takes it into account.\n",
    "# also aren't currently taking into account neutral site\n",
    "# instead counting it as 'home' or 'away' for those teams listed.\n",
    "\n",
    "df = pd.DataFrame()\n",
    "\n",
    "X = np.array(parameters_df,dtype=np.float32)\n",
    "y_betting = np.array(predict_betting_df,dtype=np.float32)    #predicting betting info\n",
    "\n",
    "X_train, X_test, y_train, y_test = train_test_split(X,y_betting,test_size=0.3)\n"
   ]
  },
  {
   "cell_type": "code",
   "execution_count": 40,
   "metadata": {},
   "outputs": [],
   "source": [
    "model = tf.keras.models.Sequential([\n",
    "    layers.Dense(100,input_shape=(X_train.shape[1],),activation='relu'),\n",
    "    layers.Dense(100,activation='relu'),\n",
    "    layers.Dense(2)\n",
    "])"
   ]
  },
  {
   "cell_type": "code",
   "execution_count": 41,
   "metadata": {},
   "outputs": [],
   "source": [
    "model.compile(optimizer='adam',\n",
    "              loss='mse',\n",
    "              metrics=['mae','mse'])"
   ]
  },
  {
   "cell_type": "code",
   "execution_count": 42,
   "metadata": {},
   "outputs": [
    {
     "name": "stdout",
     "output_type": "stream",
     "text": [
      "Model: \"sequential\"\n",
      "_________________________________________________________________\n",
      " Layer (type)                Output Shape              Param #   \n",
      "=================================================================\n",
      " dense (Dense)               (None, 100)               5300      \n",
      "                                                                 \n",
      " dense_1 (Dense)             (None, 100)               10100     \n",
      "                                                                 \n",
      " dense_2 (Dense)             (None, 2)                 202       \n",
      "                                                                 \n",
      "=================================================================\n",
      "Total params: 15,602\n",
      "Trainable params: 15,602\n",
      "Non-trainable params: 0\n",
      "_________________________________________________________________\n"
     ]
    }
   ],
   "source": [
    "model.summary()"
   ]
  },
  {
   "cell_type": "code",
   "execution_count": 43,
   "metadata": {},
   "outputs": [
    {
     "name": "stdout",
     "output_type": "stream",
     "text": [
      "Epoch 1/20\n",
      "123/123 [==============================] - 1s 1ms/step - loss: 489.2843 - mae: 15.6459 - mse: 489.2843\n",
      "Epoch 2/20\n",
      "123/123 [==============================] - 0s 1ms/step - loss: 128.7231 - mae: 8.5982 - mse: 128.7231\n",
      "Epoch 3/20\n",
      "123/123 [==============================] - 0s 1ms/step - loss: 128.1439 - mae: 8.5761 - mse: 128.1439\n",
      "Epoch 4/20\n",
      "123/123 [==============================] - 0s 1ms/step - loss: 125.3614 - mae: 8.4846 - mse: 125.3614\n",
      "Epoch 5/20\n",
      "123/123 [==============================] - 0s 1ms/step - loss: 119.1409 - mae: 8.2757 - mse: 119.1409\n",
      "Epoch 6/20\n",
      "123/123 [==============================] - 0s 1ms/step - loss: 108.5726 - mae: 7.9439 - mse: 108.5726\n",
      "Epoch 7/20\n",
      "123/123 [==============================] - 0s 1ms/step - loss: 91.6437 - mae: 7.3784 - mse: 91.6437\n",
      "Epoch 8/20\n",
      "123/123 [==============================] - 0s 1ms/step - loss: 73.5388 - mae: 6.6493 - mse: 73.5388\n",
      "Epoch 9/20\n",
      "123/123 [==============================] - 0s 1ms/step - loss: 63.3825 - mae: 6.1736 - mse: 63.3825\n",
      "Epoch 10/20\n",
      "123/123 [==============================] - 0s 1ms/step - loss: 60.5460 - mae: 6.0266 - mse: 60.5460\n",
      "Epoch 11/20\n",
      "123/123 [==============================] - 0s 1ms/step - loss: 59.7782 - mae: 5.9855 - mse: 59.7782\n",
      "Epoch 12/20\n",
      "123/123 [==============================] - 0s 1ms/step - loss: 58.9660 - mae: 5.9346 - mse: 58.9660\n",
      "Epoch 13/20\n",
      "123/123 [==============================] - 0s 1ms/step - loss: 58.8698 - mae: 5.9337 - mse: 58.8698\n",
      "Epoch 14/20\n",
      "123/123 [==============================] - 0s 1ms/step - loss: 58.6036 - mae: 5.9133 - mse: 58.6036\n",
      "Epoch 15/20\n",
      "123/123 [==============================] - 0s 1ms/step - loss: 57.9286 - mae: 5.8693 - mse: 57.9286\n",
      "Epoch 16/20\n",
      "123/123 [==============================] - 0s 1ms/step - loss: 57.6566 - mae: 5.8510 - mse: 57.6566\n",
      "Epoch 17/20\n",
      "123/123 [==============================] - 0s 1ms/step - loss: 57.5763 - mae: 5.8669 - mse: 57.5763\n",
      "Epoch 18/20\n",
      "123/123 [==============================] - 0s 1ms/step - loss: 57.4903 - mae: 5.8276 - mse: 57.4903\n",
      "Epoch 19/20\n",
      "123/123 [==============================] - 0s 1ms/step - loss: 56.7210 - mae: 5.7981 - mse: 56.7210\n",
      "Epoch 20/20\n",
      "123/123 [==============================] - 0s 1ms/step - loss: 57.2557 - mae: 5.8056 - mse: 57.2557\n"
     ]
    }
   ],
   "source": [
    "history = model.fit(X_train,y_train,epochs=20,verbose=1)"
   ]
  },
  {
   "cell_type": "code",
   "execution_count": 44,
   "metadata": {},
   "outputs": [
    {
     "data": {
      "image/png": "[encoded data removed]",
      "text/plain": [
       "<Figure size 640x480 with 1 Axes>"
      ]
     },
     "metadata": {},
     "output_type": "display_data"
    }
   ],
   "source": [
    "plt.plot(history.history[\"mse\"])\n",
    "plt.gca().set(xlabel=\"epoch\",ylabel=\"mse\")\n",
    "plt.show()"
   ]
  },
  {
   "cell_type": "code",
   "execution_count": 45,
   "metadata": {},
   "outputs": [
    {
     "name": "stdout",
     "output_type": "stream",
     "text": [
      "53/53 - 0s - loss: 56.2162 - mae: 5.7996 - mse: 56.2162 - 183ms/epoch - 3ms/step\n"
     ]
    },
    {
     "data": {
      "text/plain": [
       "[56.21615219116211, 5.7996439933776855, 56.21615219116211]"
      ]
     },
     "execution_count": 45,
     "metadata": {},
     "output_type": "execute_result"
    }
   ],
   "source": [
    "model.evaluate(X_test,y_test,verbose=2)"
   ]
  },
  {
   "cell_type": "code",
   "execution_count": 46,
   "metadata": {},
   "outputs": [
    {
     "name": "stdout",
     "output_type": "stream",
     "text": [
      "53/53 [==============================] - 0s 824us/step\n"
     ]
    }
   ],
   "source": [
    "predictions = model.predict(X_test)"
   ]
  },
  {
   "cell_type": "code",
   "execution_count": 47,
   "metadata": {},
   "outputs": [
    {
     "data": {
      "text/plain": [
       "(array([[-10.747239 ,  56.46058  ],\n",
       "        [-14.54009  ,  47.716843 ],\n",
       "        [ 27.034634 ,  55.882446 ],\n",
       "        ...,\n",
       "        [  7.7232423,  46.98735  ],\n",
       "        [ 19.454964 ,  58.619644 ],\n",
       "        [ 11.400147 ,  53.64257  ]], dtype=float32),\n",
       " array([[  6.8333335,  50.       ],\n",
       "        [-24.333334 ,  53.75     ],\n",
       "        [ 27.5      ,  56.8      ],\n",
       "        ...,\n",
       "        [ -5.2      ,  38.9      ],\n",
       "        [ 13.125    ,  59.       ],\n",
       "        [ -2.3      ,  58.25     ]], dtype=float32))"
      ]
     },
     "execution_count": 47,
     "metadata": {},
     "output_type": "execute_result"
    }
   ],
   "source": [
    "predictions,y_test"
   ]
  },
  {
   "cell_type": "code",
   "execution_count": 48,
   "metadata": {},
   "outputs": [
    {
     "data": {
      "text/plain": [
       "array([[  6.8333335,  50.       ],\n",
       "       [-24.333334 ,  53.75     ],\n",
       "       [ 27.5      ,  56.8      ],\n",
       "       ...,\n",
       "       [ -5.2      ,  38.9      ],\n",
       "       [ 13.125    ,  59.       ],\n",
       "       [ -2.3      ,  58.25     ]], dtype=float32)"
      ]
     },
     "execution_count": 48,
     "metadata": {},
     "output_type": "execute_result"
    }
   ],
   "source": [
    "y_test"
   ]
  },
  {
   "cell_type": "code",
   "execution_count": 49,
   "metadata": {},
   "outputs": [
    {
     "name": "stdout",
     "output_type": "stream",
     "text": [
      "Epoch 1/20\n",
      "123/123 [==============================] - 1s 1ms/step - loss: 200.7286 - mae: 11.1725 - mse: 200.7286\n",
      "Epoch 2/20\n",
      "123/123 [==============================] - 0s 1ms/step - loss: 163.6556 - mae: 10.0521 - mse: 163.6556\n",
      "Epoch 3/20\n",
      "123/123 [==============================] - 0s 1ms/step - loss: 99.7952 - mae: 7.7220 - mse: 99.7952\n",
      "Epoch 4/20\n",
      "123/123 [==============================] - 0s 1ms/step - loss: 74.8019 - mae: 6.6354 - mse: 74.8019\n",
      "Epoch 5/20\n",
      "123/123 [==============================] - 0s 1ms/step - loss: 74.6286 - mae: 6.6224 - mse: 74.6286\n",
      "Epoch 6/20\n",
      "123/123 [==============================] - 0s 1ms/step - loss: 72.9265 - mae: 6.5083 - mse: 72.9265\n",
      "Epoch 7/20\n",
      "123/123 [==============================] - 0s 1ms/step - loss: 72.0657 - mae: 6.4657 - mse: 72.0657\n",
      "Epoch 8/20\n",
      "123/123 [==============================] - 0s 1ms/step - loss: 71.8965 - mae: 6.4612 - mse: 71.8965\n",
      "Epoch 9/20\n",
      "123/123 [==============================] - 0s 1ms/step - loss: 71.8766 - mae: 6.4379 - mse: 71.8766\n",
      "Epoch 10/20\n",
      "123/123 [==============================] - 0s 1ms/step - loss: 70.9135 - mae: 6.3903 - mse: 70.9135\n",
      "Epoch 11/20\n",
      "123/123 [==============================] - 0s 1ms/step - loss: 72.0108 - mae: 6.4347 - mse: 72.0108\n",
      "Epoch 12/20\n",
      "123/123 [==============================] - 0s 1ms/step - loss: 71.2372 - mae: 6.4232 - mse: 71.2372\n",
      "Epoch 13/20\n",
      "123/123 [==============================] - 0s 1ms/step - loss: 70.3051 - mae: 6.3772 - mse: 70.3051\n",
      "Epoch 14/20\n",
      "123/123 [==============================] - 0s 1ms/step - loss: 71.0853 - mae: 6.4272 - mse: 71.0853\n",
      "Epoch 15/20\n",
      "123/123 [==============================] - 0s 1ms/step - loss: 70.4548 - mae: 6.3843 - mse: 70.4548\n",
      "Epoch 16/20\n",
      "123/123 [==============================] - 0s 1ms/step - loss: 71.4820 - mae: 6.4189 - mse: 71.4820\n",
      "Epoch 17/20\n",
      "123/123 [==============================] - 0s 1ms/step - loss: 69.9867 - mae: 6.3402 - mse: 69.9867\n",
      "Epoch 18/20\n",
      "123/123 [==============================] - 0s 1ms/step - loss: 69.7026 - mae: 6.3328 - mse: 69.7026\n",
      "Epoch 19/20\n",
      "123/123 [==============================] - 0s 1ms/step - loss: 69.6368 - mae: 6.3356 - mse: 69.6368\n",
      "Epoch 20/20\n",
      "123/123 [==============================] - 0s 1ms/step - loss: 69.4063 - mae: 6.3039 - mse: 69.4063\n",
      "Epoch 1/20\n",
      "123/123 [==============================] - 1s 1ms/step - loss: 1203.9459 - mae: 28.2474 - mse: 1203.9459\n",
      "Epoch 2/20\n",
      "123/123 [==============================] - 0s 1ms/step - loss: 55.2631 - mae: 5.9695 - mse: 55.2631\n",
      "Epoch 3/20\n",
      "123/123 [==============================] - 0s 1ms/step - loss: 54.8128 - mae: 5.9557 - mse: 54.8128\n",
      "Epoch 4/20\n",
      "123/123 [==============================] - 0s 1ms/step - loss: 54.4400 - mae: 5.9208 - mse: 54.4400\n",
      "Epoch 5/20\n",
      "123/123 [==============================] - 0s 1ms/step - loss: 53.6700 - mae: 5.8941 - mse: 53.6700\n",
      "Epoch 6/20\n",
      "123/123 [==============================] - 0s 1ms/step - loss: 53.1899 - mae: 5.8502 - mse: 53.1899\n",
      "Epoch 7/20\n",
      "123/123 [==============================] - 0s 1ms/step - loss: 52.6141 - mae: 5.8092 - mse: 52.6141\n",
      "Epoch 8/20\n",
      "123/123 [==============================] - 0s 1ms/step - loss: 51.7153 - mae: 5.7696 - mse: 51.7153\n",
      "Epoch 9/20\n",
      "123/123 [==============================] - 0s 1ms/step - loss: 51.0551 - mae: 5.7366 - mse: 51.0551\n",
      "Epoch 10/20\n",
      "123/123 [==============================] - 0s 1ms/step - loss: 50.4554 - mae: 5.6922 - mse: 50.4554\n",
      "Epoch 11/20\n",
      "123/123 [==============================] - 0s 1ms/step - loss: 49.7559 - mae: 5.6561 - mse: 49.7559\n",
      "Epoch 12/20\n",
      "123/123 [==============================] - 0s 1ms/step - loss: 48.8525 - mae: 5.5844 - mse: 48.8525\n",
      "Epoch 13/20\n",
      "123/123 [==============================] - 0s 1ms/step - loss: 48.0524 - mae: 5.5398 - mse: 48.0524\n",
      "Epoch 14/20\n",
      "123/123 [==============================] - 0s 1ms/step - loss: 47.2690 - mae: 5.4911 - mse: 47.2690\n",
      "Epoch 15/20\n",
      "123/123 [==============================] - 0s 1ms/step - loss: 46.5262 - mae: 5.4346 - mse: 46.5262\n",
      "Epoch 16/20\n",
      "123/123 [==============================] - 0s 1ms/step - loss: 45.9902 - mae: 5.4088 - mse: 45.9902\n",
      "Epoch 17/20\n",
      "123/123 [==============================] - 0s 1ms/step - loss: 45.0697 - mae: 5.3437 - mse: 45.0697\n",
      "Epoch 18/20\n",
      "123/123 [==============================] - 0s 1ms/step - loss: 44.2645 - mae: 5.3065 - mse: 44.2645\n",
      "Epoch 19/20\n",
      "123/123 [==============================] - 0s 1ms/step - loss: 43.7255 - mae: 5.2589 - mse: 43.7255\n",
      "Epoch 20/20\n",
      "123/123 [==============================] - 0s 1ms/step - loss: 43.6299 - mae: 5.2641 - mse: 43.6299\n"
     ]
    }
   ],
   "source": [
    "model1spread = tf.keras.models.Sequential([\n",
    "    layers.Dense(50,input_shape=(X_train.shape[1],),activation='relu'),\n",
    "    layers.Dense(50,activation='relu'),\n",
    "    layers.Dense(1)\n",
    "])\n",
    "\n",
    "model1pts = tf.keras.models.Sequential([\n",
    "    layers.Dense(50,input_shape=(X_train.shape[1],),activation='relu'),\n",
    "    layers.Dense(50,activation='relu'),\n",
    "    layers.Dense(1)\n",
    "])\n",
    "\n",
    "model1spread.compile(optimizer='adam',\n",
    "                     loss='mse',\n",
    "                     metrics=['mae','mse'])\n",
    "model1pts.compile(optimizer='adam',\n",
    "                  loss='mse',\n",
    "                  metrics=['mae','mse'])\n",
    "\n",
    "history1spread = model1spread.fit(X_train,y_train[:,0],epochs=20,verbose=1)\n",
    "history1pts = model1pts.fit(X_train,y_train[:,1],epochs=20,verbose=1)\n",
    "\n"
   ]
  },
  {
   "cell_type": "code",
   "execution_count": 50,
   "metadata": {},
   "outputs": [
    {
     "name": "stdout",
     "output_type": "stream",
     "text": [
      "Epoch 1/10\n",
      "123/123 [==============================] - 0s 1ms/step - loss: 70.5664 - mae: 6.3716 - mse: 70.5664\n",
      "Epoch 2/10\n",
      "123/123 [==============================] - 0s 1ms/step - loss: 69.3164 - mae: 6.3184 - mse: 69.3164\n",
      "Epoch 3/10\n",
      "123/123 [==============================] - 0s 1ms/step - loss: 70.4826 - mae: 6.3735 - mse: 70.4826\n",
      "Epoch 4/10\n",
      "123/123 [==============================] - 0s 1ms/step - loss: 69.7398 - mae: 6.3324 - mse: 69.7398\n",
      "Epoch 5/10\n",
      "123/123 [==============================] - 0s 1ms/step - loss: 70.6636 - mae: 6.3839 - mse: 70.6636\n",
      "Epoch 6/10\n",
      "123/123 [==============================] - 0s 1ms/step - loss: 69.2979 - mae: 6.2973 - mse: 69.2979\n",
      "Epoch 7/10\n",
      "123/123 [==============================] - 0s 2ms/step - loss: 69.8719 - mae: 6.3604 - mse: 69.8719\n",
      "Epoch 8/10\n",
      "123/123 [==============================] - 0s 1ms/step - loss: 69.1964 - mae: 6.3044 - mse: 69.1964\n",
      "Epoch 9/10\n",
      "123/123 [==============================] - 0s 2ms/step - loss: 70.0831 - mae: 6.3532 - mse: 70.0831\n",
      "Epoch 10/10\n",
      "123/123 [==============================] - 0s 2ms/step - loss: 69.0850 - mae: 6.3152 - mse: 69.0850\n",
      "Epoch 1/10\n",
      "123/123 [==============================] - 0s 2ms/step - loss: 43.1587 - mae: 5.2226 - mse: 43.1587\n",
      "Epoch 2/10\n",
      "123/123 [==============================] - 0s 2ms/step - loss: 43.0557 - mae: 5.2193 - mse: 43.0557\n",
      "Epoch 3/10\n",
      "123/123 [==============================] - 0s 1ms/step - loss: 43.2302 - mae: 5.2245 - mse: 43.2302\n",
      "Epoch 4/10\n",
      "123/123 [==============================] - 0s 1ms/step - loss: 42.5945 - mae: 5.1859 - mse: 42.5945\n",
      "Epoch 5/10\n",
      "123/123 [==============================] - 0s 2ms/step - loss: 42.1878 - mae: 5.1705 - mse: 42.1878\n",
      "Epoch 6/10\n",
      "123/123 [==============================] - 0s 1ms/step - loss: 41.5453 - mae: 5.1230 - mse: 41.5453\n",
      "Epoch 7/10\n",
      "123/123 [==============================] - 0s 1ms/step - loss: 41.7539 - mae: 5.1358 - mse: 41.7539\n",
      "Epoch 8/10\n",
      "123/123 [==============================] - 0s 1ms/step - loss: 41.4510 - mae: 5.1219 - mse: 41.4510\n",
      "Epoch 9/10\n",
      "123/123 [==============================] - 0s 1ms/step - loss: 41.1633 - mae: 5.0953 - mse: 41.1633\n",
      "Epoch 10/10\n",
      "123/123 [==============================] - 0s 1ms/step - loss: 41.2945 - mae: 5.1073 - mse: 41.2945\n"
     ]
    }
   ],
   "source": [
    "history1spread = model1spread.fit(X_train,y_train[:,0],epochs=10,verbose=1)\n",
    "history1pts = model1pts.fit(X_train,y_train[:,1],epochs=10,verbose=1)"
   ]
  },
  {
   "cell_type": "code",
   "execution_count": 51,
   "metadata": {},
   "outputs": [
    {
     "name": "stdout",
     "output_type": "stream",
     "text": [
      "Epoch 1/10\n",
      "123/123 [==============================] - 0s 1ms/step - loss: 40.8802 - mae: 5.0689 - mse: 40.8802\n",
      "Epoch 2/10\n",
      "123/123 [==============================] - 0s 1ms/step - loss: 40.9339 - mae: 5.0792 - mse: 40.9339\n",
      "Epoch 3/10\n",
      "123/123 [==============================] - 0s 1ms/step - loss: 40.6353 - mae: 5.0620 - mse: 40.6353\n",
      "Epoch 4/10\n",
      "123/123 [==============================] - 0s 1ms/step - loss: 40.2788 - mae: 5.0404 - mse: 40.2788\n",
      "Epoch 5/10\n",
      "123/123 [==============================] - 0s 1ms/step - loss: 40.1043 - mae: 5.0278 - mse: 40.1043\n",
      "Epoch 6/10\n",
      "123/123 [==============================] - 0s 1ms/step - loss: 40.2586 - mae: 5.0355 - mse: 40.2586\n",
      "Epoch 7/10\n",
      "123/123 [==============================] - 0s 1ms/step - loss: 39.8552 - mae: 5.0114 - mse: 39.8552\n",
      "Epoch 8/10\n",
      "123/123 [==============================] - 0s 1ms/step - loss: 40.0628 - mae: 5.0291 - mse: 40.0628\n",
      "Epoch 9/10\n",
      "123/123 [==============================] - 0s 1ms/step - loss: 39.5336 - mae: 4.9788 - mse: 39.5336\n",
      "Epoch 10/10\n",
      "123/123 [==============================] - 0s 1ms/step - loss: 40.0501 - mae: 5.0211 - mse: 40.0501\n"
     ]
    }
   ],
   "source": [
    "history1pts = model1pts.fit(X_train,y_train[:,1],epochs=10,verbose=1)"
   ]
  },
  {
   "cell_type": "code",
   "execution_count": 61,
   "metadata": {},
   "outputs": [
    {
     "data": {
      "image/png": "[encoded data removed]",
      "text/plain": [
       "<Figure size 640x480 with 1 Axes>"
      ]
     },
     "metadata": {},
     "output_type": "display_data"
    }
   ],
   "source": [
    "plt.plot(history1spread.history[\"mse\"])\n",
    "plt.gca().set(xlabel=\"epoch\",ylabel=\"mse\")\n",
    "plt.title(\"Model for Point Spread in epoch=20-30\")\n",
    "plt.ylabel(\"Mean Squared Error\")\n",
    "plt.show()"
   ]
  },
  {
   "cell_type": "code",
   "execution_count": 63,
   "metadata": {},
   "outputs": [
    {
     "data": {
      "image/png": "[encoded data removed]",
      "text/plain": [
       "<Figure size 640x480 with 1 Axes>"
      ]
     },
     "metadata": {},
     "output_type": "display_data"
    }
   ],
   "source": [
    "plt.plot(history1pts.history[\"mse\"])\n",
    "plt.gca().set(xlabel=\"epoch\",ylabel=\"mse\")\n",
    "plt.title(\"Model for Total Points in epoch=30-40\")\n",
    "plt.ylabel(\"Mean Squared Error\")\n",
    "plt.show()"
   ]
  },
  {
   "cell_type": "code",
   "execution_count": 54,
   "metadata": {},
   "outputs": [
    {
     "name": "stdout",
     "output_type": "stream",
     "text": [
      "53/53 - 0s - loss: 68.1074 - mae: 6.3482 - mse: 68.1074 - 163ms/epoch - 3ms/step\n"
     ]
    },
    {
     "data": {
      "text/plain": [
       "[68.1074447631836, 6.348163604736328, 68.1074447631836]"
      ]
     },
     "execution_count": 54,
     "metadata": {},
     "output_type": "execute_result"
    }
   ],
   "source": [
    "model1spread.evaluate(X_test,y_test[:,0],verbose=2)"
   ]
  },
  {
   "cell_type": "code",
   "execution_count": 55,
   "metadata": {},
   "outputs": [
    {
     "name": "stdout",
     "output_type": "stream",
     "text": [
      "53/53 [==============================] - 0s 1ms/step - loss: 40.5177 - mae: 5.0284 - mse: 40.5177\n"
     ]
    },
    {
     "data": {
      "text/plain": [
       "[40.517669677734375, 5.028443336486816, 40.517669677734375]"
      ]
     },
     "execution_count": 55,
     "metadata": {},
     "output_type": "execute_result"
    }
   ],
   "source": [
    "model1pts.evaluate(X_test,y_test[:,1],verbose=1)"
   ]
  },
  {
   "cell_type": "code",
   "execution_count": 56,
   "metadata": {},
   "outputs": [
    {
     "name": "stdout",
     "output_type": "stream",
     "text": [
      "53/53 [==============================] - 0s 939us/step\n",
      "53/53 [==============================] - 0s 1ms/step\n"
     ]
    }
   ],
   "source": [
    "predictions1spread = model1spread.predict(X_test)\n",
    "predictions1pts = model1pts.predict(X_test)"
   ]
  },
  {
   "cell_type": "code",
   "execution_count": 73,
   "metadata": {},
   "outputs": [
    {
     "data": {
      "text/plain": [
       "(array([[ 1.5508249 ],\n",
       "        [13.12046   ],\n",
       "        [ 0.11792536],\n",
       "        ...,\n",
       "        [-6.085545  ],\n",
       "        [-2.958588  ],\n",
       "        [-0.8835853 ]], dtype=float32),\n",
       " array([  2.      ,  12.666667, -20.833334, ...,  -7.25    ,  15.625   ,\n",
       "         -2.625   ], dtype=float32))"
      ]
     },
     "execution_count": 73,
     "metadata": {},
     "output_type": "execute_result"
    }
   ],
   "source": [
    "predictions1spread,y_betting[:,0]"
   ]
  },
  {
   "cell_type": "code",
   "execution_count": 57,
   "metadata": {},
   "outputs": [
    {
     "data": {
      "text/plain": [
       "(array([[57.238373],\n",
       "        [48.9372  ],\n",
       "        [57.336365],\n",
       "        ...,\n",
       "        [47.898643],\n",
       "        [58.925167],\n",
       "        [55.62523 ]], dtype=float32),\n",
       " array([62.  , 44.25, 57.75, ..., 64.  , 53.75, 32.  ], dtype=float32))"
      ]
     },
     "execution_count": 57,
     "metadata": {},
     "output_type": "execute_result"
    }
   ],
   "source": [
    "predictions1pts,y_betting[:,1]"
   ]
  },
  {
   "cell_type": "code",
   "execution_count": null,
   "metadata": {},
   "outputs": [],
   "source": [
    "predict_scores_df=df_merged[['away_points', 'home_points']] #predictions using scores not betting lines"
   ]
  },
  {
   "cell_type": "code",
   "execution_count": null,
   "metadata": {},
   "outputs": [],
   "source": [
    "y_scores=np.array(predict_scores_df,dtype=np.float32)  #use y_scores as y in model"
   ]
  },
  {
   "cell_type": "code",
   "execution_count": null,
   "metadata": {},
   "outputs": [],
   "source": [
    "X_train, X_test, y_train, y_test = train_test_split(X,y_scores,test_size=0.2)  #haven't run model yet\n",
    "X_train, X_val, y_train, y_val = train_test_split(X_train, y_train, test_size=0.125)"
   ]
  },
  {
   "cell_type": "code",
   "execution_count": null,
   "metadata": {},
   "outputs": [],
   "source": [
    "model2 = tf.keras.models.Sequential([\n",
    "    layers.Dense(100,input_shape=(X_train.shape[1],),activation='relu'),\n",
    "    layers.Dense(100,activation='relu'),\n",
    "    layers.Dense(2)\n",
    "])"
   ]
  },
  {
   "cell_type": "code",
   "execution_count": null,
   "metadata": {},
   "outputs": [],
   "source": [
    "model2.summary()"
   ]
  },
  {
   "cell_type": "code",
   "execution_count": null,
   "metadata": {},
   "outputs": [],
   "source": [
    "model2.compile(optimizer='adam',\n",
    "              loss='mse',\n",
    "              metrics=['mae','mse'])"
   ]
  },
  {
   "cell_type": "code",
   "execution_count": null,
   "metadata": {},
   "outputs": [],
   "source": [
    "history = model2.fit(X_train,y_train,epochs=30,verbose=1)"
   ]
  },
  {
   "cell_type": "code",
   "execution_count": null,
   "metadata": {},
   "outputs": [],
   "source": [
    "model2.evaluate(X_test,y_test,verbose=2)"
   ]
  },
  {
   "cell_type": "code",
   "execution_count": null,
   "metadata": {},
   "outputs": [],
   "source": [
    "score_predictions=model2.predict(X_test)"
   ]
  },
  {
   "cell_type": "code",
   "execution_count": null,
   "metadata": {},
   "outputs": [],
   "source": [
    "score_predictions, y_test"
   ]
  },
  {
   "cell_type": "code",
   "execution_count": null,
   "metadata": {},
   "outputs": [],
   "source": [
    "game_output=pd.DataFrame(score_predictions)\n",
    "game_output=game_output.rename(columns={0:'Predicted Away Score', 1:'Predicted Home Score'})\n",
    "game_output['Away Score']=predict_scores_df['away_points']\n",
    "game_output['Home Score']=predict_scores_df['home_points']\n",
    "game_output['Away Difference']=game_output['Predicted Away Score']-game_output['Away Score']\n",
    "game_output['Home Difference']=game_output['Predicted Home Score']-game_output['Home Score']\n",
    "game_output"
   ]
  },
  {
   "cell_type": "code",
   "execution_count": null,
   "metadata": {},
   "outputs": [],
   "source": [
    "away_sd=np.std(game_output['Away Difference'])\n",
    "home_sd=np.std(game_output['Home Difference'])\n",
    "\n",
    "game_output['Adjusted Away Score']=np.rint(np.random.normal(game_output['Predicted Away Score'],away_sd))\n",
    "game_output['Adjusted Home Score']=np.rint(np.random.normal(game_output['Predicted Home Score'],away_sd))"
   ]
  },
  {
   "cell_type": "code",
   "execution_count": null,
   "metadata": {},
   "outputs": [],
   "source": [
    "game_output"
   ]
  },
  {
   "cell_type": "code",
   "execution_count": null,
   "metadata": {},
   "outputs": [],
   "source": []
  }
 ],
 "metadata": {
  "kernelspec": {
   "display_name": "Python 3 (ipykernel)",
   "language": "python",
   "name": "python3"
  },
  "language_info": {
   "codemirror_mode": {
    "name": "ipython",
    "version": 3
   },
   "file_extension": ".py",
   "mimetype": "text/x-python",
   "name": "python",
   "nbconvert_exporter": "python",
   "pygments_lexer": "ipython3",
   "version": "3.9.12"
  }
 },
 "nbformat": 4,
 "nbformat_minor": 2
}

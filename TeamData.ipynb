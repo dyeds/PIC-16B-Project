{
 "cells": [
  {
   "cell_type": "code",
   "execution_count": 4,
   "metadata": {},
   "outputs": [],
   "source": [
    "import cfbd\n",
    "from cfbd.rest import ApiException\n",
    "from pprint import pprint\n",
    "import pandas as pd\n",
    "import sqlite3\n",
    "import DataFunctions\n",
    "\n",
    "\n",
    "configuration = cfbd.Configuration()\n",
    "configuration.api_key['Authorization'] = '3WCU5V2X05Rvh60ZxUG8FarJN4s2D1lcd2c2r6Kz/qL1Y3tVBJtWsuNATnzHRV2h'\n",
    "configuration.api_key_prefix['Authorization'] = 'Bearer'"
   ]
  },
  {
   "cell_type": "code",
   "execution_count": null,
   "metadata": {},
   "outputs": [],
   "source": []
  },
  {
   "cell_type": "markdown",
   "metadata": {},
   "source": [
    "## Transforming data to "
   ]
  },
  {
   "cell_type": "code",
   "execution_count": 5,
   "metadata": {},
   "outputs": [
    {
     "name": "stdout",
     "output_type": "stream",
     "text": [
      "<class 'cfbd.rest.ApiException'>\n"
     ]
    }
   ],
   "source": [
    "api_instance = cfbd.GamesApi(cfbd.ApiClient(configuration))\n",
    "year=2022\n",
    "division=\"fbs\"\n",
    "try:\n",
    "    api_response = api_instance.get_games(year=year,division=division)\n",
    "    print(len(api_response))\n",
    "except:\n",
    "    print(ApiException)\n",
    "    "
   ]
  },
  {
   "cell_type": "code",
   "execution_count": 3,
   "metadata": {},
   "outputs": [
    {
     "ename": "NameError",
     "evalue": "name 'api_response' is not defined",
     "output_type": "error",
     "traceback": [
      "\u001b[1;31m---------------------------------------------------------------------------\u001b[0m",
      "\u001b[1;31mNameError\u001b[0m                                 Traceback (most recent call last)",
      "Cell \u001b[1;32mIn[3], line 3\u001b[0m\n\u001b[0;32m      1\u001b[0m \u001b[39m#removing non fbs vs fbs games\u001b[39;00m\n\u001b[0;32m      2\u001b[0m i\u001b[39m=\u001b[39m\u001b[39m0\u001b[39m\n\u001b[1;32m----> 3\u001b[0m \u001b[39mwhile\u001b[39;00m i \u001b[39m<\u001b[39m \u001b[39mlen\u001b[39m(api_response):\n\u001b[0;32m      4\u001b[0m     \u001b[39mif\u001b[39;00m(api_response[i]\u001b[39m.\u001b[39mhome_division\u001b[39m==\u001b[39mapi_response[i]\u001b[39m.\u001b[39maway_division\u001b[39m==\u001b[39m\u001b[39m\"\u001b[39m\u001b[39mfbs\u001b[39m\u001b[39m\"\u001b[39m\n\u001b[0;32m      5\u001b[0m        \u001b[39mand\u001b[39;00m api_response[i]\u001b[39m.\u001b[39mcompleted\u001b[39m==\u001b[39m\u001b[39mTrue\u001b[39;00m\n\u001b[0;32m      6\u001b[0m        \u001b[39mand\u001b[39;00m api_response[i]\u001b[39m.\u001b[39mneutral_site\u001b[39m==\u001b[39m\u001b[39mFalse\u001b[39;00m):\n\u001b[0;32m      7\u001b[0m         i\u001b[39m+\u001b[39m\u001b[39m=\u001b[39m\u001b[39m1\u001b[39m\n",
      "\u001b[1;31mNameError\u001b[0m: name 'api_response' is not defined"
     ]
    }
   ],
   "source": [
    "#removing non fbs vs fbs games\n",
    "i=0\n",
    "while i < len(api_response):\n",
    "    if(api_response[i].home_division==api_response[i].away_division==\"fbs\"\n",
    "       and api_response[i].completed==True\n",
    "       and api_response[i].neutral_site==False):\n",
    "        i+=1\n",
    "        continue\n",
    "    else:\n",
    "        api_response.remove(api_response[i])\n",
    "\n",
    "print(len(api_response))"
   ]
  },
  {
   "cell_type": "code",
   "execution_count": null,
   "metadata": {},
   "outputs": [],
   "source": [
    "gamelist = DataFunctions.get_fbs_games(api_instance=api_instance,year=2022)\n",
    "len(gamelist)"
   ]
  },
  {
   "cell_type": "code",
   "execution_count": null,
   "metadata": {},
   "outputs": [],
   "source": [
    "game0 = api_response[0]\n",
    "game0str = str(game0).split(\"\\n\")\n",
    "game0str = [s[2:-1] for s in game0str]\n",
    "game0str = [s.replace(\"'\",\"\") for s in game0str]\n",
    "game0str = [s.split(\": \") for s in game0str]\n",
    "game0dict = {s[0]:s[1] for s in game0str}\n",
    "game0keys = list(game0dict.keys())"
   ]
  },
  {
   "cell_type": "code",
   "execution_count": null,
   "metadata": {},
   "outputs": [],
   "source": [
    "gamemetrics = ['away_conference','away_id','away_points','away_team',\n",
    " 'home_conference','home_id','home_points','home_team', 'id', 'season','neutral_site']"
   ]
  },
  {
   "cell_type": "code",
   "execution_count": null,
   "metadata": {},
   "outputs": [],
   "source": [
    "for k in (set(game0keys)-set(gamemetrics)):\n",
    "    game0dict.pop(k,None)\n",
    "\n",
    "game0dict"
   ]
  },
  {
   "cell_type": "code",
   "execution_count": null,
   "metadata": {},
   "outputs": [],
   "source": [
    "df_games = pd.DataFrame([game0dict])\n",
    "df_games = df.set_index('id')\n",
    "df_games = df.reset_index()\n",
    "df_games"
   ]
  },
  {
   "cell_type": "markdown",
   "metadata": {},
   "source": [
    "SPACE"
   ]
  },
  {
   "cell_type": "code",
   "execution_count": null,
   "metadata": {},
   "outputs": [],
   "source": [
    "api_instance1 = cfbd.BettingApi(cfbd.ApiClient(configuration))\n",
    "api_response1 = api_instance1.get_lines(year=year)"
   ]
  },
  {
   "cell_type": "code",
   "execution_count": null,
   "metadata": {},
   "outputs": [],
   "source": [
    "api_response1[0]"
   ]
  },
  {
   "cell_type": "code",
   "execution_count": null,
   "metadata": {},
   "outputs": [],
   "source": [
    "conferences=[]\n",
    "for game in api_response:\n",
    "    conferences.append(game.away_conference)\n",
    "conferences=set(conferences)\n",
    "\n",
    "conferences"
   ]
  },
  {
   "cell_type": "code",
   "execution_count": null,
   "metadata": {},
   "outputs": [],
   "source": [
    "i=0\n",
    "while i < len(api_response1):\n",
    "    if(api_response1[i].away_conference in conferences\n",
    "      and api_response1[i].home_conference in conferences):\n",
    "        i+=1\n",
    "        continue\n",
    "    else:\n",
    "        api_response1.remove(api_response1[i])\n",
    "\n",
    "api_response1[0]"
   ]
  },
  {
   "cell_type": "code",
   "execution_count": null,
   "metadata": {},
   "outputs": [],
   "source": []
  },
  {
   "cell_type": "code",
   "execution_count": null,
   "metadata": {},
   "outputs": [],
   "source": []
  }
 ],
 "metadata": {
  "kernelspec": {
   "display_name": "Python 3 (ipykernel)",
   "language": "python",
   "name": "python3"
  },
  "language_info": {
   "codemirror_mode": {
    "name": "ipython",
    "version": 3
   },
   "file_extension": ".py",
   "mimetype": "text/x-python",
   "name": "python",
   "nbconvert_exporter": "python",
   "pygments_lexer": "ipython3",
   "version": "3.9.12"
  }
 },
 "nbformat": 4,
 "nbformat_minor": 2
}

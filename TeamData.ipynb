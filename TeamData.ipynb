{
 "cells": [
  {
   "cell_type": "code",
   "execution_count": 1,
   "metadata": {},
   "outputs": [],
   "source": [
    "import cfbd\n",
    "from cfbd.rest import ApiException\n",
    "from pprint import pprint\n",
    "import pandas as pd\n",
    "import sqlite3\n",
    "#missing import of DataFunctions.py\n",
    "\n",
    "\n",
    "configuration = cfbd.Configuration()\n",
    "configuration.api_key['Authorization'] = '3WCU5V2X05Rvh60ZxUG8FarJN4s2D1lcd2c2r6Kz/qL1Y3tVBJtWsuNATnzHRV2h'\n",
    "configuration.api_key_prefix['Authorization'] = 'Bearer'"
   ]
  },
  {
   "cell_type": "code",
   "execution_count": null,
   "metadata": {},
   "outputs": [],
   "source": []
  },
  {
   "attachments": {},
   "cell_type": "markdown",
   "metadata": {},
   "source": [
    "## Transforming data to "
   ]
  },
  {
   "cell_type": "code",
   "execution_count": 2,
   "metadata": {},
   "outputs": [
    {
     "name": "stdout",
     "output_type": "stream",
     "text": [
      "858\n"
     ]
    }
   ],
   "source": [
    "api_instance = cfbd.GamesApi(cfbd.ApiClient(configuration))\n",
    "year=2022\n",
    "division=\"fbs\"\n",
    "try:\n",
    "    api_response = api_instance.get_games(year=year,division=division)\n",
    "    print(len(api_response))\n",
    "except:\n",
    "    print(ApiException)\n",
    "    "
   ]
  },
  {
   "cell_type": "code",
   "execution_count": 3,
   "metadata": {},
   "outputs": [
    {
     "name": "stdout",
     "output_type": "stream",
     "text": [
      "716\n"
     ]
    }
   ],
   "source": [
    "#removing non fbs vs fbs games\n",
    "i=0\n",
    "while i < len(api_response):\n",
    "    if(api_response[i].home_division==api_response[i].away_division==\"fbs\"\n",
    "       and api_response[i].completed==True\n",
    "       and api_response[i].neutral_site==False):\n",
    "        i+=1\n",
    "        continue\n",
    "    else:\n",
    "        api_response.remove(api_response[i])\n",
    "\n",
    "print(len(api_response))"
   ]
  },
  {
   "cell_type": "code",
   "execution_count": 13,
   "metadata": {},
   "outputs": [],
   "source": [
    "game0 = api_response[0]\n",
    "game0str = str(game0).split(\"\\n\")\n",
    "game0str = [s[2:-1] for s in game0str]\n",
    "game0str = [s.replace(\"'\",\"\") for s in game0str]\n",
    "game0str = [s.split(\": \") for s in game0str]\n",
    "game0dict = {s[0]:s[1] for s in game0str}\n",
    "game0keys = list(game0dict.keys())"
   ]
  },
  {
   "cell_type": "code",
   "execution_count": 10,
   "metadata": {},
   "outputs": [],
   "source": [
    "gamemetrics = ['away_conference','away_id','away_points','away_team',\n",
    " 'home_conference','home_id','home_points','home_team', 'id']"
   ]
  },
  {
   "cell_type": "code",
   "execution_count": 15,
   "metadata": {},
   "outputs": [
    {
     "data": {
      "text/plain": [
       "{'away_conference': 'FBS Independents',\n",
       " 'away_id': '41',\n",
       " 'away_points': '20',\n",
       " 'away_team': 'Connecticut',\n",
       " 'home_conference': 'Mountain West',\n",
       " 'home_id': '328',\n",
       " 'home_points': '31',\n",
       " 'home_team': 'Utah State',\n",
       " 'id': '401404146'}"
      ]
     },
     "execution_count": 15,
     "metadata": {},
     "output_type": "execute_result"
    }
   ],
   "source": [
    "for k in (set(game0keys)-set(gamemetrics)):\n",
    "    game0dict.pop(k,None)\n",
    "\n",
    "game0dict"
   ]
  },
  {
   "cell_type": "code",
   "execution_count": 33,
   "metadata": {},
   "outputs": [
    {
     "data": {
      "text/html": [
       "<div>\n",
       "<style scoped>\n",
       "    .dataframe tbody tr th:only-of-type {\n",
       "        vertical-align: middle;\n",
       "    }\n",
       "\n",
       "    .dataframe tbody tr th {\n",
       "        vertical-align: top;\n",
       "    }\n",
       "\n",
       "    .dataframe thead th {\n",
       "        text-align: right;\n",
       "    }\n",
       "</style>\n",
       "<table border=\"1\" class=\"dataframe\">\n",
       "  <thead>\n",
       "    <tr style=\"text-align: right;\">\n",
       "      <th></th>\n",
       "      <th>id</th>\n",
       "      <th>away_conference</th>\n",
       "      <th>away_id</th>\n",
       "      <th>away_points</th>\n",
       "      <th>away_team</th>\n",
       "      <th>home_conference</th>\n",
       "      <th>home_id</th>\n",
       "      <th>home_points</th>\n",
       "      <th>home_team</th>\n",
       "    </tr>\n",
       "  </thead>\n",
       "  <tbody>\n",
       "    <tr>\n",
       "      <th>0</th>\n",
       "      <td>401404146</td>\n",
       "      <td>FBS Independents</td>\n",
       "      <td>41</td>\n",
       "      <td>20</td>\n",
       "      <td>Connecticut</td>\n",
       "      <td>Mountain West</td>\n",
       "      <td>328</td>\n",
       "      <td>31</td>\n",
       "      <td>Utah State</td>\n",
       "    </tr>\n",
       "  </tbody>\n",
       "</table>\n",
       "</div>"
      ],
      "text/plain": [
       "          id   away_conference away_id away_points    away_team  \\\n",
       "0  401404146  FBS Independents      41          20  Connecticut   \n",
       "\n",
       "  home_conference home_id home_points   home_team  \n",
       "0   Mountain West     328          31  Utah State  "
      ]
     },
     "execution_count": 33,
     "metadata": {},
     "output_type": "execute_result"
    }
   ],
   "source": [
    "df = pd.DataFrame([game0dict])\n",
    "df = df.set_index('id')\n",
    "df = df.reset_index()\n",
    "df"
   ]
  },
  {
   "attachments": {},
   "cell_type": "markdown",
   "metadata": {},
   "source": [
    "SPACE"
   ]
  },
  {
   "cell_type": "code",
   "execution_count": 7,
   "metadata": {},
   "outputs": [],
   "source": [
    "api_instance1 = cfbd.BettingApi(cfbd.ApiClient(configuration))\n",
    "api_response1 = api_instance1.get_lines(year=year)"
   ]
  }
 ],
 "metadata": {
  "kernelspec": {
   "display_name": "Python 3 (ipykernel)",
   "language": "python",
   "name": "python3"
  },
  "language_info": {
   "codemirror_mode": {
    "name": "ipython",
    "version": 3
   },
   "file_extension": ".py",
   "mimetype": "text/x-python",
   "name": "python",
   "nbconvert_exporter": "python",
   "pygments_lexer": "ipython3",
   "version": "3.11.2"
  }
 },
 "nbformat": 4,
 "nbformat_minor": 2
}

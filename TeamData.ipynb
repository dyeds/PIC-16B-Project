{
 "cells": [
  {
   "cell_type": "code",
   "execution_count": 23,
   "metadata": {},
   "outputs": [],
   "source": [
    "import cfbd\n",
    "from cfbd.rest import ApiException\n",
    "from pprint import pprint\n",
    "import pandas as pd\n",
    "import sqlite3\n",
    "import DataFunctions\n",
    "import numpy as np\n",
    "\n",
    "\n",
    "configuration = cfbd.Configuration()\n",
    "configuration.api_key['Authorization'] = '3WCU5V2X05Rvh60ZxUG8FarJN4s2D1lcd2c2r6Kz/qL1Y3tVBJtWsuNATnzHRV2h'\n",
    "configuration.api_key_prefix['Authorization'] = 'Bearer'"
   ]
  },
  {
   "cell_type": "markdown",
   "metadata": {},
   "source": [
    "## Data Preprocessing"
   ]
  },
  {
   "cell_type": "markdown",
   "metadata": {},
   "source": [
    "Games DF"
   ]
  },
  {
   "cell_type": "code",
   "execution_count": 24,
   "metadata": {},
   "outputs": [],
   "source": [
    "api_instance = cfbd.GamesApi(cfbd.ApiClient(configuration))\n",
    "year=2022\n",
    "division=\"fbs\"\n",
    "\n",
    "# no longer need, right?\n",
    "# try:\n",
    "#     api_response = api_instance.get_games(year=year,division=division)\n",
    "#     print(len(api_response))\n",
    "# except:\n",
    "#     print(ApiException)\n",
    "    "
   ]
  },
  {
   "cell_type": "code",
   "execution_count": 25,
   "metadata": {},
   "outputs": [
    {
     "data": {
      "text/plain": [
       "735"
      ]
     },
     "execution_count": 25,
     "metadata": {},
     "output_type": "execute_result"
    }
   ],
   "source": [
    "gamelist = DataFunctions.get_fbs_games(api_instance=api_instance,year=2022)\n",
    "len(gamelist)"
   ]
  },
  {
   "cell_type": "code",
   "execution_count": 26,
   "metadata": {},
   "outputs": [
    {
     "data": {
      "text/html": [
       "<div>\n",
       "<style scoped>\n",
       "    .dataframe tbody tr th:only-of-type {\n",
       "        vertical-align: middle;\n",
       "    }\n",
       "\n",
       "    .dataframe tbody tr th {\n",
       "        vertical-align: top;\n",
       "    }\n",
       "\n",
       "    .dataframe thead th {\n",
       "        text-align: right;\n",
       "    }\n",
       "</style>\n",
       "<table border=\"1\" class=\"dataframe\">\n",
       "  <thead>\n",
       "    <tr style=\"text-align: right;\">\n",
       "      <th></th>\n",
       "      <th>id</th>\n",
       "      <th>season</th>\n",
       "      <th>neutral_site</th>\n",
       "      <th>home_id</th>\n",
       "      <th>home_team</th>\n",
       "      <th>home_conference</th>\n",
       "      <th>home_points</th>\n",
       "      <th>away_id</th>\n",
       "      <th>away_team</th>\n",
       "      <th>away_conference</th>\n",
       "      <th>away_points</th>\n",
       "      <th>game_spread</th>\n",
       "      <th>game_totalpts</th>\n",
       "    </tr>\n",
       "  </thead>\n",
       "  <tbody>\n",
       "    <tr>\n",
       "      <th>0</th>\n",
       "      <td>401405059</td>\n",
       "      <td>2022</td>\n",
       "      <td>True</td>\n",
       "      <td>77</td>\n",
       "      <td>Northwestern</td>\n",
       "      <td>Big Ten</td>\n",
       "      <td>31</td>\n",
       "      <td>158</td>\n",
       "      <td>Nebraska</td>\n",
       "      <td>Big Ten</td>\n",
       "      <td>28</td>\n",
       "      <td>3</td>\n",
       "      <td>59</td>\n",
       "    </tr>\n",
       "    <tr>\n",
       "      <th>1</th>\n",
       "      <td>401404146</td>\n",
       "      <td>2022</td>\n",
       "      <td>False</td>\n",
       "      <td>328</td>\n",
       "      <td>Utah State</td>\n",
       "      <td>Mountain West</td>\n",
       "      <td>31</td>\n",
       "      <td>41</td>\n",
       "      <td>Connecticut</td>\n",
       "      <td>FBS Independents</td>\n",
       "      <td>20</td>\n",
       "      <td>11</td>\n",
       "      <td>51</td>\n",
       "    </tr>\n",
       "    <tr>\n",
       "      <th>2</th>\n",
       "      <td>401405058</td>\n",
       "      <td>2022</td>\n",
       "      <td>False</td>\n",
       "      <td>356</td>\n",
       "      <td>Illinois</td>\n",
       "      <td>Big Ten</td>\n",
       "      <td>38</td>\n",
       "      <td>2751</td>\n",
       "      <td>Wyoming</td>\n",
       "      <td>Mountain West</td>\n",
       "      <td>6</td>\n",
       "      <td>32</td>\n",
       "      <td>44</td>\n",
       "    </tr>\n",
       "    <tr>\n",
       "      <th>3</th>\n",
       "      <td>401426530</td>\n",
       "      <td>2022</td>\n",
       "      <td>False</td>\n",
       "      <td>2226</td>\n",
       "      <td>Florida Atlantic</td>\n",
       "      <td>Conference USA</td>\n",
       "      <td>43</td>\n",
       "      <td>2429</td>\n",
       "      <td>Charlotte</td>\n",
       "      <td>Conference USA</td>\n",
       "      <td>13</td>\n",
       "      <td>30</td>\n",
       "      <td>56</td>\n",
       "    </tr>\n",
       "    <tr>\n",
       "      <th>4</th>\n",
       "      <td>401426531</td>\n",
       "      <td>2022</td>\n",
       "      <td>False</td>\n",
       "      <td>2638</td>\n",
       "      <td>UTEP</td>\n",
       "      <td>Conference USA</td>\n",
       "      <td>13</td>\n",
       "      <td>249</td>\n",
       "      <td>North Texas</td>\n",
       "      <td>Conference USA</td>\n",
       "      <td>31</td>\n",
       "      <td>-18</td>\n",
       "      <td>44</td>\n",
       "    </tr>\n",
       "  </tbody>\n",
       "</table>\n",
       "</div>"
      ],
      "text/plain": [
       "          id  season  neutral_site  home_id         home_team home_conference  \\\n",
       "0  401405059    2022          True       77      Northwestern         Big Ten   \n",
       "1  401404146    2022         False      328        Utah State   Mountain West   \n",
       "2  401405058    2022         False      356          Illinois         Big Ten   \n",
       "3  401426530    2022         False     2226  Florida Atlantic  Conference USA   \n",
       "4  401426531    2022         False     2638              UTEP  Conference USA   \n",
       "\n",
       "   home_points  away_id    away_team   away_conference  away_points  \\\n",
       "0           31      158     Nebraska           Big Ten           28   \n",
       "1           31       41  Connecticut  FBS Independents           20   \n",
       "2           38     2751      Wyoming     Mountain West            6   \n",
       "3           43     2429    Charlotte    Conference USA           13   \n",
       "4           13      249  North Texas    Conference USA           31   \n",
       "\n",
       "   game_spread  game_totalpts  \n",
       "0            3             59  \n",
       "1           11             51  \n",
       "2           32             44  \n",
       "3           30             56  \n",
       "4          -18             44  "
      ]
     },
     "execution_count": 26,
     "metadata": {},
     "output_type": "execute_result"
    }
   ],
   "source": [
    "games_df = DataFunctions.df_from_games(gamelist=gamelist)\n",
    "games_df.head()"
   ]
  },
  {
   "cell_type": "code",
   "execution_count": 27,
   "metadata": {},
   "outputs": [],
   "source": [
    "conn = sqlite3.connect(\"CollegeFootball.db\")\n",
    "games_df.to_sql(\"games\",conn,if_exists=\"replace\",index=False)\n",
    "conn.close()\n"
   ]
  },
  {
   "cell_type": "code",
   "execution_count": 28,
   "metadata": {},
   "outputs": [],
   "source": [
    "# we can see with this code that we can extract DF from SQL db\n",
    "\n",
    "# conn = sqlite3.connect(\"CollegeFootball.db\")\n",
    "# trialdf = pd.read_sql_query(\"SELECT * FROM games\",conn)\n",
    "# conn.close()\n",
    "# print(trialdf.shape)\n",
    "# trialdf.head()\n"
   ]
  },
  {
   "cell_type": "code",
   "execution_count": null,
   "metadata": {},
   "outputs": [],
   "source": []
  },
  {
   "cell_type": "markdown",
   "metadata": {},
   "source": [
    "Betting lines DF"
   ]
  },
  {
   "cell_type": "code",
   "execution_count": 29,
   "metadata": {},
   "outputs": [],
   "source": [
    "api_instance1 = cfbd.BettingApi(cfbd.ApiClient(configuration))"
   ]
  },
  {
   "cell_type": "code",
   "execution_count": 30,
   "metadata": {},
   "outputs": [
    {
     "data": {
      "text/plain": [
       "{'ACC',\n",
       " 'American Athletic',\n",
       " 'Big 12',\n",
       " 'Big Ten',\n",
       " 'Conference USA',\n",
       " 'FBS Independents',\n",
       " 'Mid-American',\n",
       " 'Mountain West',\n",
       " 'Pac-12',\n",
       " 'SEC',\n",
       " 'Sun Belt'}"
      ]
     },
     "execution_count": 30,
     "metadata": {},
     "output_type": "execute_result"
    }
   ],
   "source": [
    "conferences=[]\n",
    "for game in gamelist:\n",
    "    conferences.append(game.away_conference)\n",
    "conferences=set(conferences)\n",
    "\n",
    "conferences"
   ]
  },
  {
   "cell_type": "code",
   "execution_count": 31,
   "metadata": {},
   "outputs": [],
   "source": [
    "betting_list=DataFunctions.get_fbs_betting(api_instance=api_instance1,year=2022,conferences=conferences)"
   ]
  },
  {
   "cell_type": "code",
   "execution_count": 32,
   "metadata": {},
   "outputs": [
    {
     "name": "stderr",
     "output_type": "stream",
     "text": [
      "c:\\Users\\rodri\\anaconda3\\envs\\PIC16B\\Lib\\site-packages\\numpy\\core\\fromnumeric.py:3432: RuntimeWarning: Mean of empty slice.\n",
      "  return _methods._mean(a, axis=axis, dtype=dtype,\n",
      "c:\\Users\\rodri\\anaconda3\\envs\\PIC16B\\Lib\\site-packages\\numpy\\core\\_methods.py:190: RuntimeWarning: invalid value encountered in double_scalars\n",
      "  ret = ret.dtype.type(ret / rcount)\n"
     ]
    },
    {
     "data": {
      "text/html": [
       "<div>\n",
       "<style scoped>\n",
       "    .dataframe tbody tr th:only-of-type {\n",
       "        vertical-align: middle;\n",
       "    }\n",
       "\n",
       "    .dataframe tbody tr th {\n",
       "        vertical-align: top;\n",
       "    }\n",
       "\n",
       "    .dataframe thead th {\n",
       "        text-align: right;\n",
       "    }\n",
       "</style>\n",
       "<table border=\"1\" class=\"dataframe\">\n",
       "  <thead>\n",
       "    <tr style=\"text-align: right;\">\n",
       "      <th></th>\n",
       "      <th>id</th>\n",
       "      <th>av_spread</th>\n",
       "      <th>av_total</th>\n",
       "    </tr>\n",
       "  </thead>\n",
       "  <tbody>\n",
       "    <tr>\n",
       "      <th>0</th>\n",
       "      <td>401411101</td>\n",
       "      <td>-24.375</td>\n",
       "      <td>51.375</td>\n",
       "    </tr>\n",
       "    <tr>\n",
       "      <th>1</th>\n",
       "      <td>401404079</td>\n",
       "      <td>7.125</td>\n",
       "      <td>65.625</td>\n",
       "    </tr>\n",
       "    <tr>\n",
       "      <th>2</th>\n",
       "      <td>401403893</td>\n",
       "      <td>1.500</td>\n",
       "      <td>51.000</td>\n",
       "    </tr>\n",
       "    <tr>\n",
       "      <th>3</th>\n",
       "      <td>401404080</td>\n",
       "      <td>2.500</td>\n",
       "      <td>45.000</td>\n",
       "    </tr>\n",
       "    <tr>\n",
       "      <th>4</th>\n",
       "      <td>401404081</td>\n",
       "      <td>13.625</td>\n",
       "      <td>53.000</td>\n",
       "    </tr>\n",
       "    <tr>\n",
       "      <th>...</th>\n",
       "      <td>...</td>\n",
       "      <td>...</td>\n",
       "      <td>...</td>\n",
       "    </tr>\n",
       "    <tr>\n",
       "      <th>733</th>\n",
       "      <td>401403949</td>\n",
       "      <td>-22.500</td>\n",
       "      <td>47.375</td>\n",
       "    </tr>\n",
       "    <tr>\n",
       "      <th>734</th>\n",
       "      <td>401403952</td>\n",
       "      <td>29.000</td>\n",
       "      <td>46.500</td>\n",
       "    </tr>\n",
       "    <tr>\n",
       "      <th>735</th>\n",
       "      <td>401404114</td>\n",
       "      <td>-2.000</td>\n",
       "      <td>58.125</td>\n",
       "    </tr>\n",
       "    <tr>\n",
       "      <th>736</th>\n",
       "      <td>401403953</td>\n",
       "      <td>-22.625</td>\n",
       "      <td>66.875</td>\n",
       "    </tr>\n",
       "    <tr>\n",
       "      <th>737</th>\n",
       "      <td>401404132</td>\n",
       "      <td>20.000</td>\n",
       "      <td>42.000</td>\n",
       "    </tr>\n",
       "  </tbody>\n",
       "</table>\n",
       "<p>738 rows × 3 columns</p>\n",
       "</div>"
      ],
      "text/plain": [
       "            id  av_spread  av_total\n",
       "0    401411101    -24.375    51.375\n",
       "1    401404079      7.125    65.625\n",
       "2    401403893      1.500    51.000\n",
       "3    401404080      2.500    45.000\n",
       "4    401404081     13.625    53.000\n",
       "..         ...        ...       ...\n",
       "733  401403949    -22.500    47.375\n",
       "734  401403952     29.000    46.500\n",
       "735  401404114     -2.000    58.125\n",
       "736  401403953    -22.625    66.875\n",
       "737  401404132     20.000    42.000\n",
       "\n",
       "[738 rows x 3 columns]"
      ]
     },
     "execution_count": 32,
     "metadata": {},
     "output_type": "execute_result"
    }
   ],
   "source": [
    "betting_df=DataFunctions.df_betting_lines(betting_list)\n",
    "betting_df\n",
    "\n",
    "#warning seems to be since betting line -0.0 for one of the games but still stores value as 0 so should be fine"
   ]
  },
  {
   "cell_type": "code",
   "execution_count": 33,
   "metadata": {},
   "outputs": [],
   "source": [
    "conn=sqlite3.connect(\"CollegeFootball.db\")\n",
    "betting_df.to_sql(\"betting_lines\",conn,if_exists=\"replace\",index=False)\n",
    "conn.close()"
   ]
  },
  {
   "cell_type": "code",
   "execution_count": 34,
   "metadata": {},
   "outputs": [
    {
     "data": {
      "text/html": [
       "<div>\n",
       "<style scoped>\n",
       "    .dataframe tbody tr th:only-of-type {\n",
       "        vertical-align: middle;\n",
       "    }\n",
       "\n",
       "    .dataframe tbody tr th {\n",
       "        vertical-align: top;\n",
       "    }\n",
       "\n",
       "    .dataframe thead th {\n",
       "        text-align: right;\n",
       "    }\n",
       "</style>\n",
       "<table border=\"1\" class=\"dataframe\">\n",
       "  <thead>\n",
       "    <tr style=\"text-align: right;\">\n",
       "      <th></th>\n",
       "      <th>away_team</th>\n",
       "      <th>away_points</th>\n",
       "      <th>home_points</th>\n",
       "      <th>home_team</th>\n",
       "      <th>av_spread</th>\n",
       "      <th>av_total</th>\n",
       "    </tr>\n",
       "  </thead>\n",
       "  <tbody>\n",
       "    <tr>\n",
       "      <th>0</th>\n",
       "      <td>Nebraska</td>\n",
       "      <td>28</td>\n",
       "      <td>31</td>\n",
       "      <td>Northwestern</td>\n",
       "      <td>-12.375</td>\n",
       "      <td>52.250</td>\n",
       "    </tr>\n",
       "    <tr>\n",
       "      <th>1</th>\n",
       "      <td>Connecticut</td>\n",
       "      <td>20</td>\n",
       "      <td>31</td>\n",
       "      <td>Utah State</td>\n",
       "      <td>23.750</td>\n",
       "      <td>59.250</td>\n",
       "    </tr>\n",
       "    <tr>\n",
       "      <th>2</th>\n",
       "      <td>Wyoming</td>\n",
       "      <td>6</td>\n",
       "      <td>38</td>\n",
       "      <td>Illinois</td>\n",
       "      <td>14.000</td>\n",
       "      <td>42.750</td>\n",
       "    </tr>\n",
       "    <tr>\n",
       "      <th>3</th>\n",
       "      <td>Charlotte</td>\n",
       "      <td>13</td>\n",
       "      <td>43</td>\n",
       "      <td>Florida Atlantic</td>\n",
       "      <td>7.000</td>\n",
       "      <td>60.000</td>\n",
       "    </tr>\n",
       "    <tr>\n",
       "      <th>4</th>\n",
       "      <td>North Texas</td>\n",
       "      <td>31</td>\n",
       "      <td>13</td>\n",
       "      <td>UTEP</td>\n",
       "      <td>-1.375</td>\n",
       "      <td>52.875</td>\n",
       "    </tr>\n",
       "    <tr>\n",
       "      <th>...</th>\n",
       "      <td>...</td>\n",
       "      <td>...</td>\n",
       "      <td>...</td>\n",
       "      <td>...</td>\n",
       "      <td>...</td>\n",
       "      <td>...</td>\n",
       "    </tr>\n",
       "    <tr>\n",
       "      <th>730</th>\n",
       "      <td>LSU</td>\n",
       "      <td>30</td>\n",
       "      <td>50</td>\n",
       "      <td>Georgia</td>\n",
       "      <td>17.125</td>\n",
       "      <td>51.750</td>\n",
       "    </tr>\n",
       "    <tr>\n",
       "      <th>731</th>\n",
       "      <td>Fresno State</td>\n",
       "      <td>28</td>\n",
       "      <td>16</td>\n",
       "      <td>Boise State</td>\n",
       "      <td>3.000</td>\n",
       "      <td>54.750</td>\n",
       "    </tr>\n",
       "    <tr>\n",
       "      <th>732</th>\n",
       "      <td>Clemson</td>\n",
       "      <td>39</td>\n",
       "      <td>10</td>\n",
       "      <td>North Carolina</td>\n",
       "      <td>-7.250</td>\n",
       "      <td>64.000</td>\n",
       "    </tr>\n",
       "    <tr>\n",
       "      <th>733</th>\n",
       "      <td>Purdue</td>\n",
       "      <td>22</td>\n",
       "      <td>43</td>\n",
       "      <td>Michigan</td>\n",
       "      <td>15.625</td>\n",
       "      <td>53.750</td>\n",
       "    </tr>\n",
       "    <tr>\n",
       "      <th>734</th>\n",
       "      <td>Navy</td>\n",
       "      <td>17</td>\n",
       "      <td>20</td>\n",
       "      <td>Army</td>\n",
       "      <td>-2.625</td>\n",
       "      <td>32.000</td>\n",
       "    </tr>\n",
       "  </tbody>\n",
       "</table>\n",
       "<p>735 rows × 6 columns</p>\n",
       "</div>"
      ],
      "text/plain": [
       "        away_team  away_points  home_points         home_team  av_spread  \\\n",
       "0        Nebraska           28           31      Northwestern    -12.375   \n",
       "1     Connecticut           20           31        Utah State     23.750   \n",
       "2         Wyoming            6           38          Illinois     14.000   \n",
       "3       Charlotte           13           43  Florida Atlantic      7.000   \n",
       "4     North Texas           31           13              UTEP     -1.375   \n",
       "..            ...          ...          ...               ...        ...   \n",
       "730           LSU           30           50           Georgia     17.125   \n",
       "731  Fresno State           28           16       Boise State      3.000   \n",
       "732       Clemson           39           10    North Carolina     -7.250   \n",
       "733        Purdue           22           43          Michigan     15.625   \n",
       "734          Navy           17           20              Army     -2.625   \n",
       "\n",
       "     av_total  \n",
       "0      52.250  \n",
       "1      59.250  \n",
       "2      42.750  \n",
       "3      60.000  \n",
       "4      52.875  \n",
       "..        ...  \n",
       "730    51.750  \n",
       "731    54.750  \n",
       "732    64.000  \n",
       "733    53.750  \n",
       "734    32.000  \n",
       "\n",
       "[735 rows x 6 columns]"
      ]
     },
     "execution_count": 34,
     "metadata": {},
     "output_type": "execute_result"
    }
   ],
   "source": [
    "#sample merge dataframe\n",
    "\n",
    "cmd=\\\n",
    "\"\"\"\n",
    "SELECT G.away_team,G.away_points,G.home_points,G.home_team,B.av_spread,B.av_total\n",
    "FROM games G\n",
    "INNER JOIN betting_lines B ON G.id=B.id\n",
    "\"\"\"\n",
    "conn=sqlite3.connect(\"CollegeFootball.db\")\n",
    "test_merge=pd.read_sql_query(cmd,conn)\n",
    "conn.close() # do not forget this after query\n",
    "test_merge"
   ]
  },
  {
   "cell_type": "markdown",
   "metadata": {},
   "source": [
    "Team stats per season DF"
   ]
  },
  {
   "cell_type": "code",
   "execution_count": 35,
   "metadata": {},
   "outputs": [],
   "source": [
    "api_instance2 = cfbd.StatsApi(cfbd.ApiClient(configuration))"
   ]
  },
  {
   "cell_type": "code",
   "execution_count": 36,
   "metadata": {},
   "outputs": [],
   "source": [
    "teamstats = api_instance2.get_advanced_team_season_stats(year=year)"
   ]
  },
  {
   "cell_type": "code",
   "execution_count": 37,
   "metadata": {},
   "outputs": [
    {
     "data": {
      "text/plain": [
       "131"
      ]
     },
     "execution_count": 37,
     "metadata": {},
     "output_type": "execute_result"
    }
   ],
   "source": [
    "len(teamstats)"
   ]
  },
  {
   "cell_type": "code",
   "execution_count": 38,
   "metadata": {},
   "outputs": [],
   "source": [
    "teamstats = [{**{'team':t.team,'season':t.season,'conference':t.conference},\n",
    "                **DataFunctions.word_adder(word=\"Offensive\",dict=t.offense.to_dict()),\n",
    "                **DataFunctions.word_adder(word=\"Defensive\",dict=t.defense.to_dict())} for t in teamstats]\n"
   ]
  },
  {
   "cell_type": "code",
   "execution_count": 48,
   "metadata": {},
   "outputs": [
    {
     "data": {
      "text/plain": [
       "dict"
      ]
     },
     "execution_count": 48,
     "metadata": {},
     "output_type": "execute_result"
    }
   ],
   "source": [
    "teamstat0 = teamstats[0]\n",
    "type(teamstat0)"
   ]
  },
  {
   "cell_type": "code",
   "execution_count": 50,
   "metadata": {},
   "outputs": [
    {
     "data": {
      "text/plain": [
       "{'Defensive field_position',\n",
       " 'Defensive havoc',\n",
       " 'Defensive passing_downs',\n",
       " 'Defensive passing_plays',\n",
       " 'Defensive rushing_plays',\n",
       " 'Defensive standard_downs',\n",
       " 'Offensive field_position',\n",
       " 'Offensive havoc',\n",
       " 'Offensive passing_downs',\n",
       " 'Offensive passing_plays',\n",
       " 'Offensive rushing_plays',\n",
       " 'Offensive standard_downs'}"
      ]
     },
     "execution_count": 50,
     "metadata": {},
     "output_type": "execute_result"
    }
   ],
   "source": [
    "updaterkeys = set()\n",
    "for key,value in teamstat0.items():\n",
    "    if type(value)==type(teamstat0):\n",
    "        updaterkeys.add(key)\n",
    "        \n",
    "updaterkeys\n"
   ]
  },
  {
   "cell_type": "markdown",
   "metadata": {},
   "source": [
    "Merging tables to set up for NN"
   ]
  }
 ],
 "metadata": {
  "kernelspec": {
   "display_name": "Python 3 (ipykernel)",
   "language": "python",
   "name": "python3"
  },
  "language_info": {
   "codemirror_mode": {
    "name": "ipython",
    "version": 3
   },
   "file_extension": ".py",
   "mimetype": "text/x-python",
   "name": "python",
   "nbconvert_exporter": "python",
   "pygments_lexer": "ipython3",
   "version": "3.11.2"
  }
 },
 "nbformat": 4,
 "nbformat_minor": 2
}

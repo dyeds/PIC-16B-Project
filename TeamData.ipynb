{
 "cells": [
  {
   "cell_type": "code",
<<<<<<< Updated upstream
   "execution_count": 2,
=======
   "execution_count": 26,
>>>>>>> Stashed changes
   "metadata": {},
   "outputs": [],
   "source": [
    "import cfbd\n",
    "from cfbd.rest import ApiException\n",
    "from pprint import pprint\n",
    "import pandas as pd\n",
    "import sqlite3\n",
    "import DataFunctions\n",
    "\n",
    "\n",
    "configuration = cfbd.Configuration()\n",
    "configuration.api_key['Authorization'] = '3WCU5V2X05Rvh60ZxUG8FarJN4s2D1lcd2c2r6Kz/qL1Y3tVBJtWsuNATnzHRV2h'\n",
    "configuration.api_key_prefix['Authorization'] = 'Bearer'"
   ]
  },
  {
   "cell_type": "code",
   "execution_count": null,
   "metadata": {},
   "outputs": [],
   "source": []
  },
  {
   "cell_type": "markdown",
   "metadata": {},
   "source": [
    "## Transforming data to "
   ]
  },
  {
   "cell_type": "code",
<<<<<<< Updated upstream
   "execution_count": 3,
=======
   "execution_count": 27,
>>>>>>> Stashed changes
   "metadata": {},
   "outputs": [
    {
     "name": "stdout",
     "output_type": "stream",
     "text": [
      "858\n"
     ]
    }
   ],
   "source": [
    "api_instance = cfbd.GamesApi(cfbd.ApiClient(configuration))\n",
    "year=2022\n",
    "division=\"fbs\"\n",
    "try:\n",
    "    api_response = api_instance.get_games(year=year,division=division)\n",
    "    print(len(api_response))\n",
    "except:\n",
    "    print(ApiException)\n",
    "    "
   ]
  },
  {
   "cell_type": "code",
<<<<<<< Updated upstream
   "execution_count": 4,
=======
   "execution_count": 28,
>>>>>>> Stashed changes
   "metadata": {},
   "outputs": [
    {
     "name": "stdout",
     "output_type": "stream",
     "text": [
      "716\n"
     ]
    }
   ],
   "source": [
    "#removing non fbs vs fbs games\n",
    "i=0\n",
    "while i < len(api_response):\n",
    "    if(api_response[i].home_division==api_response[i].away_division==\"fbs\"\n",
    "       and api_response[i].completed==True\n",
    "       and api_response[i].neutral_site==False):\n",
    "        i+=1\n",
    "        continue\n",
    "    else:\n",
    "        api_response.remove(api_response[i])\n",
    "\n",
    "print(len(api_response))"
   ]
  },
  {
   "cell_type": "code",
<<<<<<< Updated upstream
   "execution_count": 5,
=======
   "execution_count": 35,
   "metadata": {},
   "outputs": [
    {
     "data": {
      "text/plain": [
       "716"
      ]
     },
     "execution_count": 35,
     "metadata": {},
     "output_type": "execute_result"
    }
   ],
   "source": [
    "trial_gamelist = DataFunctions.get_fbs_games(api_instance=api_instance,year=2022)\n",
    "len(trial_gamelist)"
   ]
  },
  {
   "cell_type": "code",
   "execution_count": 30,
>>>>>>> Stashed changes
   "metadata": {},
   "outputs": [],
   "source": [
    "game0 = api_response[0]\n",
    "game0str = str(game0).split(\"\\n\")\n",
    "game0str = [s[2:-1] for s in game0str]\n",
    "game0str = [s.replace(\"'\",\"\") for s in game0str]\n",
    "game0str = [s.split(\": \") for s in game0str]\n",
    "game0dict = {s[0]:s[1] for s in game0str}\n",
    "game0keys = list(game0dict.keys())"
   ]
  },
  {
   "cell_type": "code",
<<<<<<< Updated upstream
   "execution_count": 6,
=======
   "execution_count": 31,
>>>>>>> Stashed changes
   "metadata": {},
   "outputs": [],
   "source": [
    "gamemetrics = ['away_conference','away_id','away_points','away_team',\n",
<<<<<<< Updated upstream
    " 'home_conference','home_id','home_points','home_team', 'id', 'season']"
=======
    " 'home_conference','home_id','home_points','home_team', 'id','season']"
>>>>>>> Stashed changes
   ]
  },
  {
   "cell_type": "code",
<<<<<<< Updated upstream
   "execution_count": 7,
=======
   "execution_count": 32,
>>>>>>> Stashed changes
   "metadata": {},
   "outputs": [
    {
     "data": {
      "text/plain": [
<<<<<<< Updated upstream
       "{'away_conference': 'FBS Independents',\n",
       " 'away_id': '41',\n",
       " 'away_points': '20',\n",
       " 'away_team': 'Connecticut',\n",
       " 'home_conference': 'Mountain West',\n",
       " 'home_id': '328',\n",
       " 'home_points': '31',\n",
       " 'home_team': 'Utah State',\n",
       " 'id': '401404146',\n",
       " 'season': '2022'}"
      ]
     },
     "execution_count": 7,
=======
       "{'away_conference': 'Mountain West',\n",
       " 'away_id': '2751',\n",
       " 'away_points': '6',\n",
       " 'away_team': 'Wyoming',\n",
       " 'home_conference': 'Big Ten',\n",
       " 'home_id': '356',\n",
       " 'home_points': '38',\n",
       " 'home_team': 'Illinois',\n",
       " 'id': '401405058',\n",
       " 'season': '2022'}"
      ]
     },
     "execution_count": 32,
>>>>>>> Stashed changes
     "metadata": {},
     "output_type": "execute_result"
    }
   ],
   "source": [
    "for k in (set(game0keys)-set(gamemetrics)):\n",
    "    game0dict.pop(k,None)\n",
    "\n",
    "game0dict"
   ]
  },
  {
   "cell_type": "code",
   "execution_count": 8,
   "metadata": {},
   "outputs": [
    {
     "data": {
      "text/html": [
       "<div>\n",
       "<style scoped>\n",
       "    .dataframe tbody tr th:only-of-type {\n",
       "        vertical-align: middle;\n",
       "    }\n",
       "\n",
       "    .dataframe tbody tr th {\n",
       "        vertical-align: top;\n",
       "    }\n",
       "\n",
       "    .dataframe thead th {\n",
       "        text-align: right;\n",
       "    }\n",
       "</style>\n",
       "<table border=\"1\" class=\"dataframe\">\n",
       "  <thead>\n",
       "    <tr style=\"text-align: right;\">\n",
       "      <th></th>\n",
       "      <th>id</th>\n",
       "      <th>away_conference</th>\n",
       "      <th>away_id</th>\n",
       "      <th>away_points</th>\n",
       "      <th>away_team</th>\n",
       "      <th>home_conference</th>\n",
       "      <th>home_id</th>\n",
       "      <th>home_points</th>\n",
       "      <th>home_team</th>\n",
       "      <th>season</th>\n",
       "    </tr>\n",
       "  </thead>\n",
       "  <tbody>\n",
       "    <tr>\n",
       "      <th>0</th>\n",
       "      <td>401405058</td>\n",
       "      <td>Mountain West</td>\n",
<<<<<<< Updated upstream
       "      <td>328</td>\n",
       "      <td>31</td>\n",
       "      <td>Utah State</td>\n",
=======
       "      <td>2751</td>\n",
       "      <td>6</td>\n",
       "      <td>Wyoming</td>\n",
       "      <td>Big Ten</td>\n",
       "      <td>356</td>\n",
       "      <td>38</td>\n",
       "      <td>Illinois</td>\n",
>>>>>>> Stashed changes
       "      <td>2022</td>\n",
       "    </tr>\n",
       "  </tbody>\n",
       "</table>\n",
       "</div>"
      ],
      "text/plain": [
       "          id away_conference away_id away_points away_team home_conference  \\\n",
       "0  401405058   Mountain West    2751           6   Wyoming         Big Ten   \n",
       "\n",
<<<<<<< Updated upstream
       "  home_conference home_id home_points   home_team season  \n",
       "0   Mountain West     328          31  Utah State   2022  "
=======
       "  home_id home_points home_team season  \n",
       "0     356          38  Illinois   2022  "
>>>>>>> Stashed changes
      ]
     },
     "execution_count": 8,
     "metadata": {},
     "output_type": "execute_result"
    }
   ],
   "source": [
    "df_games = pd.DataFrame([game0dict])\n",
<<<<<<< Updated upstream
    "df_games = df.set_index('id')\n",
    "df_games = df.reset_index()\n",
=======
    "df_games = df_games.set_index('id')\n",
    "df_games = df_games.reset_index()\n",
>>>>>>> Stashed changes
    "df_games"
   ]
  },
  {
   "cell_type": "markdown",
   "metadata": {},
   "source": [
    "SPACE"
   ]
  },
  {
   "cell_type": "code",
<<<<<<< Updated upstream
   "execution_count": null,
=======
   "execution_count": 34,
>>>>>>> Stashed changes
   "metadata": {},
   "outputs": [],
   "source": [
    "api_instance1 = cfbd.BettingApi(cfbd.ApiClient(configuration))\n",
    "api_response1 = api_instance1.get_lines(year=year)"
   ]
  },
  {
   "cell_type": "code",
   "execution_count": 28,
   "metadata": {},
   "outputs": [
    {
     "data": {
      "text/plain": [
       "{'away_conference': 'ACC',\n",
       " 'away_score': 41,\n",
       " 'away_team': 'Clemson',\n",
       " 'home_conference': 'ACC',\n",
       " 'home_score': 10,\n",
       " 'home_team': 'Georgia Tech',\n",
       " 'id': 401411101,\n",
       " 'lines': [{'away_moneyline': -2000.0,\n",
       "            'formatted_spread': 'Clemson -24.5',\n",
       "            'home_moneyline': 950.0,\n",
       "            'over_under': 51.5,\n",
       "            'over_under_open': 51.0,\n",
       "            'provider': 'Bovada',\n",
       "            'spread': 24.5,\n",
       "            'spread_open': 21.0},\n",
       "           {'away_moneyline': None,\n",
       "            'formatted_spread': 'Clemson -24',\n",
       "            'home_moneyline': None,\n",
       "            'over_under': 51.5,\n",
       "            'over_under_open': None,\n",
       "            'provider': 'William Hill (New Jersey)',\n",
       "            'spread': 24.0,\n",
       "            'spread_open': None},\n",
       "           {'away_moneyline': None,\n",
       "            'formatted_spread': 'Clemson -24.5',\n",
       "            'home_moneyline': None,\n",
       "            'over_under': 51.5,\n",
       "            'over_under_open': None,\n",
       "            'provider': 'consensus',\n",
       "            'spread': 24.5,\n",
       "            'spread_open': None},\n",
       "           {'away_moneyline': None,\n",
       "            'formatted_spread': 'Clemson -24.5',\n",
       "            'home_moneyline': None,\n",
       "            'over_under': 51.0,\n",
       "            'over_under_open': None,\n",
       "            'provider': 'teamrankings',\n",
       "            'spread': 24.5,\n",
       "            'spread_open': None}],\n",
       " 'season': 2022,\n",
       " 'season_type': 'regular',\n",
       " 'start_date': '2022-09-06T00:00:00.000Z',\n",
       " 'week': 1}"
      ]
     },
     "execution_count": 28,
     "metadata": {},
     "output_type": "execute_result"
    }
   ],
   "source": [
    "api_response1[0]"
   ]
  },
  {
   "cell_type": "code",
   "execution_count": 27,
   "metadata": {},
   "outputs": [
    {
     "data": {
      "text/plain": [
       "{'ACC',\n",
       " 'American Athletic',\n",
       " 'Big 12',\n",
       " 'Big Ten',\n",
       " 'Conference USA',\n",
       " 'FBS Independents',\n",
       " 'Mid-American',\n",
       " 'Mountain West',\n",
       " 'Pac-12',\n",
       " 'SEC',\n",
       " 'Sun Belt'}"
      ]
     },
     "execution_count": 27,
     "metadata": {},
     "output_type": "execute_result"
    }
   ],
   "source": [
    "conferences=[]\n",
    "for game in api_response:\n",
    "    conferences.append(game.away_conference)\n",
    "conferences=set(conferences)\n",
    "\n",
    "conferences"
   ]
  },
  {
   "cell_type": "code",
   "execution_count": 39,
   "metadata": {},
   "outputs": [
    {
     "data": {
      "text/plain": [
       "{'away_conference': 'ACC',\n",
       " 'away_score': 41,\n",
       " 'away_team': 'Clemson',\n",
       " 'home_conference': 'ACC',\n",
       " 'home_score': 10,\n",
       " 'home_team': 'Georgia Tech',\n",
       " 'id': 401411101,\n",
       " 'lines': [{'away_moneyline': -2000.0,\n",
       "            'formatted_spread': 'Clemson -24.5',\n",
       "            'home_moneyline': 950.0,\n",
       "            'over_under': 51.5,\n",
       "            'over_under_open': 51.0,\n",
       "            'provider': 'Bovada',\n",
       "            'spread': 24.5,\n",
       "            'spread_open': 21.0},\n",
       "           {'away_moneyline': None,\n",
       "            'formatted_spread': 'Clemson -24',\n",
       "            'home_moneyline': None,\n",
       "            'over_under': 51.5,\n",
       "            'over_under_open': None,\n",
       "            'provider': 'William Hill (New Jersey)',\n",
       "            'spread': 24.0,\n",
       "            'spread_open': None},\n",
       "           {'away_moneyline': None,\n",
       "            'formatted_spread': 'Clemson -24.5',\n",
       "            'home_moneyline': None,\n",
       "            'over_under': 51.5,\n",
       "            'over_under_open': None,\n",
       "            'provider': 'consensus',\n",
       "            'spread': 24.5,\n",
       "            'spread_open': None},\n",
       "           {'away_moneyline': None,\n",
       "            'formatted_spread': 'Clemson -24.5',\n",
       "            'home_moneyline': None,\n",
       "            'over_under': 51.0,\n",
       "            'over_under_open': None,\n",
       "            'provider': 'teamrankings',\n",
       "            'spread': 24.5,\n",
       "            'spread_open': None}],\n",
       " 'season': 2022,\n",
       " 'season_type': 'regular',\n",
       " 'start_date': '2022-09-06T00:00:00.000Z',\n",
       " 'week': 1}"
      ]
     },
     "execution_count": 39,
     "metadata": {},
     "output_type": "execute_result"
    }
   ],
   "source": [
    "i=0\n",
    "while i < len(api_response1):\n",
    "    if(api_response1[i].away_conference in conferences\n",
    "      and api_response1[i].home_conference in conferences):\n",
    "        i+=1\n",
    "        continue\n",
    "    else:\n",
    "        api_response1.remove(api_response1[i])\n",
    "\n",
    "api_response1[0]"
   ]
  },
  {
   "cell_type": "code",
   "execution_count": null,
   "metadata": {},
   "outputs": [],
   "source": []
  },
  {
   "cell_type": "code",
   "execution_count": null,
   "metadata": {},
   "outputs": [],
   "source": []
  }
 ],
 "metadata": {
  "kernelspec": {
   "display_name": "Python 3 (ipykernel)",
   "language": "python",
   "name": "python3"
  },
  "language_info": {
   "codemirror_mode": {
    "name": "ipython",
    "version": 3
   },
   "file_extension": ".py",
   "mimetype": "text/x-python",
   "name": "python",
   "nbconvert_exporter": "python",
   "pygments_lexer": "ipython3",
   "version": "3.9.12"
  }
 },
 "nbformat": 4,
 "nbformat_minor": 2
}

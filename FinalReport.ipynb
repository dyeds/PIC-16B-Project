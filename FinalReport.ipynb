{
 "cells": [
  {
   "attachments": {},
   "cell_type": "markdown",
   "metadata": {},
   "source": [
    "# College Football Simulation with new pairing system\n",
    "### By Rodrigo Vargas and Daniel Yedidia\n",
    "Project for PIC-16B Python with Applications II, UCLA Spring 2023 <br>\n",
    "Github: https://github.com/dyeds/PIC-16B-Project"
   ]
  },
  {
   "cell_type": "code",
   "execution_count": null,
   "metadata": {},
   "outputs": [],
   "source": []
  },
  {
   "attachments": {},
   "cell_type": "markdown",
   "metadata": {},
   "source": [
    "Structure: (Tentative)\n",
    "\n",
    "1. Information & Credits: CollegeFootballData.com, https://www.reddit.com/r/CFB/comments/qq553i/what_would_college_football_look_like_under_a/ Post by u/dethwing_.\n",
    "2. Explanation of the project and how to use the notebook\n",
    "3. Data Acquisition and Preprocessing. Working with CFBD and BingMaps API's and storing locally on Database\n",
    "4. Model creation using Tensorflow. Creating various models and motives on why to use Betting Lines.\n",
    "5. Explanation and Implementation of Minimum Weight Matching Algorithm using Networkx for pairings and using distances.\n",
    "6. SQL Database with Simulated Games and other table creating Functions.\n",
    "7. Visualizations of Simulation using Plotly.\n",
    "8. Biases and Future Improvements for the project. "
   ]
  },
  {
   "attachments": {},
   "cell_type": "markdown",
   "metadata": {},
   "source": [
    "## Information & Credits"
   ]
  },
  {
   "cell_type": "code",
   "execution_count": null,
   "metadata": {},
   "outputs": [],
   "source": []
  },
  {
   "attachments": {},
   "cell_type": "markdown",
   "metadata": {},
   "source": [
    "## Project Explanations and Instructions"
   ]
  },
  {
   "cell_type": "code",
   "execution_count": null,
   "metadata": {},
   "outputs": [],
   "source": []
  },
  {
   "cell_type": "code",
   "execution_count": null,
   "metadata": {},
   "outputs": [],
   "source": [
    "#List of Imports here:\n",
    "import cfbd\n",
    "from cfbd.rest import ApiException\n"
   ]
  },
  {
   "attachments": {},
   "cell_type": "markdown",
   "metadata": {},
   "source": [
    "## Data Acquisition and Preprocessing"
   ]
  },
  {
   "attachments": {},
   "cell_type": "markdown",
   "metadata": {},
   "source": [
    "As explained before, we need College Football Data and Locations Data for the simulation, which will be obtained using CFBD and BingMaps API's. They typically require registering and getting an unique key, this is done to keep track of who and how many API calls are needed. Some API's may ask you to pay after certain number of calls, but for this project is not needed. <br>\n",
    "\n",
    "College football data is needed for all the simulation purposes, extracting all FBS teams and their season stats. First register on https://collegefootballdata.com/key to obtain a key and creating a configuration object with that data, we will be able to use the API."
   ]
  },
  {
   "cell_type": "code",
   "execution_count": null,
   "metadata": {},
   "outputs": [],
   "source": [
    "# import cfbd\n",
    "# from cfbd.rest import ApiException\n",
    "\n",
    "configuration = cfbd.Configuration()\n",
    "# configuration.api_key['Authorization'] = 'YOUR_KEY_HERE'\n",
    "configuration.api_key['Authorization'] = '3WCU5V2X05Rvh60ZxUG8FarJN4s2D1lcd2c2r6Kz/qL1Y3tVBJtWsuNATnzHRV2h'\n",
    "configuration.api_key_prefix['Authorization'] = 'Bearer'"
   ]
  },
  {
   "attachments": {},
   "cell_type": "markdown",
   "metadata": {},
   "source": [
    "Now we have to extract data from 3 classes: `GamesApi` which gives us data for all the games; `BettingApi` which gives us data for all the betting lines; and `StatsApi` which gives us the team season data.<br>\n",
    "\n",
    "In our predictive modelling, we are going to use a merge between game-data and team-data as our predictors, and betting lines data as our target. Down below is an example for data extraction, more detail was done on functions inside `DataFunctions.py` file. "
   ]
  },
  {
   "cell_type": "code",
   "execution_count": null,
   "metadata": {},
   "outputs": [],
   "source": [
    "api_instance = cfbd.GamesApi(cfbd.ApiClient(configuration))\n",
    "year=2022\n",
    "division=\"fbs\"\n",
    "\n",
    "# try:\n",
    "#     api_response = api_instance.get_games(year=year,division=division)\n",
    "#     print(len(api_response))\n",
    "# except:\n",
    "#     print(ApiException)"
   ]
  },
  {
   "attachments": {},
   "cell_type": "markdown",
   "metadata": {},
   "source": []
  },
  {
   "attachments": {},
   "cell_type": "markdown",
   "metadata": {},
   "source": [
    "## Predictive Model using Tensorflow"
   ]
  },
  {
   "cell_type": "code",
   "execution_count": null,
   "metadata": {},
   "outputs": [],
   "source": []
  },
  {
   "attachments": {},
   "cell_type": "markdown",
   "metadata": {},
   "source": [
    "## Pairing System using Minimum Weight Matching Algorithm"
   ]
  },
  {
   "cell_type": "code",
   "execution_count": null,
   "metadata": {},
   "outputs": [],
   "source": []
  },
  {
   "attachments": {},
   "cell_type": "markdown",
   "metadata": {},
   "source": [
    "## Simulated Results"
   ]
  },
  {
   "cell_type": "code",
   "execution_count": null,
   "metadata": {},
   "outputs": [],
   "source": []
  },
  {
   "attachments": {},
   "cell_type": "markdown",
   "metadata": {},
   "source": [
    "## Graphical Visualizations of Results"
   ]
  },
  {
   "cell_type": "code",
   "execution_count": null,
   "metadata": {},
   "outputs": [],
   "source": []
  },
  {
   "attachments": {},
   "cell_type": "markdown",
   "metadata": {},
   "source": [
    "## Further Improvements"
   ]
  },
  {
   "cell_type": "code",
   "execution_count": null,
   "metadata": {},
   "outputs": [],
   "source": []
  }
 ],
 "metadata": {
  "language_info": {
   "name": "python"
  },
  "orig_nbformat": 4
 },
 "nbformat": 4,
 "nbformat_minor": 2
}
